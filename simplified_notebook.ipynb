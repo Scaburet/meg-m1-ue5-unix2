{
 "cells": [
  {
   "cell_type": "markdown",
   "id": "78960e93",
   "metadata": {},
   "source": [
    "# RNA-seq Data Analysis Pipeline\n",
    "### Master Course - Tuesday 26/11/2024\n",
    "\n",
    "<div class=\"alert alert-info\">\n",
    "<b>Course Overview:</b><br>\n",
    "This notebook covers the essential steps of RNA-seq data analysis including:\n",
    "- Quality control of raw sequencing data\n",
    "- Read preprocessing and quality verification\n",
    "- Read mapping to reference genome\n",
    "</div>\n",
    "\n",
    "<div class=\"alert alert-warning\">\n",
    "<b>Resource Requirements:</b><br>\n",
    "- CPUs: 10\n",
    "- RAM: 6GB\n",
    "</div>\n",
    "\n",
    "<div class=\"alert alert-success\">\n",
    "<b>Data Locations:</b><br>\n",
    "- Raw Data: <code>/srv/data/meg-m2-rnaseq/Data/fastq/raw/</code>\n",
    "- Genome Annotation: <code>/srv/data/meg-m2-rnaseq/Genomes/Mmu/GRCm39/extracted/mouse genome_annotation-M35.gtf</code>\n",
    "- Fastp Results: <code>/srv/data/meg-m2-rnaseq/Results/fastp/</code>\n",
    "</div>"
   ]
  },
  {
   "cell_type": "markdown",
   "id": "253ea325",
   "metadata": {},
   "source": [
    "## 1. Environment Setup\n",
    "\n",
    "<div class=\"alert alert-info\">\n",
    "The required tools are pre-installed in the Plasmabio environment:\n",
    "- FastQC (v0.12.1) - Quality control\n",
    "- MultiQC (v1.13) - Aggregate reports\n",
    "- fastp (v0.23.1) - Read preprocessing\n",
    "- STAR (v2.7.11a) - Read mapping\n",
    "- samtools (v1.18) - BAM file handling\n",
    "</div>"
   ]
  },
  {
   "cell_type": "code",
   "execution_count": null,
   "id": "6e079eb6",
   "metadata": {},
   "outputs": [],
   "source": [
    "# Cell 1: Create working directories\n",
    "mkdir -p ~/rnaseq/results/{fastqc,star}\n",
    "cd ~/rnaseq"
   ]
  },
  {
   "cell_type": "markdown",
   "id": "ef84e256",
   "metadata": {},
   "source": [
    "## 2. Raw Data Quality Assessment\n",
    "\n",
    "<div class=\"alert alert-info\">\n",
    "We'll first examine the quality of raw sequencing data using FastQC.\n",
    "We'll start by analyzing the first two samples, then provide commands for processing all samples.\n",
    "</div>"
   ]
  },
  {
   "cell_type": "code",
   "execution_count": null,
   "id": "6bc7e6e4",
   "metadata": {},
   "outputs": [],
   "source": [
    "# Cell 2: Run FastQC on first two samples\n",
    "cd ~/rnaseq\n",
    "fastqc -o results/fastqc -t 10 \\\n",
    "  $(ls /srv/data/meg-m2-rnaseq/Data/fastq/raw/*_R{1,2}.fastq.gz | head -n 4)"
   ]
  },
  {
   "cell_type": "raw",
   "id": "4f78858d",
   "metadata": {},
   "source": [
    "# (Cell 3): Command to run FastQC on all samples\n",
    "cd ~/rnaseq\n",
    "fastqc -o results/fastqc -t 10 \\\n",
    "  /srv/data/meg-m2-rnaseq/Data/fastq/raw/*.fastq.gz"
   ]
  },
  {
   "cell_type": "markdown",
   "id": "88d7fb16",
   "metadata": {},
   "source": [
    "## 3. Read Preprocessing\n",
    "\n",
    "<div class=\"alert alert-info\">\n",
    "We use fastp to:\n",
    "- Trim low quality bases\n",
    "- Remove adapter sequences\n",
    "- Filter out poor quality reads\n",
    "\n",
    "<b>Note:</b> Pre-processed results for all samples are available in:\n",
    "<code>/srv/data/meg-m2-rnaseq/Results/fastp/</code>\n",
    "</div>"
   ]
  },
  {
   "cell_type": "code",
   "execution_count": null,
   "id": "2a7414cf",
   "metadata": {},
   "outputs": [],
   "source": [
    "# Cell 4: Process first two samples with fastp\n",
    "cd ~/rnaseq\n",
    "for sample in $(ls /srv/data/meg-m2-rnaseq/Data/fastq/raw/*_R1.fastq.gz | head -n 2); do\n",
    "    base=$(basename $sample _R1.fastq.gz)\n",
    "    echo \"Processing $base...\"\n",
    "    fastp \\\n",
    "        -i ${sample} \\\n",
    "        -I ${sample%_R1.fastq.gz}_R2.fastq.gz \\\n",
    "        -o /srv/data/meg-m2-rnaseq/Results/fastp/${base}_R1_cleaned.fastq.gz \\\n",
    "        -O /srv/data/meg-m2-rnaseq/Results/fastp/${base}_R2_cleaned.fastq.gz \\\n",
    "        --html /srv/data/meg-m2-rnaseq/Results/fastp/${base}_report.html \\\n",
    "        --json /srv/data/meg-m2-rnaseq/Results/fastp/${base}_report.json \\\n",
    "        --thread 10\n",
    "done"
   ]
  },
  {
   "cell_type": "raw",
   "id": "7a0db082",
   "metadata": {},
   "source": [
    "# (Cell 5): Command to process all samples with fastp\n",
    "cd ~/rnaseq\n",
    "for sample in /srv/data/meg-m2-rnaseq/Data/fastq/raw/*_R1.fastq.gz; do\n",
    "    base=$(basename $sample _R1.fastq.gz)\n",
    "    echo \"Processing $base...\"\n",
    "    fastp \\\n",
    "        -i ${sample} \\\n",
    "        -I ${sample%_R1.fastq.gz}_R2.fastq.gz \\\n",
    "        -o /srv/data/meg-m2-rnaseq/Results/fastp/${base}_R1_cleaned.fastq.gz \\\n",
    "        -O /srv/data/meg-m2-rnaseq/Results/fastp/${base}_R2_cleaned.fastq.gz \\\n",
    "        --html /srv/data/meg-m2-rnaseq/Results/fastp/${base}_report.html \\\n",
    "        --json /srv/data/meg-m2-rnaseq/Results/fastp/${base}_report.json \\\n",
    "        --thread 10\n",
    "done"
   ]
  },
  {
   "cell_type": "markdown",
   "id": "22747789",
   "metadata": {},
   "source": [
    "## 4. Post-processing Quality Check\n",
    "\n",
    "<div class=\"alert alert-info\">\n",
    "We'll run FastQC on the cleaned reads and generate a MultiQC report combining all quality metrics.\n",
    "We'll use the pre-processed fastp results available in: <code>/srv/data/meg-m2-rnaseq/Results/fastp/</code>\n",
    "</div>"
   ]
  },
  {
   "cell_type": "code",
   "execution_count": null,
   "id": "d2a44ed8",
   "metadata": {},
   "outputs": [],
   "source": [
    "# Cell 6: Run FastQC on cleaned reads (first two samples)\n",
    "cd ~/rnaseq\n",
    "fastqc -o results/fastqc -t 10 \\\n",
    "  $(ls /srv/data/meg-m2-rnaseq/Results/fastp/*_cleaned.fastq.gz | head -n 4)"
   ]
  },
  {
   "cell_type": "code",
   "execution_count": null,
   "id": "55330f9d",
   "metadata": {},
   "outputs": [],
   "source": [
    "# Cell 7: Generate MultiQC report for all samples\n",
    "cd ~/rnaseq\n",
    "# Create symbolic link to fastp results\n",
    "ln -sf /srv/data/meg-m2-rnaseq/Results/fastp .\n",
    "# Generate report including all samples\n",
    "multiqc -o results/multiqc \\\n",
    "  results/fastqc \\\n",
    "  /srv/data/meg-m2-rnaseq/Results/fastp"
   ]
  },
  {
   "cell_type": "markdown",
   "id": "41b53138",
   "metadata": {},
   "source": [
    "## 5. Read Mapping\n",
    "\n",
    "<div class=\"alert alert-info\">\n",
    "We'll map the cleaned reads to the mouse reference genome using STAR.\n",
    "We'll demonstrate the mapping process on the first two samples.\n",
    "The genome annotation file is located at:\n",
    "<code>/srv/data/meg-m2-rnaseq/Genomes/Mmu/GRCm39/extracted/mouse genome_annotation-M35.gtf</code>\n",
    "</div>"
   ]
  },
  {
   "cell_type": "raw",
   "id": "db9dfe28",
   "metadata": {},
   "source": [
    "# (Cell 8): Download and prepare reference genome\n",
    "cd ~/rnaseq\n",
    "mkdir -p reference\n",
    "cd reference\n",
    "wget https://ftp.ensembl.org/pub/release-109/fasta/mus_musculus/dna/Mus_musculus.GRCm39.dna.primary_assembly.fa.gz\n",
    "gunzip Mus_musculus.GRCm39.dna.primary_assembly.fa.gz"
   ]
  },
  {
   "cell_type": "raw",
   "id": "0f6e1e4b",
   "metadata": {},
   "source": [
    "# (Cell 9): Index reference genome\n",
    "cd ~/rnaseq/reference\n",
    "STAR --runMode genomeGenerate \\\n",
    "     --genomeDir star_index \\\n",
    "     --genomeFastaFiles Mus_musculus.GRCm39.dna.primary_assembly.fa \\\n",
    "     --sjdbGTFfile /srv/data/meg-m2-rnaseq/Genomes/Mmu/GRCm39/extracted/mouse\\ genome_annotation-M35.gtf \\\n",
    "     --runThreadN 10"
   ]
  },
  {
   "cell_type": "code",
   "execution_count": null,
   "id": "f573c304",
   "metadata": {},
   "outputs": [],
   "source": [
    "# Cell 10: Map reads for first two samples\n",
    "cd ~/rnaseq\n",
    "for sample in $(ls /srv/data/meg-m2-rnaseq/Results/fastp/*_R1_cleaned.fastq.gz | head -n 2); do\n",
    "    base=$(basename $sample _R1_cleaned.fastq.gz)\n",
    "    echo \"Mapping $base...\"\n",
    "    STAR --genomeDir reference/star_index \\\n",
    "         --readFilesIn ${sample} ${sample%_R1_cleaned.fastq.gz}_R2_cleaned.fastq.gz \\\n",
    "         --readFilesCommand zcat \\\n",
    "         --outFileNamePrefix results/star/${base}_ \\\n",
    "         --outSAMtype BAM SortedByCoordinate \\\n",
    "         --runThreadN 10\n",
    "done"
   ]
  },
  {
   "cell_type": "raw",
   "id": "a737cfae",
   "metadata": {},
   "source": [
    "# (Cell 11): Command to map all samples\n",
    "# Note: For the course, we'll provide pre-mapped BAM files for the remaining samples\n",
    "cd ~/rnaseq\n",
    "for sample in /srv/data/meg-m2-rnaseq/Results/fastp/*_R1_cleaned.fastq.gz; do\n",
    "    base=$(basename $sample _R1_cleaned.fastq.gz)\n",
    "    echo \"Mapping $base...\"\n",
    "    STAR --genomeDir reference/star_index \\\n",
    "         --readFilesIn ${sample} ${sample%_R1_cleaned.fastq.gz}_R2_cleaned.fastq.gz \\\n",
    "         --readFilesCommand zcat \\\n",
    "         --outFileNamePrefix results/star/${base}_ \\\n",
    "         --outSAMtype BAM SortedByCoordinate \\\n",
    "         --runThreadN 10\n",
    "done"
   ]
  },
  {
   "cell_type": "code",
   "execution_count": null,
   "id": "eb9ebe05",
   "metadata": {},
   "outputs": [],
   "source": [
    "# Cell 12: Index BAM files\n",
    "cd ~/rnaseq\n",
    "for bam in results/star/*_Aligned.sortedByCoord.out.bam; do\n",
    "    samtools index -@ 10 $bam\n",
    "done"
   ]
  }
 ],
 "metadata": {
  "kernelspec": {
   "display_name": "Bash",
   "language": "bash",
   "name": "bash"
  }
 },
 "nbformat": 4,
 "nbformat_minor": 5
}
