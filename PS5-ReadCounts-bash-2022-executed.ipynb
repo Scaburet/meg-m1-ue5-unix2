{
 "cells": [
  {
   "cell_type": "markdown",
   "metadata": {},
   "source": [
    "# **RNAseq Analysis Module**"
   ]
  },
  {
   "cell_type": "markdown",
   "metadata": {},
   "source": [
    "## **Practical session 5: Read Counts**\n",
    "\n",
    "Wednesday, the 23rd of November, 2022   \n",
    "Claire Vandiedonck and Sandrine Caburet - 2022  \n",
    "\n",
    "  1. Quantification of reads on genomic features"
   ]
  },
  {
   "cell_type": "markdown",
   "metadata": {},
   "source": [
    "---\n",
    "## **Before going further**\n",
    "\n",
    "<div class=\"alert alert-block alert-danger\"><b>Caution:</b> \n",
    "Before starting the analysis, save a backup copy of this notebok : in the left-hand panel, right-click on this file and select \"Duplicate\"<br>\n",
    "You can also make backups during the analysis. Don't forget to save your notebook regularly.\n",
    "</div>"
   ]
  },
  {
   "cell_type": "markdown",
   "metadata": {},
   "source": [
    "___\n",
    "\n",
    "## **I. Quantification of reads on genomic features**\n",
    "    \n",
    "This part is very short, and consists in taking every genomic features provided in the annotation `.gff` file (here, genes or ORFs), and counting the number of reads that are mapped within the boundaries of these elements."
   ]
  },
  {
   "cell_type": "markdown",
   "metadata": {},
   "source": [
    "We use **BEDTOOLS** (https://bedtools.readthedocs.io/en/latest/) v2.29.2, with the `multicov` command.\n"
   ]
  },
  {
   "cell_type": "code",
   "execution_count": 1,
   "metadata": {},
   "outputs": [
    {
     "name": "stdout",
     "output_type": "stream",
     "text": [
      "bedtools v2.30.0\n"
     ]
    }
   ],
   "source": [
    "## Code Cell n° 1 ##\n",
    "\n",
    "bedtools --version"
   ]
  },
  {
   "cell_type": "markdown",
   "metadata": {},
   "source": [
    "As in Practical Sessions 3 and 4, a `for loop` will run the program once for each element in the provided list."
   ]
  },
  {
   "cell_type": "code",
   "execution_count": 2,
   "metadata": {},
   "outputs": [
    {
     "name": "stdout",
     "output_type": "stream",
     "text": [
      "./Results/Hypoxia_1_bowtie_mapping.sorted.bam\n",
      "./Results/Normoxia_1_bowtie_mapping.sorted.bam\n",
      "./Results/SRR352261_bowtie_mapping.sorted.bam\n",
      "./Results/SRR352264_bowtie_mapping.sorted.bam\n",
      "./Results/SRR352266_bowtie_mapping.sorted.bam\n",
      "./Results/SRR352267_bowtie_mapping.sorted.bam\n",
      "./Results/SRR352270_bowtie_mapping.sorted.bam\n",
      "./Results/SRR352273_bowtie_mapping.sorted.bam\n",
      "./Results/SRR352274_bowtie_mapping.sorted.bam\n",
      "./Results/SRR352276_bowtie_mapping.sorted.bam\n"
     ]
    }
   ],
   "source": [
    "## Code Cell n° 2 ##\n",
    "\n",
    "ls ./Results/*.sorted.bam"
   ]
  },
  {
   "cell_type": "code",
   "execution_count": 3,
   "metadata": {},
   "outputs": [
    {
     "name": "stdout",
     "output_type": "stream",
     "text": [
      "========Processing sampleID: Hypoxia_1\n",
      "...done\n",
      "========Processing sampleID: Normoxia_1\n",
      "...done\n",
      "========Processing sampleID: SRR352261\n",
      "...done\n",
      "========Processing sampleID: SRR352264\n",
      "...done\n",
      "========Processing sampleID: SRR352266\n",
      "...done\n",
      "========Processing sampleID: SRR352267\n",
      "...done\n",
      "========Processing sampleID: SRR352270\n",
      "...done\n",
      "========Processing sampleID: SRR352273\n",
      "...done\n",
      "========Processing sampleID: SRR352274\n",
      "...done\n",
      "========Processing sampleID: SRR352276\n",
      "...done\n"
     ]
    }
   ],
   "source": [
    "## Code Cell n° 3 ##\n",
    "\n",
    "# Quantify your data by annotated features using BEDTOOLS with the following command\n",
    "# multicov is to count the number of reads to multiple features\n",
    "# -bams is to specify you are using bam files rather than sam files\n",
    "# -bed is the option to specify the name of the annotation file, here the .gff file\n",
    "# An index, initially set at the value 1, is incremented at each step to provide a way to follow the progress of the analysis.\n",
    "\n",
    "# Creation of a subfolder /Counts for writing the results\n",
    "mkdir ./Results/Counts\n",
    "\n",
    "\n",
    "#Runs for multiple gene_counts outputs, with relevant names\n",
    "\n",
    "date\n",
    "for fn in $(ls ./Results/*.sorted.bam); do\n",
    "     \n",
    "    mysortedbam=$(basename ${fn})\n",
    "    id=${mysortedbam/_bowtie_mapping.sorted.bam/}\n",
    "    echo \"========Processing sampleID: ${id}\"\n",
    "     \n",
    "    myout=\"./Results/Counts/${id}_gene_counts.txt\" \n",
    "    bedtools multicov -bams ${fn} -bed /srv/data/meg-m2-rnaseq/genome/C_parapsilosis_ORFs.gff > ${myout}\n",
    "\n",
    "    echo \"...done\"\n",
    "\n",
    "done\n",
    "date"
   ]
  },
  {
   "cell_type": "markdown",
   "metadata": {},
   "source": [
    "To visualize the beginning of the results, we use the command `head` (by default it displays the 10 first lines of a text file)."
   ]
  },
  {
   "cell_type": "code",
   "execution_count": 4,
   "metadata": {},
   "outputs": [
    {
     "name": "stdout",
     "output_type": "stream",
     "text": [
      "Contig006372_C_parapsilosis_CDC317\tCGD\tORF\t1055176\t1057281\t.\t-\t. \tID=CPAR2_404750\t589\n",
      "Contig005809_C_parapsilosis_CDC317\tCGD\tORF\t2704253\t2705914\t.\t+\t. \tID=CPAR2_212570\t559\n",
      "Contig005806_C_parapsilosis_CDC317\tCGD\tORF\t512409\t513653\t.\t+\t. \tID=CPAR2_302130\t177\n",
      "Contig005809_C_parapsilosis_CDC317\tCGD\tORF\t2089867\t2092851\t.\t+\t. \tID=CPAR2_209760\t868\n",
      "Contig006372_C_parapsilosis_CDC317\tCGD\tORF\t718436\t719749\t.\t-\t. \tID=CPAR2_403260\t2549\n",
      "Contig005809_C_parapsilosis_CDC317\tCGD\tORF\t1943877\t1945412\t.\t-\t. \tID=CPAR2_209040\t528\n",
      "Contig005807_C_parapsilosis_CDC317\tCGD\tORF\t903996\t905216\t.\t-\t. \tID=CPAR2_804040\t44\n",
      "Contig005809_C_parapsilosis_CDC317\tCGD\tORF\t2461381\t2462433\t.\t-\t. \tID=CPAR2_211500\t621\n",
      "Contig005569_C_parapsilosis_CDC317\tCGD\tORF\t576905\t578491\t.\t+\t. \tID=CPAR2_102540\t1672\n",
      "Contig005569_C_parapsilosis_CDC317\tCGD\tORF\t2111962\t2114931\t.\t-\t. \tID=CPAR2_109950\t1772\n"
     ]
    }
   ],
   "source": [
    "## Code Cell n° 4 ##\n",
    "\n",
    "head ./Results/Counts/Normoxia_1_gene_counts.txt"
   ]
  },
  {
   "cell_type": "markdown",
   "metadata": {},
   "source": [
    "Since we are only interested in keeping the last columns and without \"ID=\", we modify the files with sed  (= stream editor), a powerful tool in Unix to handle and edit text files.  Here, we use it to delete all the characters from the beginning of each line up to \"ID=\" included, in order to only keep the last two columns, one with the gene name, the other with the read counts."
   ]
  },
  {
   "cell_type": "code",
   "execution_count": 5,
   "metadata": {},
   "outputs": [
    {
     "name": "stdout",
     "output_type": "stream",
     "text": [
      "========Processing sampleID: Hypoxia_1\n",
      "./Results/Counts/Hypoxia_1_gene_counts.txt\n",
      "...done\n",
      "========Processing sampleID: Normoxia_1\n",
      "./Results/Counts/Normoxia_1_gene_counts.txt\n",
      "...done\n",
      "========Processing sampleID: SRR352261\n",
      "./Results/Counts/SRR352261_gene_counts.txt\n",
      "...done\n",
      "========Processing sampleID: SRR352264\n",
      "./Results/Counts/SRR352264_gene_counts.txt\n",
      "...done\n",
      "========Processing sampleID: SRR352266\n",
      "./Results/Counts/SRR352266_gene_counts.txt\n",
      "...done\n",
      "========Processing sampleID: SRR352267\n",
      "./Results/Counts/SRR352267_gene_counts.txt\n",
      "...done\n",
      "========Processing sampleID: SRR352270\n",
      "./Results/Counts/SRR352270_gene_counts.txt\n",
      "...done\n",
      "========Processing sampleID: SRR352273\n",
      "./Results/Counts/SRR352273_gene_counts.txt\n",
      "...done\n",
      "========Processing sampleID: SRR352274\n",
      "./Results/Counts/SRR352274_gene_counts.txt\n",
      "...done\n",
      "========Processing sampleID: SRR352276\n",
      "./Results/Counts/SRR352276_gene_counts.txt\n",
      "...done\n"
     ]
    }
   ],
   "source": [
    "## Code Cell n° 5 ##\n",
    "\n",
    "for fn in $(ls ./Results/Counts/*_gene_counts.txt); do\n",
    "    \n",
    "    mygenecounts=$(basename ${fn})\n",
    "    id=${mygenecounts/_gene_counts.txt/}\n",
    "    echo \"========Processing sampleID: ${id}\"\n",
    "\n",
    "    echo $fn\n",
    "    sed 's/^.*ID=//' ${fn} > \"./Results/Counts/${id}.gene_counts.tab\"\n",
    "\n",
    " echo \"...done\"\n",
    "\n",
    "done   \n",
    "    "
   ]
  },
  {
   "cell_type": "markdown",
   "metadata": {},
   "source": [
    "<div class=\"alert alert-block alert-success\"><b>=> Question: What can you say on the data?</b><br>\n",
    "\n",
    "<em>(you can click here to add your answers directly in this markdown cell)</em><br>\n",
    "    \n",
    "- What are the problems associated to this way of counting reads to features?\n",
    "- Which other methods could have been used?\n",
    "- Does it make sens to compare the samples on this basis?\n",
    "</div>"
   ]
  },
  {
   "cell_type": "markdown",
   "metadata": {},
   "source": [
    "<div class=\"alert alert-block alert-success\"><b>Success:</b> Don't forget to save you notebook and export a copy as an <b>html</b> file as well <br>\n",
    "- Open \"File\" in the Menu<br>\n",
    "- Select \"Export Notebook As\"<br>\n",
    "- Export notebook as HTML<br>\n",
    "- You can then open it in your browser even without being connected to adenine! \n",
    "</div>"
   ]
  },
  {
   "cell_type": "markdown",
   "metadata": {},
   "source": [
    "___\n",
    "___\n",
    "\n",
    "The normalisation of the data will be performed during the statistical analysis of the data (tomorrow, during **Practical session 7**)\n",
    "\n",
    "Now we go on with a lecture about basic principles of statitics. \n",
    "\n",
    "**=> Lecture 7 : Basic Statistics** \n",
    "\n",
    "___"
   ]
  },
  {
   "cell_type": "markdown",
   "metadata": {},
   "source": [
    "<div class=\"alert alert-block alert-info\"> \n",
    "    \n",
    "<b><em> About jupyter notebooks:</em></b><br>\n",
    "\n",
    "- To add a new cell, click on the \"+\" icon in the toolbar above your notebook <br>\n",
    "- You can \"click and drag\" to move a cell up or down <br>\n",
    "- You choose the type of cell in the toolbar above your notebook: <br>\n",
    "    - 'Code' to enter command lines to be executed <br>\n",
    "    - 'Markdown' cells to add text, that can be formatted with some characters <br>\n",
    "- To execute a 'Code' cell, press SHIFT+ENTER or click on the \"play\" icon  <br>\n",
    "- To display a 'Markdown' cell, press SHIFT+ENTER or click on the \"play\" icon  <br>\n",
    "- To modify a 'Markdown'cell, double-click on it <br>\n",
    "<br>    \n",
    "\n",
    "<em>  \n",
    "To make nice html reports with markdown: <a href=\"https://dillinger.io/\" title=\"dillinger.io\">html visualization tool 1</a> or <a href=\"https://stackedit.io/app#\" title=\"stackedit.io\">html visualization tool 2</a>, <a href=\"https://www.tablesgenerator.com/markdown_tables\" title=\"tablesgenerator.com\">to draw nice tables</a>, and the <a href=\"https://medium.com/analytics-vidhya/the-ultimate-markdown-guide-for-jupyter-notebook-d5e5abf728fd\" title=\"Ultimate guide\">Ultimate guide</a>. <br>\n",
    "Further reading on JupyterLab notebooks: <a href=\"https://jupyterlab.readthedocs.io/en/latest/user/notebook.html\" title=\"Jupyter Lab\">Jupyter Lab documentation</a>.<br>\n",
    "    \n",
    "Here we are using JupyterLab interface implemented as part of the <a href=\"https://plasmabio.org/\" title=\"plasmabio.org\">Plasmabio</a> project led by Sandrine Caburet, Pierre Poulain and Claire Vandiedonck.\n",
    "</em>\n",
    "</div>"
   ]
  }
 ],
 "metadata": {
  "kernelspec": {
   "display_name": "Bash",
   "language": "bash",
   "name": "bash"
  },
  "language_info": {
   "codemirror_mode": "shell",
   "file_extension": ".sh",
   "mimetype": "text/x-sh",
   "name": "bash"
  }
 },
 "nbformat": 4,
 "nbformat_minor": 4
}
