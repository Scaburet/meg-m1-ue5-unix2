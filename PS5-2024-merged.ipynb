{
 "cells": [
  {
   "cell_type": "markdown",
   "id": "b466c9e6",
   "metadata": {},
   "source": [
    "# RNA-seq Data Analysis Pipeline - Part 5: Read Counting\n",
    "## Tuesday 26/11/2024\n",
    "\n",
    "This notebook covers read counting and quantification using two complementary approaches:\n",
    "1. Gene-level quantification with featureCounts\n",
    "2. Transcript-level quantification with Salmon\n",
    "\n",
    "<div class=\"alert alert-info\">\n",
    "<b>Learning Objectives:</b><br>\n",
    "- Understand different approaches to RNA-seq read counting\n",
    "- Learn to use featureCounts for gene-level quantification\n",
    "- Learn to use Salmon for transcript-level quantification\n",
    "- Interpret read count statistics and quality metrics\n",
    "</div>\n"
   ]
  },
  {
   "cell_type": "markdown",
   "id": "42c67349",
   "metadata": {},
   "source": [
    "## Documentation and References\n",
    "\n",
    "### Tool Documentation\n",
    "- [featureCounts Documentation](https://subread.sourceforge.net/featureCounts.html)\n",
    "- [Salmon Documentation](https://salmon.readthedocs.io/en/latest/)\n",
    "\n",
    "### Parameter References\n",
    "- featureCounts parameters: [Manual](http://bioinf.wehi.edu.to the/featureCounts/)\n",
    "- Salmon parameters: [Parameters](https://salmon.readthedocs.io/en/latest/salmon.html#parameters)"
   ]
  },
  {
   "cell_type": "markdown",
   "id": "802a3fd3",
   "metadata": {},
   "source": [
    "## 1. System Setup\n",
    "### 1.1 Environment Configuration\n",
    "\n",
    "We'll set up our working environment with the necessary variables and directory structure."
   ]
  },
  {
   "cell_type": "code",
   "execution_count": null,
   "id": "ab81c8b4",
   "metadata": {},
   "outputs": [],
   "source": [
    "## Code cell 1 ##\n",
    "try:\n",
    "    # Progress indicator\n",
    "    print(\"Starting process...\")\n",
    "\n",
    "    ## Code cell 1 ##\n",
    "# Base directories\n",
    "WORK_DIR=\"/srv/home/${USER}/meg_m2_rnaseq_bash\"\n",
    "DATA_DIR=\"/srv/data/meg-m2-rnaseq\"\n",
    "\n",
    "# Input/Output directories\n",
    "RESULTS_DIR=\"${WORK_DIR}/Results\"\n",
    "BAM_DIR=\"${RESULTS_DIR}/star\"\n",
    "COUNTS_DIR=\"${RESULTS_DIR}/counts\"\n",
    "SALMON_DIR=\"${RESULTS_DIR}/salmon\"\n",
    "\n",
    "# Reference files\n",
    "GTF_FILE=\"${DATA_DIR}/Genomes/Mmu/GRCm39/extracted/genome_annotation-M35.gtf\"\n",
    "TRANSCRIPTOME=\"${DATA_DIR}/Genomes/Mmu/GRCm39/extracted/transcriptome.fa\"\n",
    "\n",
    "# System resources (adjusted for Plasmabio)\n",
    "CPU_CORES=4\n",
    "MAX_RAM=\"6G\"\n",
    "\n",
    "# Tool parameters\n",
    "STRAND_SPECIFIC=0  # 0=unstranded, 1=stranded, 2=reversely stranded\n",
    "MIN_MAPPING_QUALITY=10\n",
    "LIBTYPE=\"A\"  # Automatic detection of library type\n",
    "\n",
    "    # Success indicator\n",
    "    print(\"Process completed successfully!\")\n",
    "except FileNotFoundError as e:\n",
    "    print(f\"Error: Input file not found - {e}\")\n",
    "    raise\n",
    "except Exception as e:\n",
    "    print(f\"Error occurred: {e}\")\n",
    "    raise"
   ]
  },
  {
   "cell_type": "code",
   "execution_count": null,
   "id": "71719d09",
   "metadata": {},
   "outputs": [],
   "source": [
    "## Code cell 2 ##\n",
    "try:\n",
    "    # Progress indicator\n",
    "    print(\"Starting process...\")\n",
    "\n",
    "    ## Code cell 2 ##\n",
    "# Create output directories\n",
    "mkdir -p ${COUNTS_DIR} ${SALMON_DIR}\n",
    "\n",
    "# Validate input files\n",
    "echo \"Checking input files...\"\n",
    "[ -f \"${GTF_FILE}\" ] && echo \"GTF file found\" || echo \"ERROR: GTF file missing\"\n",
    "[ -d \"${BAM_DIR}\" ] && echo \"BAM directory found\" || echo \"ERROR: BAM directory missing\"\n",
    "\n",
    "\n",
    "    # Success indicator\n",
    "    print(\"Process completed successfully!\")\n",
    "except FileNotFoundError as e:\n",
    "    print(f\"Error: Input file not found - {e}\")\n",
    "    raise\n",
    "except Exception as e:\n",
    "    print(f\"Error occurred: {e}\")\n",
    "    raise"
   ]
  },
  {
   "cell_type": "markdown",
   "id": "1256eafa",
   "metadata": {},
   "source": [
    "## 2. Gene-Level Read Counting with featureCounts\n",
    "\n",
    "<div class=\"alert alert-info\">\n",
    "<b>Tool Information:</b><br>\n",
    "featureCounts is part of the Subread package and provides fast and accurate read counting for RNA-seq data.\n",
    "<br><br>\n",
    "<b>Key Features:</b>\n",
    "- Supports both single and paired-end reads\n",
    "- Handles multi-mapping reads\n",
    "- Provides detailed assignment statistics\n",
    "- Efficient memory usage\n",
    "</div>\n",
    "\n",
    "For more information, visit the [featureCounts documentation](http://subread.sourceforge.net/)."
   ]
  },
  {
   "cell_type": "code",
   "execution_count": null,
   "id": "36360329",
   "metadata": {},
   "outputs": [],
   "source": [
    "## Code cell 3 ##\n",
    "try:\n",
    "    # Progress indicator\n",
    "    print(\"Starting process...\")\n",
    "\n",
    "    ## Code cell 3 ##\n",
    "# Run featureCounts on a single sample\n",
    "SAMPLE1=$(ls ${BAM_DIR}/*.bam | head -n 1)\n",
    "SAMPLE_NAME=$(basename ${SAMPLE1} .bam)\n",
    "\n",
    "featureCounts \\\n",
    "    -T ${CPU_CORES} \\\n",
    "    -s ${STRAND_SPECIFIC} \\\n",
    "    -Q ${MIN_MAPPING_QUALITY} \\\n",
    "    -p \\  # paired-end\n",
    "    -a ${GTF_FILE} \\\n",
    "    -o ${COUNTS_DIR}/${SAMPLE_NAME}_counts.txt \\\n",
    "    ${SAMPLE1}\n",
    "\n",
    "# Display summary\n",
    "cat ${COUNTS_DIR}/${SAMPLE_NAME}_counts.txt.summary\n",
    "\n",
    "    # Success indicator\n",
    "    print(\"Process completed successfully!\")\n",
    "except FileNotFoundError as e:\n",
    "    print(f\"Error: Input file not found - {e}\")\n",
    "    raise\n",
    "except Exception as e:\n",
    "    print(f\"Error occurred: {e}\")\n",
    "    raise"
   ]
  },
  {
   "cell_type": "markdown",
   "id": "2665716e",
   "metadata": {},
   "source": [
    "### 1.3.2 Running featureCounts on Multiple Samples\n",
    "\n",
    "<div class=\"alert alert-info\">\n",
    "<b>Important:</b><br>\n",
    "Processing multiple samples at once is more efficient and ensures consistent parameters across all samples.\n",
    "</div>\n",
    "\n",
    "Now we'll process all samples using a loop. This approach allows us to:\n",
    "1. Process all samples with identical parameters\n",
    "2. Generate a combined count matrix\n",
    "3. Save time and reduce potential errors\n",
    "4. Create consistent output files"
   ]
  },
  {
   "cell_type": "code",
   "execution_count": null,
   "id": "3a30ee40",
   "metadata": {},
   "outputs": [],
   "source": [
    "## Code cell 4 ##\n",
    "try:\n",
    "    # Progress indicator\n",
    "    print(\"Starting process...\")\n",
    "\n",
    "    ## Code cell 4 ##\n",
    "# Create a list of all BAM files\n",
    "BAM_FILES=(${BAM_DIR}/*.bam)\n",
    "echo \"Found ${#BAM_FILES[@]} BAM files\"\n",
    "\n",
    "# Run featureCounts on all samples\n",
    "featureCounts \\\n",
    "    -T ${CPU_CORES} \\\n",
    "    -s ${STRAND_SPECIFIC} \\\n",
    "    -Q ${MIN_MAPPING_QUALITY} \\\n",
    "    -p \\\n",
    "    -a ${GTF_FILE} \\\n",
    "    -o ${COUNTS_DIR}/all_samples_counts.txt \\\n",
    "    ${BAM_FILES[@]}\n",
    "\n",
    "# Create a simplified count matrix\n",
    "cut -f 1,7- ${COUNTS_DIR}/all_samples_counts.txt | grep -v '^#' > ${COUNTS_DIR}/counts_matrix.txt\n",
    "\n",
    "    # Success indicator\n",
    "    print(\"Process completed successfully!\")\n",
    "except FileNotFoundError as e:\n",
    "    print(f\"Error: Input file not found - {e}\")\n",
    "    raise\n",
    "except Exception as e:\n",
    "    print(f\"Error occurred: {e}\")\n",
    "    raise"
   ]
  },
  {
   "cell_type": "markdown",
   "id": "f78d7c9e",
   "metadata": {},
   "source": [
    "## 2. Pseudo-mapping with Salmon\n",
    "\n",
    "<div class=\"alert alert-info\">\n",
    "<b>Tool Information:</b><br>\n",
    "Salmon performs transcript-level quantification using lightweight algorithms (pseudo-alignment).\n",
    "<br><br>\n",
    "<b>Advantages:</b>\n",
    "- Faster than traditional alignment\n",
    "- Direct transcript-level quantification\n",
    "- Bias-aware estimation\n",
    "- Memory efficient\n",
    "</div>\n",
    "\n",
    "For more information, visit the [Salmon documentation](https://salmon.readthedocs.io/)."
   ]
  },
  {
   "cell_type": "code",
   "execution_count": null,
   "id": "081c40da",
   "metadata": {},
   "outputs": [],
   "source": [
    "## Code cell 5 ##\n",
    "try:\n",
    "    # Progress indicator\n",
    "    print(\"Starting process...\")\n",
    "\n",
    "    ## Code cell 5 ##\n",
    "# Index the transcriptome (if not already done)\n",
    "salmon index \\\n",
    "    -t ${TRANSCRIPTOME} \\\n",
    "    -i ${SALMON_DIR}/transcriptome_index \\\n",
    "    -p ${CPU_CORES}\n",
    "\n",
    "    # Success indicator\n",
    "    print(\"Process completed successfully!\")\n",
    "except FileNotFoundError as e:\n",
    "    print(f\"Error: Input file not found - {e}\")\n",
    "    raise\n",
    "except Exception as e:\n",
    "    print(f\"Error occurred: {e}\")\n",
    "    raise"
   ]
  },
  {
   "cell_type": "code",
   "execution_count": null,
   "id": "3c3660e0",
   "metadata": {},
   "outputs": [],
   "source": [
    "## Code cell 6 ##\n",
    "try:\n",
    "    # Progress indicator\n",
    "    print(\"Starting process...\")\n",
    "\n",
    "    ## Code cell 6 ##\n",
    "# Process first two samples\n",
    "FASTQ_DIR=\"${DATA_DIR}/fastq/raw\"\n",
    "SAMPLES=($(ls ${FASTQ_DIR}/*_R1.fastq.gz | head -n 2))\n",
    "\n",
    "for R1 in \"${SAMPLES[@]}\"; do\n",
    "    R2=${R1/_R1/_R2}\n",
    "    SAMPLE=$(basename ${R1} _R1.fastq.gz)\n",
    "\n",
    "    echo \"Processing sample: ${SAMPLE}\"\n",
    "\n",
    "    salmon quant \\\n",
    "        -i ${SALMON_DIR}/transcriptome_index \\\n",
    "        -l ${LIBTYPE} \\\n",
    "        -1 ${R1} \\\n",
    "        -2 ${R2} \\\n",
    "        -p ${CPU_CORES} \\\n",
    "        --validateMappings \\\n",
    "        -o ${SALMON_DIR}/${SAMPLE}\n",
    "done\n",
    "\n",
    "    # Success indicator\n",
    "    print(\"Process completed successfully!\")\n",
    "except FileNotFoundError as e:\n",
    "    print(f\"Error: Input file not found - {e}\")\n",
    "    raise\n",
    "except Exception as e:\n",
    "    print(f\"Error occurred: {e}\")\n",
    "    raise"
   ]
  },
  {
   "cell_type": "raw",
   "id": "ffef9f25",
   "metadata": {},
   "source": [
    "## Code cell 7 ##\n",
    "# Process all samples\n",
    "for R1 in ${FASTQ_DIR}/*_R1.fastq.gz; do\n",
    "    R2=${R1/_R1/_R2}\n",
    "    SAMPLE=$(basename ${R1} _R1.fastq.gz)\n",
    "\n",
    "    salmon quant \\\n",
    "        -i ${SALMON_DIR}/transcriptome_index \\\n",
    "        -l ${LIBTYPE} \\\n",
    "        -1 ${R1} \\\n",
    "        -2 ${R2} \\\n",
    "        -p ${CPU_CORES} \\\n",
    "        --validateMappings \\\n",
    "        -o ${SALMON_DIR}/${SAMPLE}\n",
    "done"
   ]
  },
  {
   "cell_type": "markdown",
   "id": "cf9de622",
   "metadata": {},
   "source": [
    "## 3. Quality Control\n",
    "\n",
    "Let's examine the quality metrics for both quantification methods. This helps us ensure the reliability of our results."
   ]
  },
  {
   "cell_type": "code",
   "execution_count": null,
   "id": "ea51becd",
   "metadata": {},
   "outputs": [],
   "source": [
    "## Code cell 7 ##\n",
    "try:\n",
    "    # Progress indicator\n",
    "    print(\"Starting process...\")\n",
    "\n",
    "    ## Code cell 8 ##\n",
    "# Check featureCounts assignment statistics\n",
    "echo \"=== featureCounts Assignment Statistics ===\"\n",
    "cat ${COUNTS_DIR}/all_samples_counts.txt.summary\n",
    "\n",
    "# Check Salmon mapping rates\n",
    "echo -e \"\\n=== Salmon Mapping Rates ===\"\n",
    "for dir in ${SALMON_DIR}/*/; do\n",
    "    sample=$(basename ${dir})\n",
    "    rate=$(grep -A 1 \"Mapping Rate\" ${dir}/logs/salmon_quant.log | tail -n 1)\n",
    "    echo \"${sample}: ${rate}\"\n",
    "done\n",
    "\n",
    "    # Success indicator\n",
    "    print(\"Process completed successfully!\")\n",
    "except FileNotFoundError as e:\n",
    "    print(f\"Error: Input file not found - {e}\")\n",
    "    raise\n",
    "except Exception as e:\n",
    "    print(f\"Error occurred: {e}\")\n",
    "    raise"
   ]
  },
  {
   "cell_type": "markdown",
   "id": "8b786747",
   "metadata": {},
   "source": [
    "## Troubleshooting Guide\n",
    "\n",
    "Common Issues and Solutions:\n",
    "\n",
    "1. **Insufficient Memory**\n",
    "   - Symptom: Process killed or memory error\n",
    "   - Solution: Reduce number of threads or batch size\n",
    "\n",
    "2. **Missing Input Files**\n",
    "   - Symptom: File not found error\n",
    "   - Solution: Verify file paths and permissions\n",
    "\n",
    "3. **Invalid File Format**\n",
    "   - Symptom: Parse error in featureCounts/Salmon\n",
    "   - Solution: Check input file format and integrity\n",
    "\n",
    "4. **Resource Issues**\n",
    "   - Symptom: Slow processing or timeouts\n",
    "   - Solution: Adjust resource allocation"
   ]
  },
  {
   "cell_type": "markdown",
   "id": "4d2f35fd",
   "metadata": {},
   "source": [
    "## 4. Results Interpretation\n",
    "\n",
    "<div class=\"alert alert-info\">\n",
    "<b>Key Points:</b><br>\n",
    "- featureCounts provides gene-level counts\n",
    "- Salmon provides transcript-level abundance estimates\n",
    "- Both tools generate quality metrics\n",
    "- Compare mapping rates between methods\n",
    "</div>\n",
    "\n",
    "The output files can be found in:\n",
    "1. Gene counts: ${COUNTS_DIR}/counts_matrix.txt\n",
    "2. Transcript quantification: ${SALMON_DIR}/<sample>/quant.sf"
   ]
  },
  {
   "cell_type": "markdown",
   "id": "6942e0f6",
   "metadata": {},
   "source": [
    "   \n",
    "\n",
    "- 0. 1 - About session for IFB core cluster\n",
    "- 0. 2 - Parameters to be set or modified by the user\n",
    "- 1 - Gene level quantification using ``featureCounts``\n",
    "- 2 - Pseudo-mapping with Salmon\n",
    "- 3 - Monitoring disk usage"
   ]
  },
  {
   "cell_type": "code",
   "execution_count": 1,
   "id": "597e0165",
   "metadata": {
    "tags": []
   },
   "outputs": [
    {
     "name": "stdout",
     "output_type": "stream",
     "text": [
      "=== Cell launched on Mon Jun 24 12:00:40 CEST 2024 ===\n",
      "          40350384      fast sys/dash scaburet  R    2:38:33      1 cpu-node-51\n",
      "=== Current IFB session size: as an indication: Medium (4CPU, 10GB) or Large (10CPU, 50GB) ===\n",
      "JobID         AllocCPUS     ReqMem        NodeList    Elapsed      State \n",
      "------------ ---------- ---------- --------------- ---------- ---------- \n",
      "40350384              7        33G     cpu-node-51   02:38:33    RUNNING \n",
      "40350384.ba+          7                cpu-node-51   02:38:33    RUNNING \n"
     ]
    }
   ],
   "source": [
    "## Code cell 8 ##\n",
    "\n",
    "echo \"=== Cell launched on $(date) ===\"\n",
    "squeue -hu $USER \n",
    "\n",
    "echo \"=== Current IFB session size: as an indication: Medium (4CPU, 10GB) or Large (10CPU, 50GB) ===\"\n",
    "jobid=$(squeue -hu $USER | awk '/sys/dash {print $1}')\n",
    "\n",
    "sacct --format=JobID,AllocCPUS,ReqMem,NodeList,Elapsed,State --jobs ${jobid}"
   ]
  },
  {
   "cell_type": "code",
   "execution_count": 2,
   "id": "80ecf104",
   "metadata": {
    "tags": []
   },
   "outputs": [
    {
     "name": "stdout",
     "output_type": "stream",
     "text": [
      "===== bam sorting by names =====\n",
      "samtools 1.18\n",
      "Using htslib 1.19\n",
      "===== gene level quantification =====\n",
      "\n",
      "featureCounts v2.0.6\n",
      "\n",
      "===== Pseudo mapping and quantification with Salmon =====\n",
      "salmon 1.10.2\n",
      "===== quality reports compilation =====\n",
      "multiqc, version 1.13\n"
     ]
    }
   ],
   "source": [
    "## Code cell 9 ##\n",
    "\n",
    "module load samtools/1.18 subread/2.0.6 salmon/1.10.2 multiqc/1.13\n",
    "\n",
    "# module load samtools/1.10 subread/2.0.1 in 2023\n",
    "\n",
    "echo \"===== bam sorting by names =====\"\n",
    "samtools --version | head -n 2\n",
    "echo \"===== gene level quantification =====\"\n",
    "featureCounts -v\n",
    "echo \"===== Pseudo mapping and quantification with Salmon =====\"\n",
    "salmon -v\n",
    "echo \"===== quality reports compilation =====\"\n",
    "multiqc --version"
   ]
  },
  {
   "cell_type": "code",
   "execution_count": 3,
   "id": "f47d3ff7",
   "metadata": {
    "tags": []
   },
   "outputs": [],
   "source": [
    "## Code cell 10 ##\n",
    "\n",
    "authorizedCPU=5           # 4 CPU\n",
    "\n",
    "authorizedRAM=30000000000  # 20GB"
   ]
  },
  {
   "cell_type": "code",
   "execution_count": 4,
   "id": "3f217352",
   "metadata": {
    "tags": []
   },
   "outputs": [
    {
     "name": "stdout",
     "output_type": "stream",
     "text": [
      "=== Home root folder is ===\n",
      "/shared/projects/2413_rnaseq_cea/\n",
      "\n",
      "=== Working (personal) folder tree ===\n",
      "/shared/projects/2413_rnaseq_cea/scaburet\n",
      "|-- Data\n",
      "|   |-- fastq\n",
      "|   `-- sra\n",
      "|-- Results\n",
      "|   |-- Rintro\n",
      "|   |-- deseq2\n",
      "|   |-- enrich\n",
      "|   |-- fastp\n",
      "|   |-- fastq_screen\n",
      "|   |-- fastqc\n",
      "|   |-- featurecounts\n",
      "|   |-- gsea\n",
      "|   |-- logfiles\n",
      "|   |-- multiqc\n",
      "|   |-- pca1\n",
      "|   |-- qualimap\n",
      "|   |-- qualimap-11juin\n",
      "|   |-- salmon\n",
      "|   |-- salmon2\n",
      "|   |-- samtools\n",
      "|   |-- samtools-11juin\n",
      "|   |-- star\n",
      "|   |-- star-11juin\n",
      "|   `-- wgcna\n",
      "|-- done\n",
      "|-- run_notebooks\n",
      "`-- stuff\n",
      "    `-- meg_m2_rnaseq\n",
      "\n",
      "28 directories\n",
      "=== current working directory ===\n",
      "/shared/ifbstor1/projects/2413_rnaseq_cea/scaburet\n"
     ]
    }
   ],
   "source": [
    "## Code cell 11 ##\n",
    "\n",
    "gohome=\"/shared/projects/2413_rnaseq_cea/\"\n",
    "\n",
    "echo \"=== Home root folder is ===\"\n",
    "echo \"${gohome}\"\n",
    "echo \"\"\n",
    "echo \"=== Working (personal) folder tree ===\"\n",
    "tree -d -L 2 \"${gohome}$USER\"\n",
    "echo \"=== current working directory ===\"\n",
    "echo \"${PWD}\""
   ]
  },
  {
   "cell_type": "code",
   "execution_count": 5,
   "id": "4567f392",
   "metadata": {},
   "outputs": [
    {
     "name": "stdout",
     "output_type": "stream",
     "text": [
      "the folder for log files is /shared/projects/2413_rnaseq_cea/scaburet/Results/logfiles/\n"
     ]
    }
   ],
   "source": [
    "## Code cell 12 ##\n",
    "\n",
    "logfolder=\"${gohome}$USER/Results/logfiles/\"\n",
    "echo \"the folder for log files is ${logfolder}\""
   ]
  },
  {
   "cell_type": "code",
   "execution_count": 6,
   "id": "70610a1d",
   "metadata": {},
   "outputs": [
    {
     "name": "stdout",
     "output_type": "stream",
     "text": [
      "\n",
      "featureCounts v2.0.6\n",
      "\n"
     ]
    }
   ],
   "source": [
    "## Code cell 13 ##\n",
    "\n",
    "featureCounts -v"
   ]
  },
  {
   "cell_type": "code",
   "execution_count": 7,
   "id": "d1f12034",
   "metadata": {},
   "outputs": [
    {
     "name": "stdout",
     "output_type": "stream",
     "text": [
      "There are 3 bam files:\n",
      "/shared/projects/2413_rnaseq_cea/scaburet/Results/star/SRR12730409_Aligned.sortedByCoord.out.bam\n",
      "/shared/projects/2413_rnaseq_cea/scaburet/Results/star/SRR12730410_Aligned.sortedByCoord.out.bam\n",
      "/shared/projects/2413_rnaseq_cea/scaburet/Results/star/SRR12730411_Aligned.sortedByCoord.out.bam\n"
     ]
    }
   ],
   "source": [
    "## Code cell 14 ##\n",
    "\n",
    "mappedfolder=\"${gohome}$USER/Results/star/\"\n",
    "echo \"There are $(ls \"${mappedfolder}\"*_Aligned.sortedByCoord.out.bam | wc -l) bam files:\"\n",
    "ls \"${mappedfolder}\"*_Aligned.sortedByCoord.out.bam"
   ]
  },
  {
   "cell_type": "code",
   "execution_count": 8,
   "id": "76ce4369",
   "metadata": {},
   "outputs": [
    {
     "name": "stdout",
     "output_type": "stream",
     "text": [
      "The transcript reference gtf file is /shared/projects/2413_rnaseq_cea/alldata/Reference/extracted/genome_annotation-M35.gtf\n",
      "First rows of the annotation file: /shared/projects/2413_rnaseq_cea/alldata/Reference/extracted/genome_annotation-M35.gtf\n",
      "##description: evidence-based annotation of the mouse genome (GRCm39), version M35 (Ensembl 112)\n",
      "##provider: GENCODE\n",
      "##contact: gencode-help@ebi.ac.uk\n",
      "##format: gtf\n",
      "##date: 2024-02-27\n",
      "chr1\tHAVANA\tgene\t3143476\t3144545\t.\t+\t.\tgene_id \"ENSMUSG00000102693.2\"; gene_type \"TEC\"; gene_name \"4933401J01Rik\"; level 2; mgi_id \"MGI:1918292\"; havana_gene \"OTTMUSG00000049935.1\";\n"
     ]
    }
   ],
   "source": [
    "## Code cell 15 ##\n",
    "\n",
    "gtffile=\"${gohome}alldata/Reference/extracted/genome_annotation-M35.gtf\"\n",
    "echo \"The transcript reference gtf file is ${gtffile}\"\n",
    "echo \"First rows of the annotation file: ${gtffile}\"\n",
    "head -n 6 ${gtffile}"
   ]
  },
  {
   "cell_type": "code",
   "execution_count": 12,
   "id": "f79e3d1d",
   "metadata": {},
   "outputs": [
    {
     "name": "stdout",
     "output_type": "stream",
     "text": [
      "/shared/projects/2413_rnaseq_cea/scaburet/Results/\n",
      "|-- Rintro\n",
      "|-- deseq2\n",
      "|-- enrich\n",
      "|-- fastp\n",
      "|-- fastq_screen\n",
      "|-- fastqc\n",
      "|-- featurecounts\n",
      "|-- featurecounts2\n",
      "|-- gsea\n",
      "|-- logfiles\n",
      "|-- multiqc\n",
      "|-- pca1\n",
      "|-- qualimap\n",
      "|-- qualimap-11juin\n",
      "|-- salmon\n",
      "|-- salmon2\n",
      "|-- samtools\n",
      "|-- samtools-11juin\n",
      "|-- star\n",
      "|-- star-11juin\n",
      "`-- wgcna\n",
      "\n",
      "21 directories\n"
     ]
    }
   ],
   "source": [
    "## Code cell 16 ##\n",
    "\n",
    "featcountfolder=\"${gohome}$USER/Results/featurecounts2/\"\n",
    "mkdir -p ${featcountfolder}\n",
    "tree -d -L 1 \"${gohome}$USER/Results/\""
   ]
  },
  {
   "cell_type": "code",
   "execution_count": 11,
   "id": "2a31e3b4",
   "metadata": {},
   "outputs": [
    {
     "name": "stdout",
     "output_type": "stream",
     "text": [
      "Screen output is redirected to /shared/projects/2413_rnaseq_cea/scaburet/Results/logfiles/featureCounts-gene-level-counts-individualsamples_samtoolsSort-2.log\n"
     ]
    }
   ],
   "source": [
    "## Code cell 17 ##\n",
    "\n",
    "logfile=\"${logfolder}featureCounts-gene-level-counts-individualsamples_samtoolsSort-2.log\"\n",
    "echo \"Screen output is redirected to ${logfile}\""
   ]
  },
  {
   "cell_type": "code",
   "execution_count": 13,
   "id": "b2d8d987",
   "metadata": {},
   "outputs": [
    {
     "name": "stdout",
     "output_type": "stream",
     "text": [
      "===== Processing sampleID: SRR12730409...\n",
      "...changing tool...\n",
      "... done\n",
      "===== Processing sampleID: SRR12730410...\n",
      "...changing tool...\n",
      "... done\n",
      "===== Processing sampleID: SRR12730411...\n",
      "...changing tool...\n",
      "... done\n",
      "\n",
      "real\t12m40.250s\n",
      "user\t37m49.605s\n",
      "sys\t1m9.624s\n"
     ]
    }
   ],
   "source": [
    "## Code cell 18 ##\n",
    "\n",
    "# as time command does not redirect output\n",
    "echo \"operation starts at $(date)\" >> ${logfile}\n",
    "\n",
    "time for fn in $(ls \"${mappedfolder}\"*_Aligned.sortedByCoord.out.bam); do  \n",
    "    \n",
    "    mysortedbam=$(basename ${fn})\n",
    "    id=${mysortedbam/_Aligned.sortedByCoord.out.bam/}\n",
    "    echo \"===== Processing sampleID: ${id}...\" | tee -a ${logfile}\n",
    "    \n",
    "    # outputfiles\n",
    "    mytempfile=\"${featcountfolder}${id}_Aligned.sortedByNames.bam\"\n",
    "    myoutfile=\"${featcountfolder}${id}_paired-unstranded\"\n",
    "    \n",
    "    # bam sorting...\n",
    "    echo \"samtools starts at $(date)\" >> ${logfile}\n",
    "    samtools sort -n \\\n",
    "                --threads 3 -m 4G \\\n",
    "                --output-fmt BAM \\\n",
    "                -o ${mytempfile} \\\n",
    "                -T ${featcountfolder} \\\n",
    "                ${fn} \\\n",
    "                &>> ${logfile}\n",
    "    echo \"samtools ends at $(date)\" >> ${logfile}\n",
    "\n",
    "    # some user conversation to help being patient\n",
    "    echo \"...changing tool...\" | tee -a ${logfile}\n",
    "\n",
    "    # then featureCounts\n",
    "    echo \"featureCounts starts at $(date)\" >> ${logfile}\n",
    "\n",
    "    featureCounts -p -s 0 -T 4 \\\n",
    "                  -a \"${gtffile}\" \\\n",
    "                  -o \"${myoutfile}.counts\" \\\n",
    "                  ${mytempfile} \\\n",
    "                  --donotsort \\\n",
    "                  --verbose \\\n",
    "                  &>> ${logfile}\n",
    "    echo \"featureCounts ends at $(date)\" >> ${logfile}\n",
    "    \n",
    "    # removing extra bam file... saving disk space\n",
    "    rm ${mytempfile}\n",
    "    \n",
    "    echo \"... done\" | tee -a ${logfile}\n",
    "    \n",
    "done"
   ]
  },
  {
   "cell_type": "code",
   "execution_count": 14,
   "id": "beb357ca",
   "metadata": {},
   "outputs": [
    {
     "name": "stdout",
     "output_type": "stream",
     "text": [
      "featureCounts generated 3 count files.\n",
      "featureCounts generated 3 summary files.\n"
     ]
    }
   ],
   "source": [
    "## Code cell 19 ##\n",
    "\n",
    "echo \"operation ends at $(date)\" >> ${logfile}\n",
    "\n",
    "echo \"=== Files created after featureCounts ===\" >> ${logfile}\n",
    "ls -lh \"${featcountfolder}\" >> ${logfile}\n",
    "echo \"featureCounts generated $(ls \"${featcountfolder}\"*.counts | wc -l) count files.\" \\\n",
    "    | tee -a ${logfile}\n",
    "echo \"featureCounts generated $(ls \"${featcountfolder}\"*.counts.summary | wc -l) summary files.\" \\\n",
    "    | tee -a ${logfile}"
   ]
  },
  {
   "cell_type": "raw",
   "id": "52d6e028",
   "metadata": {},
   "source": [
    "## (Code cell 13) ##\n",
    "\n",
    "logfile2=\"${logfolder}featureCounts-gene-level-counts_3samplestogether-samtoolsSort.log\"\n",
    "echo \"Screen output is redirected to ${logfile2}\""
   ]
  },
  {
   "cell_type": "raw",
   "id": "bcab9ed3",
   "metadata": {},
   "source": [
    "## (Code cell 14) ##\n",
    "\n",
    "# as time command does not redirect output\n",
    "echo \"operation starts at $(date)\" >> ${logfile2}\n",
    "\n",
    "time for fn in $(ls \"${mappedfolder}\"*_Aligned.sortedByCoord.out.bam); do  \n",
    "    \n",
    "    mysortedbam=$(basename ${fn})\n",
    "    id=${mysortedbam/_Aligned.sortedByCoord.out.bam/}\n",
    "    echo \"===== Processing sampleID: ${id}...\" | tee -a ${logfile2}\n",
    "    \n",
    "    # outputfiles\n",
    "    mytempfile=\"${featcountfolder}${id}_Aligned.sortedByNames.bam\"\n",
    "\n",
    "    \n",
    "    # bam sorting...\n",
    "    echo \"samtools starts at $(date)\" >> ${logfile2}\n",
    "    samtools sort -n \\\n",
    "                --threads 3 -m 5G \\\n",
    "                --output-fmt BAM \\\n",
    "                -o ${mytempfile} \\\n",
    "                -T ${featcountfolder} \\\n",
    "                ${fn} \\\n",
    "                &>> ${logfile}\n",
    "    echo \"samtools ends at $(date)\" >> ${logfile2}\n",
    "\n",
    "done"
   ]
  },
  {
   "cell_type": "raw",
   "id": "1f55649f",
   "metadata": {},
   "source": [
    "## (Code cell 15) ##\n",
    "# second log file for the featureCounts steps\n",
    "\n",
    "logfile3=\"${logfolder}counts-gene-level-counts-3samplestogether_featureCounts.log\"\n",
    "echo \"Screen output is redirected to ${logfile3}\""
   ]
  },
  {
   "cell_type": "raw",
   "id": "34b224d2",
   "metadata": {},
   "source": [
    "## (Code cell 16) ##\n",
    "\n",
    "# creating the list of input filenames\n",
    "listSortedBam=$(ls \"${featcountfolder}\"*_Aligned.sortedByNames.bam)\n",
    "echo \"The list of input files is: ${listSortedBam}\" | tee -a ${logfile3}\n",
    "\n",
    "myoutfile=\"${featcountfolder}3samples_paired-unstranded\"\n",
    "\n",
    "echo \"The output file is: ${myoutfile}\" | tee -a ${logfile3}\n",
    "\n",
    "# then running featureCounts\n",
    "echo \"featureCounts starts at $(date)\" >> ${logfile3}\n",
    "\n",
    "featureCounts -p -s 0 -T 16 \\\n",
    "              -a \"${gtffile}\" \\\n",
    "              -o \"${myoutfile}.counts\" \\\n",
    "              ${listSortedBam} \\\n",
    "              --donotsort \\\n",
    "              --verbose \\\n",
    "              &>> ${logfile3}\n",
    "echo \"featureCounts ends at $(date)\" >> ${logfile3}\n",
    "       \n",
    "echo \"... done\" | tee -a ${logfile3}\n",
    "echo \"operation ends at $(date)\" >> ${logfile3}\n",
    "\n",
    "echo \"=== Files created after featureCounts ===\" >> ${logfile3}\n",
    "ls -lh \"${featcountfolder}\" >> ${logfile3}\n",
    "echo \"featureCounts generated $(ls \"${featcountfolder}\"*.counts | wc -l) count files.\" \\\n",
    "    | tee -a ${logfile3}\n",
    "echo \"featureCounts generated $(ls \"${featcountfolder}\"*.counts.summary | wc -l) summary files.\" \\\n",
    "    | tee -a ${logfile3}"
   ]
  },
  {
   "cell_type": "raw",
   "id": "08459e91",
   "metadata": {},
   "source": [
    "## Code cell 17 ##\n",
    "\n",
    "cat ${logfile3} | grep -e \"Successfully assigned alignments\" -e \"Process BAM\""
   ]
  },
  {
   "cell_type": "raw",
   "id": "f052e054",
   "metadata": {},
   "source": [
    "## Code cell 18 ##\n",
    "\n",
    "# to have explanations\n",
    "echo \"summary file\"\n",
    "cat \"${myoutfile}.counts.summary\""
   ]
  },
  {
   "cell_type": "code",
   "execution_count": 15,
   "id": "2c82c55c",
   "metadata": {},
   "outputs": [
    {
     "name": "stdout",
     "output_type": "stream",
     "text": [
      "==> /shared/projects/2413_rnaseq_cea/scaburet/Results/featurecounts/11samples_paired-unstranded.counts <==\n",
      "# Program:featureCounts v2.0.6; Command:\"featureCounts\" \"-p\" \"-s\" \"0\" \"-T\" \"16\" \"-a\" \"/shared/projects/2413_rnaseq_cea/alldata/Reference/extracted/genome_annotation-M35.gtf\" \"-o\" \"/shared/projects/2413_rnaseq_cea/alldata/Results/featurecounts/11samples_paired-unstranded.counts\" \"/shared/projects/2413_rnaseq_cea/alldata/Results/featurecounts/SRR12730403_Aligned.sortedByNames.bam\" \"/shared/projects/2413_rnaseq_cea/alldata/Results/featurecounts/SRR12730404_Aligned.sortedByNames.bam\" \"/shared/projects/2413_rnaseq_cea/alldata/Results/featurecounts/SRR12730405_Aligned.sortedByNames.bam\" \"/shared/projects/2413_rnaseq_cea/alldata/Results/featurecounts/SRR12730406_Aligned.sortedByNames.bam\" \"/shared/projects/2413_rnaseq_cea/alldata/Results/featurecounts/SRR12730407_Aligned.sortedByNames.bam\" \"/shared/projects/2413_rnaseq_cea/alldata/Results/featurecounts/SRR12730408_Aligned.sortedByNames.bam\" \"/shared/projects/2413_rnaseq_cea/alldata/Results/featurecounts/SRR12730409_Aligned.sortedByNames.bam\" \"/shared/projects/2413_rnaseq_cea/alldata/Results/featurecounts/SRR12730410_Aligned.sortedByNames.bam\" \"/shared/projects/2413_rnaseq_cea/alldata/Results/featurecounts/SRR12730411_Aligned.sortedByNames.bam\" \"/shared/projects/2413_rnaseq_cea/alldata/Results/featurecounts/SRR12730412_Aligned.sortedByNames.bam\" \"/shared/projects/2413_rnaseq_cea/alldata/Results/featurecounts/SRR12730413_Aligned.sortedByNames.bam\" \"--donotsort\" \"--verbose\" \n",
      "Geneid\tChr\tStart\tEnd\tStrand\tLength\t/shared/projects/2413_rnaseq_cea/alldata/Results/featurecounts/SRR12730403_Aligned.sortedByNames.bam\t/shared/projects/2413_rnaseq_cea/alldata/Results/featurecounts/SRR12730404_Aligned.sortedByNames.bam\t/shared/projects/2413_rnaseq_cea/alldata/Results/featurecounts/SRR12730405_Aligned.sortedByNames.bam\t/shared/projects/2413_rnaseq_cea/alldata/Results/featurecounts/SRR12730406_Aligned.sortedByNames.bam\t/shared/projects/2413_rnaseq_cea/alldata/Results/featurecounts/SRR12730407_Aligned.sortedByNames.bam\t/shared/projects/2413_rnaseq_cea/alldata/Results/featurecounts/SRR12730408_Aligned.sortedByNames.bam\t/shared/projects/2413_rnaseq_cea/alldata/Results/featurecounts/SRR12730409_Aligned.sortedByNames.bam\t/shared/projects/2413_rnaseq_cea/alldata/Results/featurecounts/SRR12730410_Aligned.sortedByNames.bam\t/shared/projects/2413_rnaseq_cea/alldata/Results/featurecounts/SRR12730411_Aligned.sortedByNames.bam\t/shared/projects/2413_rnaseq_cea/alldata/Results/featurecounts/SRR12730412_Aligned.sortedByNames.bam\t/shared/projects/2413_rnaseq_cea/alldata/Results/featurecounts/SRR12730413_Aligned.sortedByNames.bam\n",
      "ENSMUSG00000102693.2\tchr1\t3143476\t3144545\t+\t1070\t0\t0\t0\t0\t0\t0\t0\t0\t0\t0\t0\n",
      "ENSMUSG00000064842.3\tchr1\t3172239\t3172348\t+\t110\t0\t0\t0\t0\t0\t0\t0\t0\t0\t0\t0\n",
      "ENSMUSG00000051951.6\tchr1;chr1;chr1;chr1;chr1;chr1;chr1\t3276124;3276746;3283662;3283832;3284705;3491925;3740775\t3277540;3277540;3285855;3286567;3287191;3492124;3741721\t-;-;-;-;-;-;-\t6094\t0\t0\t0\t0\t0\t0\t0\t2\t0\t0\t0\n",
      "ENSMUSG00000102851.2\tchr1\t3322980\t3323459\t+\t480\t0\t0\t0\t0\t0\t0\t0\t0\t0\t0\t1\n",
      "ENSMUSG00000103377.2\tchr1\t3435954\t3438772\t-\t2819\t0\t0\t0\t0\t0\t0\t0\t0\t0\t0\t0\n",
      "ENSMUSG00000104017.2\tchr1\t3445779\t3448011\t-\t2233\t0\t0\t0\t0\t0\t0\t0\t0\t0\t0\t0\n",
      "\n",
      "==> /shared/projects/2413_rnaseq_cea/scaburet/Results/featurecounts/SRR12730409_paired-unstranded.counts <==\n",
      "# Program:featureCounts v2.0.6; Command:\"featureCounts\" \"-p\" \"-s\" \"0\" \"-T\" \"16\" \"-a\" \"/shared/projects/2413_rnaseq_cea/alldata/Reference/extracted/genome_annotation-M35.gtf\" \"-o\" \"/shared/projects/2413_rnaseq_cea/scaburet/Results/featurecounts/SRR12730409_paired-unstranded.counts\" \"/shared/projects/2413_rnaseq_cea/scaburet/Results/featurecounts/SRR12730409_Aligned.sortedByNames.bam\" \"--donotsort\" \"--verbose\" \n",
      "Geneid\tChr\tStart\tEnd\tStrand\tLength\t/shared/projects/2413_rnaseq_cea/scaburet/Results/featurecounts/SRR12730409_Aligned.sortedByNames.bam\n",
      "ENSMUSG00000102693.2\tchr1\t3143476\t3144545\t+\t1070\t0\n",
      "ENSMUSG00000064842.3\tchr1\t3172239\t3172348\t+\t110\t0\n",
      "ENSMUSG00000051951.6\tchr1;chr1;chr1;chr1;chr1;chr1;chr1\t3276124;3276746;3283662;3283832;3284705;3491925;3740775\t3277540;3277540;3285855;3286567;3287191;3492124;3741721\t-;-;-;-;-;-;-\t6094\t0\n",
      "ENSMUSG00000102851.2\tchr1\t3322980\t3323459\t+\t480\t0\n",
      "ENSMUSG00000103377.2\tchr1\t3435954\t3438772\t-\t2819\t0\n",
      "ENSMUSG00000104017.2\tchr1\t3445779\t3448011\t-\t2233\t0\n",
      "\n",
      "==> /shared/projects/2413_rnaseq_cea/scaburet/Results/featurecounts/SRR12730410_paired-unstranded.counts <==\n",
      "# Program:featureCounts v2.0.6; Command:\"featureCounts\" \"-p\" \"-s\" \"0\" \"-T\" \"16\" \"-a\" \"/shared/projects/2413_rnaseq_cea/alldata/Reference/extracted/genome_annotation-M35.gtf\" \"-o\" \"/shared/projects/2413_rnaseq_cea/scaburet/Results/featurecounts/SRR12730410_paired-unstranded.counts\" \"/shared/projects/2413_rnaseq_cea/scaburet/Results/featurecounts/SRR12730410_Aligned.sortedByNames.bam\" \"--donotsort\" \"--verbose\" \n",
      "Geneid\tChr\tStart\tEnd\tStrand\tLength\t/shared/projects/2413_rnaseq_cea/scaburet/Results/featurecounts/SRR12730410_Aligned.sortedByNames.bam\n",
      "ENSMUSG00000102693.2\tchr1\t3143476\t3144545\t+\t1070\t0\n",
      "ENSMUSG00000064842.3\tchr1\t3172239\t3172348\t+\t110\t0\n",
      "ENSMUSG00000051951.6\tchr1;chr1;chr1;chr1;chr1;chr1;chr1\t3276124;3276746;3283662;3283832;3284705;3491925;3740775\t3277540;3277540;3285855;3286567;3287191;3492124;3741721\t-;-;-;-;-;-;-\t6094\t2\n",
      "ENSMUSG00000102851.2\tchr1\t3322980\t3323459\t+\t480\t0\n",
      "ENSMUSG00000103377.2\tchr1\t3435954\t3438772\t-\t2819\t0\n",
      "ENSMUSG00000104017.2\tchr1\t3445779\t3448011\t-\t2233\t0\n",
      "\n",
      "==> /shared/projects/2413_rnaseq_cea/scaburet/Results/featurecounts/SRR12730411_paired-unstranded.counts <==\n",
      "# Program:featureCounts v2.0.6; Command:\"featureCounts\" \"-p\" \"-s\" \"0\" \"-T\" \"16\" \"-a\" \"/shared/projects/2413_rnaseq_cea/alldata/Reference/extracted/genome_annotation-M35.gtf\" \"-o\" \"/shared/projects/2413_rnaseq_cea/scaburet/Results/featurecounts/SRR12730411_paired-unstranded.counts\" \"/shared/projects/2413_rnaseq_cea/scaburet/Results/featurecounts/SRR12730411_Aligned.sortedByNames.bam\" \"--donotsort\" \"--verbose\" \n",
      "Geneid\tChr\tStart\tEnd\tStrand\tLength\t/shared/projects/2413_rnaseq_cea/scaburet/Results/featurecounts/SRR12730411_Aligned.sortedByNames.bam\n",
      "ENSMUSG00000102693.2\tchr1\t3143476\t3144545\t+\t1070\t0\n",
      "ENSMUSG00000064842.3\tchr1\t3172239\t3172348\t+\t110\t0\n",
      "ENSMUSG00000051951.6\tchr1;chr1;chr1;chr1;chr1;chr1;chr1\t3276124;3276746;3283662;3283832;3284705;3491925;3740775\t3277540;3277540;3285855;3286567;3287191;3492124;3741721\t-;-;-;-;-;-;-\t6094\t0\n",
      "ENSMUSG00000102851.2\tchr1\t3322980\t3323459\t+\t480\t0\n",
      "ENSMUSG00000103377.2\tchr1\t3435954\t3438772\t-\t2819\t0\n",
      "ENSMUSG00000104017.2\tchr1\t3445779\t3448011\t-\t2233\t0\n"
     ]
    }
   ],
   "source": [
    "## Code cell 20 ##\n",
    "\n",
    "cp ${gohome}alldata/Results/featurecounts/11samples_* ${gohome}$USER/Results/featurecounts/\n",
    "\n",
    "head -n 8 ${gohome}$USER/Results/featurecounts/*_paired-unstranded.counts"
   ]
  },
  {
   "cell_type": "code",
   "execution_count": 16,
   "id": "0ca086e0",
   "metadata": {},
   "outputs": [
    {
     "name": "stdout",
     "output_type": "stream",
     "text": [
      "salmon 1.10.2\n"
     ]
    }
   ],
   "source": [
    "## Code cell 21 ##\n",
    "\n",
    "salmon -v"
   ]
  },
  {
   "cell_type": "code",
   "execution_count": 18,
   "id": "2b9aaaf9",
   "metadata": {},
   "outputs": [
    {
     "name": "stdout",
     "output_type": "stream",
     "text": [
      "The resulting salmon files will be in /shared/projects/2413_rnaseq_cea/scaburet/Results/salmon3/\n"
     ]
    }
   ],
   "source": [
    "## Code cell 22 ##\n",
    "\n",
    "salmonfolder=\"${gohome}$USER/Results/salmon3/\"\n",
    "mkdir -p ${salmonfolder}\n",
    "echo \"The resulting salmon files will be in ${salmonfolder}\""
   ]
  },
  {
   "cell_type": "code",
   "execution_count": 19,
   "id": "06a3842b",
   "metadata": {},
   "outputs": [
    {
     "name": "stdout",
     "output_type": "stream",
     "text": [
      "The general folder for reference genome, annotations and index files is /shared/projects/2413_rnaseq_cea/alldata/Reference/\n",
      "The index folder for Salmon is /shared/projects/2413_rnaseq_cea/alldata/Reference//salmon/\n"
     ]
    }
   ],
   "source": [
    "## Code cell 23 ##\n",
    "\n",
    "reffolder=\"${gohome}alldata/Reference/\"\n",
    "# mkdir -p ${reffolder}\n",
    "echo \"The general folder for reference genome, annotations and index files is ${reffolder}\"\n",
    "\n",
    "\n",
    "salmonreffolder=\"${reffolder}/salmon/\"\n",
    "# mkdir -p ${salmonreffolder}\n",
    "echo \"The index folder for Salmon is ${salmonreffolder}\""
   ]
  },
  {
   "cell_type": "code",
   "execution_count": 20,
   "id": "04d24fa8",
   "metadata": {},
   "outputs": [
    {
     "name": "stdout",
     "output_type": "stream",
     "text": [
      "The analysed fastp.fastq files are in /shared/projects/2413_rnaseq_cea/scaburet/Results/fastp/\n",
      "and they are:\n",
      "SRR12730409_1.fastp.fastq.gz\n",
      "SRR12730409_2.fastp.fastq.gz\n",
      "SRR12730409_fastp.html\n",
      "SRR12730409_fastp.json\n",
      "SRR12730410_1.fastp.fastq.gz\n",
      "SRR12730410_2.fastp.fastq.gz\n",
      "SRR12730410_fastp.html\n",
      "SRR12730410_fastp.json\n",
      "SRR12730411_1.fastp.fastq.gz\n",
      "SRR12730411_2.fastp.fastq.gz\n",
      "SRR12730411_fastp.html\n",
      "SRR12730411_fastp.json\n",
      "preformation\n"
     ]
    }
   ],
   "source": [
    "## Code cell 24 ##\n",
    "\n",
    "fastpfolder=\"${gohome}$USER/Results/fastp/\"\n",
    "echo \"The analysed fastp.fastq files are in ${fastpfolder}\"\n",
    "echo \"and they are:\"\n",
    "ls ${fastpfolder} | grep -v -e \"_removed\" \n",
    "\n",
    "#| wc -l"
   ]
  },
  {
   "cell_type": "code",
   "execution_count": 21,
   "id": "17f569f0",
   "metadata": {},
   "outputs": [
    {
     "name": "stdout",
     "output_type": "stream",
     "text": [
      "Screen output is redirected to /shared/projects/2413_rnaseq_cea/scaburet/Results/logfiles/Salmon3.log\n"
     ]
    }
   ],
   "source": [
    "## Code cell 25 ##\n",
    "\n",
    "logfile4=\"${logfolder}Salmon3.log\"\n",
    "echo \"Screen output is redirected to ${logfile4}\""
   ]
  },
  {
   "cell_type": "raw",
   "id": "a52fda00",
   "metadata": {
    "tags": []
   },
   "source": [
    "## (Code cell 24) ##\n",
    "\n",
    "# For Mus musculus release M35 (latest,June 2024) on GRCm39:\n",
    "\n",
    "transcriptgzurl=\"https://ftp.ebi.ac.uk/pub/databases/gencode/Gencode_mouse/release_M35/gencode.vM35.transcripts.fa.gz\"\n",
    "\n",
    "echo \"===== Transcript file retrieval ...\" >> ${logfile4}\n",
    "wget -P \"${reffolder}\" -N \"${transcriptgzurl}\"\n",
    "echo \"... done\" >> ${logfile4}"
   ]
  },
  {
   "cell_type": "raw",
   "id": "0cdcb2f6",
   "metadata": {
    "tags": []
   },
   "source": [
    "## (Code cell 25) ##\n",
    "\n",
    "transcriptfile=\"${reffolder}gencode.vM35.transcripts.fa.gz\"\n",
    "\n",
    "echo \"The transcript reference files is ${transcriptfile}\""
   ]
  },
  {
   "cell_type": "raw",
   "id": "54b9c929",
   "metadata": {
    "tags": []
   },
   "source": [
    "## (Code cell 26) ##\n",
    "\n",
    "# For Mus musculus release M35 (latest,June 2024) on GRCm39:\n",
    "fagzurl=\"https://ftp.ebi.ac.uk/pub/databases/gencode/Gencode_mouse/release_M35/GRCm39.primary_assembly.genome.fa.gz\"\n",
    "\n",
    "echo \"===== Genome sequence retrieval ...\" >> ${logfile4}\n",
    "wget -P \"${reffolder}\" -N \"${fagzurl}\"\n",
    "echo \"... done\" >> ${logfile4}"
   ]
  },
  {
   "cell_type": "raw",
   "id": "d4e83baa",
   "metadata": {
    "tags": []
   },
   "source": [
    "## (Code cell 27) ##\n",
    "\n",
    "fagzfile=\"${reffolder}GRCm39.primary_assembly.genome.fa.gz\"\n",
    "\n",
    "echo \"The genome reference file is ${fagzfile}\""
   ]
  },
  {
   "cell_type": "raw",
   "id": "a71d9ef2",
   "metadata": {
    "tags": []
   },
   "source": [
    "## (Code cell 28) ##\n",
    "\n",
    "gentromefile=\"${salmonreffolder}gentrome.fa.gz\"\n",
    "cat ${transcriptfile} ${fagzfile} > ${gentromefile}\n",
    "ls -la ${salmonreffolder}\n",
    "\n",
    "#cat gencode.vM35.transcripts.fa.gz GRCm39.primary_assembly.genome.fa.gz > gentrome.fa.gz"
   ]
  },
  {
   "cell_type": "raw",
   "id": "c939b2a6",
   "metadata": {
    "tags": []
   },
   "source": [
    "## (Code cell 29) ##\n",
    "\n",
    "decoy=\"${salmonreffolder}decoys.txt\"\n",
    "\n",
    "grep \"^>\" <(gunzip -c ${fagzfile}) | cut -d \" \" -f 1 > ${decoy}\n",
    "sed -i.bak -e 's/>//g' ${decoy}"
   ]
  },
  {
   "cell_type": "raw",
   "id": "d0de4d0e",
   "metadata": {
    "tags": []
   },
   "source": [
    "## (Code cell 30) ##\n",
    "\n",
    "salmonindex=\"${salmonreffolder}salmon_vM35_index\"\n",
    "\n",
    "salmon index -t ${gentromefile}  \\\n",
    "             -i ${salmonindex} \\ \n",
    "             --decoys ${decoy} \\\n",
    "             --gencode \\\n",
    "             -k 31 \\\n",
    "             -p 18"
   ]
  },
  {
   "cell_type": "code",
   "execution_count": null,
   "id": "d14cf4a8",
   "metadata": {},
   "outputs": [
    {
     "name": "stdout",
     "output_type": "stream",
     "text": [
      "Screen output is redirected to /shared/projects/2413_rnaseq_cea/scaburet/Results/logfiles/Salmon3.log\n",
      "before loop\n",
      "starting the loop with /shared/projects/2413_rnaseq_cea/scaburet/Results/fastp/SRR12730409_1.fastp.fastq.gz\n",
      "====== Processing sampleID: SRR12730409...\n",
      "Version Server Response: Not Found\n",
      "### salmon (selective-alignment-based) v1.10.2\n",
      "### [ program ] => salmon \n",
      "### [ command ] => quant \n",
      "### [ index ] => { /shared/projects/2413_rnaseq_cea/alldata/Reference//salmon/salmon_vM35_index }\n",
      "### [ libType ] => { A }\n",
      "### [ mates1 ] => { /shared/projects/2413_rnaseq_cea/scaburet/Results/fastp/SRR12730409_1.fastp.fastq.gz }\n",
      "### [ mates2 ] => { /shared/projects/2413_rnaseq_cea/scaburet/Results/fastp/SRR12730409_2.fastp.fastq.gz }\n",
      "### [ validateMappings ] => { }\n",
      "### [ threads ] => { 5 }\n",
      "### [ output ] => { /shared/projects/2413_rnaseq_cea/scaburet/Results/salmon3/SRR12730409 }\n",
      "Logs will be written to /shared/projects/2413_rnaseq_cea/scaburet/Results/salmon3/SRR12730409/logs\n",
      "[2024-06-24 12:36:41.169] [jointLog] [info] setting maxHashResizeThreads to 5\n",
      "[2024-06-24 12:36:41.169] [jointLog] [info] Fragment incompatibility prior below threshold.  Incompatible fragments will be ignored.\n",
      "[2024-06-24 12:36:41.169] [jointLog] [info] Usage of --validateMappings implies use of minScoreFraction. Since not explicitly specified, it is being set to 0.65\n",
      "[2024-06-24 12:36:41.169] [jointLog] [info] Setting consensusSlack to selective-alignment default of 0.35.\n",
      "[2024-06-24 12:36:41.169] [jointLog] [info] parsing read library format\n",
      "[2024-06-24 12:36:41.169] [jointLog] [info] There is 1 library.\n",
      "[2024-06-24 12:36:41.170] [jointLog] [info] Loading pufferfish index\n",
      "[2024-06-24 12:36:41.170] [jointLog] [info] Loading dense pufferfish index.\n",
      "-----------------------------------------\n",
      "| Loading contig table | Time = 24.62 s\n",
      "-----------------------------------------\n",
      "size = 25108302\n",
      "-----------------------------------------\n",
      "| Loading contig offsets | Time = 170.88 ms\n",
      "-----------------------------------------\n",
      "-----------------------------------------\n",
      "| Loading reference lengths | Time = 287.07 us\n",
      "-----------------------------------------\n",
      "-----------------------------------------\n",
      "| Loading mphf table | Time = 582.17 ms\n",
      "-----------------------------------------\n",
      "size = 3025387350\n",
      "Number of ones: 25108301\n",
      "Number of ones per inventory item: 512\n",
      "Inventory entries filled: 49040\n",
      "-----------------------------------------\n",
      "| Loading contig boundaries | Time = 6.4809 s\n",
      "-----------------------------------------\n",
      "size = 3025387350\n",
      "-----------------------------------------\n",
      "| Loading sequence | Time = 1.4129 s\n",
      "-----------------------------------------\n",
      "size = 2272138320\n",
      "-----------------------------------------\n",
      "| Loading positions | Time = 7.2517 s\n",
      "-----------------------------------------\n",
      "size = 2977721149\n",
      "-----------------------------------------\n",
      "| Loading reference sequence | Time = 1.0096 s\n",
      "-----------------------------------------\n",
      "-----------------------------------------\n",
      "| Loading reference accumulative lengths | Time = 22.522 ms\n",
      "-----------------------------------------\n",
      "\n",
      "\n",
      "\n",
      "\n",
      "[2024-06-24 12:37:22.724] [jointLog] [info] done\n",
      "[2024-06-24 12:37:22.759] [jointLog] [info] Index contained 147,617 targets\n",
      "[2024-06-24 12:37:22.796] [jointLog] [info] Number of decoys : 61\n",
      "[2024-06-24 12:37:22.796] [jointLog] [info] First decoy index : 147,519 \n",
      "[2024-06-24 12:37:23.800] [jointLog] [info] Automatically detected most likely library type as IU\n",
      "\n",
      "\u001b[A\u001b[32mprocessed\u001b[31m 500,000 \u001b[32mfragments\u001b[0m\n",
      "hits: 1,144,944, hits per frag:  2.35273\u001b[A\u001b[32mprocessed\u001b[31m 1,000,000 \u001b[32mfragments\u001b[0m\n",
      "hits: 2,266,748, hits per frag:  2.29719\u001b[A\u001b[32mprocessed\u001b[31m 1,500,000 \u001b[32mfragments\u001b[0m\n",
      "hits: 3,380,834, hits per frag:  2.26755\u001b[A\u001b[32mprocessed\u001b[31m 2,000,000 \u001b[32mfragments\u001b[0m\n",
      "hits: 4,461,153, hits per frag:  2.24127\u001b[A\u001b[32mprocessed\u001b[31m 2,500,000 \u001b[32mfragments\u001b[0m\n",
      "hits: 5,586,534, hits per frag:  2.24388\u001b[A\u001b[32mprocessed\u001b[31m 3,000,000 \u001b[32mfragments\u001b[0m\n",
      "hits: 6,710,738, hits per frag:  2.23739\u001b[A\u001b[32mprocessed\u001b[31m 3,500,000 \u001b[32mfragments\u001b[0m\n",
      "hits: 7,789,559, hits per frag:  2.22748\u001b[A\u001b[32mprocessed\u001b[31m 4,000,000 \u001b[32mfragments\u001b[0m\n",
      "hits: 8,927,830, hits per frag:  2.24136\u001b[A\u001b[32mprocessed\u001b[31m 4,500,000 \u001b[32mfragments\u001b[0m\n",
      "hits: 10,081,272, hits per frag:  2.26983\u001b[A\u001b[32mprocessed\u001b[31m 5,000,000 \u001b[32mfragments\u001b[0m\n",
      "hits: 11,212,599, hits per frag:  2.2453\u001b[A\u001b[32mprocessed\u001b[31m 5,500,001 \u001b[32mfragments\u001b[0m\n",
      "hits: 12,408,773, hits per frag:  2.26047\u001b[A\u001b[32mprocessed\u001b[31m 6,000,000 \u001b[32mfragments\u001b[0m\n",
      "hits: 13,506,171, hits per frag:  2.25216\u001b[A\u001b[32mprocessed\u001b[31m 6,500,001 \u001b[32mfragments\u001b[0m\n",
      "hits: 14,633,852, hits per frag:  2.25788\u001b[A\u001b[32mprocessed\u001b[31m 7,000,000 \u001b[32mfragments\u001b[0m\n",
      "hits: 15,731,043, hits per frag:  2.24841\u001b[A\u001b[32mprocessed\u001b[31m 7,500,000 \u001b[32mfragments\u001b[0m\n",
      "hits: 16,861,090, hits per frag:  2.25331\u001b[A\u001b[32mprocessed\u001b[31m 8,000,000 \u001b[32mfragments\u001b[0m\n",
      "hits: 17,939,113, hits per frag:  2.24336\u001b[A\u001b[32mprocessed\u001b[31m 8,500,000 \u001b[32mfragments\u001b[0m\n",
      "hits: 19,070,537, hits per frag:  2.24683\u001b[A\u001b[32mprocessed\u001b[31m 9,000,000 \u001b[32mfragments\u001b[0m\n",
      "hits: 20,204,693, hits per frag:  2.24581\u001b[A\u001b[32mprocessed\u001b[31m 9,500,000 \u001b[32mfragments\u001b[0m\n",
      "hits: 21,313,321, hits per frag:  2.24779\u001b[A\u001b[32mprocessed\u001b[31m 10,000,000 \u001b[32mfragments\u001b[0m\n",
      "hits: 22,427,079, hits per frag:  2.24393\u001b[A\u001b[32mprocessed\u001b[31m 10,500,001 \u001b[32mfragments\u001b[0m\n",
      "hits: 23,553,830, hits per frag:  2.24557\u001b[A\u001b[32mprocessed\u001b[31m 11,000,000 \u001b[32mfragments\u001b[0m\n",
      "hits: 24,640,507, hits per frag:  2.24157\u001b[A\u001b[32mprocessed\u001b[31m 11,500,000 \u001b[32mfragments\u001b[0m\n",
      "hits: 25,634,589, hits per frag:  2.23212\u001b[A\u001b[32mprocessed\u001b[31m 12,000,000 \u001b[32mfragments\u001b[0m\n",
      "hits: 26,848,754, hits per frag:  2.23997\u001b[A\u001b[32mprocessed\u001b[31m 12,500,000 \u001b[32mfragments\u001b[0m\n",
      "hits: 27,889,921, hits per frag:  2.23188\u001b[A\u001b[32mprocessed\u001b[31m 13,000,000 \u001b[32mfragments\u001b[0m\n",
      "hits: 28,975,985, hits per frag:  2.23134\u001b[A\u001b[32mprocessed\u001b[31m 13,500,000 \u001b[32mfragments\u001b[0m\n",
      "hits: 30,057,372, hits per frag:  2.22935\u001b[A\u001b[32mprocessed\u001b[31m 14,000,001 \u001b[32mfragments\u001b[0m\n",
      "hits: 31,220,303, hits per frag:  2.23108\u001b[A\u001b[32mprocessed\u001b[31m 14,500,000 \u001b[32mfragments\u001b[0m\n",
      "hits: 32,335,496, hits per frag:  2.23135\u001b[A\u001b[32mprocessed\u001b[31m 15,000,000 \u001b[32mfragments\u001b[0m\n",
      "hits: 33,411,666, hits per frag:  2.22842\u001b[A\u001b[32mprocessed\u001b[31m 15,500,000 \u001b[32mfragments\u001b[0m\n",
      "hits: 34,495,700, hits per frag:  2.22593\u001b[A\u001b[32mprocessed\u001b[31m 16,000,000 \u001b[32mfragments\u001b[0m\n",
      "hits: 35,575,008, hits per frag:  2.2278\u001b[A\u001b[32mprocessed\u001b[31m 16,500,001 \u001b[32mfragments\u001b[0m\n",
      "hits: 36,610,915, hits per frag:  2.22053\u001b[A\u001b[32mprocessed\u001b[31m 17,000,000 \u001b[32mfragments\u001b[0m\n",
      "hits: 37,750,256, hits per frag:  2.22141\u001b[A\u001b[32mprocessed\u001b[31m 17,500,000 \u001b[32mfragments\u001b[0m\n",
      "hits: 38,937,121, hits per frag:  2.22535\u001b[A\u001b[32mprocessed\u001b[31m 18,000,000 \u001b[32mfragments\u001b[0m\n",
      "hits: 40,005,537, hits per frag:  2.22328\u001b[A\u001b[32mprocessed\u001b[31m 18,500,000 \u001b[32mfragments\u001b[0m\n",
      "hits: 41,012,739, hits per frag:  2.21736\u001b[A\u001b[32mprocessed\u001b[31m 19,000,000 \u001b[32mfragments\u001b[0m\n",
      "hits: 42,156,657, hits per frag:  2.22643\u001b[A\u001b[32mprocessed\u001b[31m 19,500,001 \u001b[32mfragments\u001b[0m\n",
      "hits: 43,249,607, hits per frag:  2.21811\u001b[A\u001b[32mprocessed\u001b[31m 20,000,000 \u001b[32mfragments\u001b[0m\n",
      "hits: 44,325,074, hits per frag:  2.21893\u001b[A\u001b[32mprocessed\u001b[31m 20,500,000 \u001b[32mfragments\u001b[0m\n",
      "hits: 45,362,959, hits per frag:  2.21451\u001b[A\u001b[32mprocessed\u001b[31m 21,000,000 \u001b[32mfragments\u001b[0m\n",
      "hits: 46,349,391, hits per frag:  2.20741\u001b[A\u001b[32mprocessed\u001b[31m 21,500,000 \u001b[32mfragments\u001b[0m\n",
      "hits: 47,382,571, hits per frag:  2.206\u001b[A\u001b[32mprocessed\u001b[31m 22,000,000 \u001b[32mfragments\u001b[0m\n",
      "hits: 48,514,121, hits per frag:  2.20555\u001b[A\u001b[32mprocessed\u001b[31m 22,500,000 \u001b[32mfragments\u001b[0m\n",
      "hits: 49,614,018, hits per frag:  2.20634\u001b[A\u001b[32mprocessed\u001b[31m 23,000,000 \u001b[32mfragments\u001b[0m\n",
      "hits: 50,716,083, hits per frag:  2.20718\u001b[A\u001b[32mprocessed\u001b[31m 23,500,001 \u001b[32mfragments\u001b[0m\n",
      "hits: 51,709,500, hits per frag:  2.20046\u001b[A\u001b[32mprocessed\u001b[31m 24,000,000 \u001b[32mfragments\u001b[0m\n",
      "hits: 52,769,544, hits per frag:  2.19965\u001b[A\u001b[32mprocessed\u001b[31m 24,500,000 \u001b[32mfragments\u001b[0m\n",
      "hits: 53,664,675, hits per frag:  2.19051\u001b[A\u001b[32mprocessed\u001b[31m 25,000,000 \u001b[32mfragments\u001b[0m\n",
      "hits: 54,602,611, hits per frag:  2.1856\u001b[A\u001b[32mprocessed\u001b[31m 25,500,000 \u001b[32mfragments\u001b[0m\n",
      "hits: 55,571,274, hits per frag:  2.18117\u001b[A\u001b[32mprocessed\u001b[31m 26,000,000 \u001b[32mfragments\u001b[0m\n",
      "hits: 56,520,710, hits per frag:  2.17432\u001b[A\u001b[32mprocessed\u001b[31m 26,500,000 \u001b[32mfragments\u001b[0m\n",
      "hits: 57,652,781, hits per frag:  2.17624\u001b[A\u001b[32mprocessed\u001b[31m 27,000,000 \u001b[32mfragments\u001b[0m\n",
      "hits: 58,806,039, hits per frag:  2.17849\u001b[A\u001b[32mprocessed\u001b[31m 27,500,000 \u001b[32mfragments\u001b[0m\n",
      "hits: 59,928,360, hits per frag:  2.18191\u001b[A\u001b[32mprocessed\u001b[31m 28,000,000 \u001b[32mfragments\u001b[0m\n",
      "hits: 61,129,583, hits per frag:  2.18466\u001b[A\u001b[32mprocessed\u001b[31m 28,500,000 \u001b[32mfragments\u001b[0m\n",
      "hits: 62,243,034, hits per frag:  2.18428\u001b[A\u001b[32mprocessed\u001b[31m 29,000,000 \u001b[32mfragments\u001b[0m\n",
      "hits: 63,367,043, hits per frag:  2.18534\u001b[A\u001b[32mprocessed\u001b[31m 29,500,000 \u001b[32mfragments\u001b[0m\n",
      "hits: 64,321,709, hits per frag:  2.18122\u001b[A\u001b[32mprocessed\u001b[31m 30,000,000 \u001b[32mfragments\u001b[0m\n",
      "hits: 65,435,162, hits per frag:  2.18991\u001b[A\u001b[32mprocessed\u001b[31m 30,500,000 \u001b[32mfragments\u001b[0m\n",
      "hits: 66,447,597, hits per frag:  2.18383\u001b[A\u001b[32mprocessed\u001b[31m 31,000,000 \u001b[32mfragments\u001b[0m\n",
      "hits: 67,573,404, hits per frag:  2.18064\u001b[A\u001b[32mprocessed\u001b[31m 31,500,001 \u001b[32mfragments\u001b[0m\n",
      "hits: 68,656,731, hits per frag:  2.17984\u001b[A\u001b[32mprocessed\u001b[31m 32,000,000 \u001b[32mfragments\u001b[0m\n",
      "hits: 69,793,313, hits per frag:  2.1811\u001b[A\u001b[32mprocessed\u001b[31m 32,500,000 \u001b[32mfragments\u001b[0m\n",
      "hits: 70,875,808, hits per frag:  2.18135\u001b[A\u001b[32mprocessed\u001b[31m 33,000,000 \u001b[32mfragments\u001b[0m\n",
      "hits: 72,002,578, hits per frag:  2.18225\u001b[A\u001b[32mprocessed\u001b[31m 33,500,000 \u001b[32mfragments\u001b[0m\n",
      "hits: 73,129,001, hits per frag:  2.18337\u001b[A\u001b[32mprocessed\u001b[31m 34,000,000 \u001b[32mfragments\u001b[0m\n",
      "hits: 74,199,540, hits per frag:  2.1826\u001b[A\u001b[32mprocessed\u001b[31m 34,500,001 \u001b[32mfragments\u001b[0m\n",
      "hits: 75,211,996, hits per frag:  2.18048\u001b[A\u001b[32mprocessed\u001b[31m 35,000,000 \u001b[32mfragments\u001b[0m\n",
      "hits: 76,328,675, hits per frag:  2.18212\u001b[A\u001b[32mprocessed\u001b[31m 35,500,000 \u001b[32mfragments\u001b[0m\n",
      "hits: 77,454,661, hits per frag:  2.18248\u001b[A\u001b[32mprocessed\u001b[31m 36,000,001 \u001b[32mfragments\u001b[0m\n",
      "hits: 78,570,551, hits per frag:  2.18279\u001b[A\u001b[32mprocessed\u001b[31m 36,500,000 \u001b[32mfragments\u001b[0m\n",
      "hits: 79,649,273, hits per frag:  2.1829\u001b[A\u001b[32mprocessed\u001b[31m 37,000,000 \u001b[32mfragments\u001b[0m\n",
      "hits: 80,746,281, hits per frag:  2.18279\u001b[A\u001b[32mprocessed\u001b[31m 37,500,001 \u001b[32mfragments\u001b[0m\n",
      "hits: 81,793,435, hits per frag:  2.18178\u001b[A\u001b[32mprocessed\u001b[31m 38,000,000 \u001b[32mfragments\u001b[0m\n",
      "hits: 82,844,562, hits per frag:  2.18088\n",
      "\n",
      "\n",
      "\n",
      "\n",
      "\n",
      "\n",
      "\n",
      "[2024-06-24 12:54:10.134] [jointLog] [info] Computed 344,985 rich equivalence classes for further processing\n",
      "[2024-06-24 12:54:10.134] [jointLog] [info] Counted 28,788,645 total reads in the equivalence classes \n",
      "[2024-06-24 12:54:10.138] [jointLog] [info] Number of mappings discarded because of alignment score : 69,021,761\n",
      "[2024-06-24 12:54:10.138] [jointLog] [info] Number of fragments entirely discarded because of alignment score : 7,160,477\n",
      "[2024-06-24 12:54:10.138] [jointLog] [info] Number of fragments discarded because they are best-mapped to decoys : 1,045,152\n",
      "[2024-06-24 12:54:10.138] [jointLog] [info] Number of fragments discarded because they have only dovetail (discordant) mappings to valid targets : 272,999\n",
      "[2024-06-24 12:54:10.138] [jointLog] [info] Mapping rate = 75.3482%\n",
      "\n",
      "[2024-06-24 12:54:10.138] [jointLog] [info] finished quantifyLibrary()\n",
      "[2024-06-24 12:54:10.139] [jointLog] [info] Starting optimizer\n",
      "[2024-06-24 12:54:10.251] [jointLog] [info] Marked 0 weighted equivalence classes as degenerate\n",
      "[2024-06-24 12:54:10.269] [jointLog] [info] iteration = 0 | max rel diff. = 8176.98\n",
      "[2024-06-24 12:54:11.931] [jointLog] [info] iteration = 100 | max rel diff. = 6.3087\n",
      "[2024-06-24 12:54:13.586] [jointLog] [info] iteration = 200 | max rel diff. = 11.7683\n",
      "[2024-06-24 12:54:15.247] [jointLog] [info] iteration = 300 | max rel diff. = 3.29462\n",
      "[2024-06-24 12:54:16.910] [jointLog] [info] iteration = 400 | max rel diff. = 1.06555\n",
      "[2024-06-24 12:54:18.563] [jointLog] [info] iteration = 500 | max rel diff. = 0.410904\n",
      "[2024-06-24 12:54:20.237] [jointLog] [info] iteration = 600 | max rel diff. = 0.335245\n",
      "[2024-06-24 12:54:21.895] [jointLog] [info] iteration = 700 | max rel diff. = 0.0833413\n",
      "[2024-06-24 12:54:23.594] [jointLog] [info] iteration = 800 | max rel diff. = 0.0419097\n",
      "[2024-06-24 12:54:25.287] [jointLog] [info] iteration = 900 | max rel diff. = 0.118118\n",
      "[2024-06-24 12:54:27.100] [jointLog] [info] iteration = 1,000 | max rel diff. = 0.0143686\n",
      "[2024-06-24 12:54:28.912] [jointLog] [info] iteration = 1,100 | max rel diff. = 0.0371958\n",
      "[2024-06-24 12:54:30.697] [jointLog] [info] iteration = 1,200 | max rel diff. = 0.0197795\n",
      "[2024-06-24 12:54:32.070] [jointLog] [info] iteration = 1,276 | max rel diff. = 0.00396481\n",
      "[2024-06-24 12:54:32.077] [jointLog] [info] Finished optimizer\n",
      "[2024-06-24 12:54:32.077] [jointLog] [info] writing output \n",
      "\n",
      "...done\n",
      "starting the loop with /shared/projects/2413_rnaseq_cea/scaburet/Results/fastp/SRR12730410_1.fastp.fastq.gz\n",
      "====== Processing sampleID: SRR12730410...\n",
      "Version Server Response: Not Found\n",
      "### salmon (selective-alignment-based) v1.10.2\n",
      "### [ program ] => salmon \n",
      "### [ command ] => quant \n",
      "### [ index ] => { /shared/projects/2413_rnaseq_cea/alldata/Reference//salmon/salmon_vM35_index }\n",
      "### [ libType ] => { A }\n",
      "### [ mates1 ] => { /shared/projects/2413_rnaseq_cea/scaburet/Results/fastp/SRR12730410_1.fastp.fastq.gz }\n",
      "### [ mates2 ] => { /shared/projects/2413_rnaseq_cea/scaburet/Results/fastp/SRR12730410_2.fastp.fastq.gz }\n",
      "### [ validateMappings ] => { }\n",
      "### [ threads ] => { 5 }\n",
      "### [ output ] => { /shared/projects/2413_rnaseq_cea/scaburet/Results/salmon3/SRR12730410 }\n",
      "Logs will be written to /shared/projects/2413_rnaseq_cea/scaburet/Results/salmon3/SRR12730410/logs\n",
      "[2024-06-24 12:54:34.842] [jointLog] [info] setting maxHashResizeThreads to 5\n",
      "[2024-06-24 12:54:34.842] [jointLog] [info] Fragment incompatibility prior below threshold.  Incompatible fragments will be ignored.\n",
      "[2024-06-24 12:54:34.842] [jointLog] [info] Usage of --validateMappings implies use of minScoreFraction. Since not explicitly specified, it is being set to 0.65\n",
      "[2024-06-24 12:54:34.842] [jointLog] [info] Setting consensusSlack to selective-alignment default of 0.35.\n",
      "[2024-06-24 12:54:34.842] [jointLog] [info] parsing read library format\n",
      "[2024-06-24 12:54:34.842] [jointLog] [info] There is 1 library.\n",
      "[2024-06-24 12:54:34.845] [jointLog] [info] Loading pufferfish index\n",
      "[2024-06-24 12:54:34.846] [jointLog] [info] Loading dense pufferfish index.\n",
      "-----------------------------------------\n",
      "| Loading contig table | Time = 24.761 s\n",
      "-----------------------------------------\n",
      "size = 25108302\n",
      "-----------------------------------------\n",
      "| Loading contig offsets | Time = 169.13 ms\n",
      "-----------------------------------------\n",
      "-----------------------------------------\n",
      "| Loading reference lengths | Time = 17.853 ms\n",
      "-----------------------------------------\n",
      "-----------------------------------------\n",
      "| Loading mphf table | Time = 668.29 ms\n",
      "-----------------------------------------\n",
      "size = 3025387350\n",
      "Number of ones: 25108301\n",
      "Number of ones per inventory item: 512\n",
      "Inventory entries filled: 49040\n",
      "-----------------------------------------\n",
      "| Loading contig boundaries | Time = 6.561 s\n",
      "-----------------------------------------\n",
      "size = 3025387350\n",
      "-----------------------------------------\n",
      "| Loading sequence | Time = 1.479 s\n",
      "-----------------------------------------\n",
      "size = 2272138320\n",
      "-----------------------------------------\n",
      "| Loading positions | Time = 12.961 s\n",
      "-----------------------------------------\n",
      "size = 2977721149\n",
      "-----------------------------------------\n",
      "| Loading reference sequence | Time = 1.2857 s\n",
      "-----------------------------------------\n",
      "-----------------------------------------\n",
      "| Loading reference accumulative lengths | Time = 845.02 us\n",
      "-----------------------------------------\n",
      "\n",
      "\n",
      "\n",
      "\n",
      "[2024-06-24 12:55:22.805] [jointLog] [info] done\n",
      "[2024-06-24 12:55:22.858] [jointLog] [info] Index contained 147,617 targets\n",
      "[2024-06-24 12:55:22.896] [jointLog] [info] Number of decoys : 61\n",
      "[2024-06-24 12:55:22.896] [jointLog] [info] First decoy index : 147,519 \n",
      "[2024-06-24 12:55:23.973] [jointLog] [info] Automatically detected most likely library type as IU\n",
      "\n",
      "\u001b[A\u001b[32mprocessed\u001b[31m 500,000 \u001b[32mfragments\u001b[0m\n",
      "hits: 1,220,186, hits per frag:  2.53828\u001b[A\u001b[32mprocessed\u001b[31m 1,000,000 \u001b[32mfragments\u001b[0m\n",
      "hits: 2,414,159, hits per frag:  2.43694\u001b[A\u001b[32mprocessed\u001b[31m 1,500,001 \u001b[32mfragments\u001b[0m\n",
      "hits: 3,571,263, hits per frag:  2.3936\u001b[A\u001b[32mprocessed\u001b[31m 2,000,000 \u001b[32mfragments\u001b[0m\n",
      "hits: 4,739,018, hits per frag:  2.38182\u001b[A\u001b[32mprocessed\u001b[31m 2,500,001 \u001b[32mfragments\u001b[0m\n",
      "hits: 5,832,560, hits per frag:  2.34175\u001b[A\u001b[32mprocessed\u001b[31m 3,000,000 \u001b[32mfragments\u001b[0m\n",
      "hits: 7,134,507, hits per frag:  2.38683\u001b[A\u001b[32mprocessed\u001b[31m 3,500,000 \u001b[32mfragments\u001b[0m\n",
      "hits: 8,368,542, hits per frag:  2.39563\u001b[A\u001b[32mprocessed\u001b[31m 4,000,000 \u001b[32mfragments\u001b[0m\n",
      "hits: 9,514,437, hits per frag:  2.38014\u001b[A\u001b[32mprocessed\u001b[31m 4,500,000 \u001b[32mfragments\u001b[0m\n",
      "hits: 10,630,565, hits per frag:  2.3744\u001b[A\u001b[32mprocessed\u001b[31m 5,000,000 \u001b[32mfragments\u001b[0m\n",
      "hits: 11,715,242, hits per frag:  2.35073\u001b[A\u001b[32mprocessed\u001b[31m 5,500,000 \u001b[32mfragments\u001b[0m\n",
      "hits: 12,876,832, hits per frag:  2.34211\u001b[A\u001b[32mprocessed\u001b[31m 6,000,000 \u001b[32mfragments\u001b[0m\n",
      "hits: 14,012,654, hits per frag:  2.34032\u001b[A\u001b[32mprocessed\u001b[31m 6,500,000 \u001b[32mfragments\u001b[0m\n",
      "hits: 15,090,906, hits per frag:  2.3234\u001b[A\u001b[32mprocessed\u001b[31m 7,000,000 \u001b[32mfragments\u001b[0m\n",
      "hits: 16,287,476, hits per frag:  2.3281\u001b[A\u001b[32mprocessed\u001b[31m 7,500,001 \u001b[32mfragments\u001b[0m\n",
      "hits: 17,486,475, hits per frag:  2.33352\u001b[A\u001b[32mprocessed\u001b[31m 8,000,000 \u001b[32mfragments\u001b[0m\n",
      "hits: 18,573,563, hits per frag:  2.32825\u001b[A\u001b[32mprocessed\u001b[31m 8,500,000 \u001b[32mfragments\u001b[0m\n",
      "hits: 19,682,777, hits per frag:  2.31676\u001b[A\u001b[32mprocessed\u001b[31m 9,000,000 \u001b[32mfragments\u001b[0m\n",
      "hits: 20,937,811, hits per frag:  2.32648\u001b[A\u001b[32mprocessed\u001b[31m 9,500,000 \u001b[32mfragments\u001b[0m\n",
      "hits: 22,066,289, hits per frag:  2.32401\u001b[A\u001b[32mprocessed\u001b[31m 10,000,000 \u001b[32mfragments\u001b[0m\n",
      "hits: 23,218,361, hits per frag:  2.32359\u001b[A\u001b[32mprocessed\u001b[31m 10,500,000 \u001b[32mfragments\u001b[0m\n",
      "hits: 24,424,446, hits per frag:  2.32802\u001b[A\u001b[32mprocessed\u001b[31m 11,000,001 \u001b[32mfragments\u001b[0m\n",
      "hits: 25,537,142, hits per frag:  2.32308\u001b[A\u001b[32mprocessed\u001b[31m 11,500,000 \u001b[32mfragments\u001b[0m\n",
      "hits: 26,772,501, hits per frag:  2.3327\u001b[A\u001b[32mprocessed\u001b[31m 12,000,000 \u001b[32mfragments\u001b[0m\n",
      "hits: 27,914,154, hits per frag:  2.32811\u001b[A\u001b[32mprocessed\u001b[31m 12,500,000 \u001b[32mfragments\u001b[0m\n",
      "hits: 29,007,014, hits per frag:  2.32202\u001b[A\u001b[32mprocessed\u001b[31m 13,000,000 \u001b[32mfragments\u001b[0m\n",
      "hits: 30,142,840, hits per frag:  2.32066\u001b[A\u001b[32mprocessed\u001b[31m 13,500,001 \u001b[32mfragments\u001b[0m\n",
      "hits: 31,290,977, hits per frag:  2.31908\u001b[A\u001b[32mprocessed\u001b[31m 14,000,000 \u001b[32mfragments\u001b[0m\n",
      "hits: 32,389,329, hits per frag:  2.31454\u001b[A\u001b[32mprocessed\u001b[31m 14,500,000 \u001b[32mfragments\u001b[0m\n",
      "hits: 33,655,649, hits per frag:  2.32119\u001b[A\u001b[32mprocessed\u001b[31m 15,000,000 \u001b[32mfragments\u001b[0m\n",
      "hits: 34,733,087, hits per frag:  2.31798\u001b[A\u001b[32mprocessed\u001b[31m 15,500,000 \u001b[32mfragments\u001b[0m\n",
      "hits: 35,899,394, hits per frag:  2.31659\u001b[A\u001b[32mprocessed\u001b[31m 16,000,000 \u001b[32mfragments\u001b[0m\n",
      "hits: 36,991,682, hits per frag:  2.31225\u001b[A\u001b[32mprocessed\u001b[31m 16,500,001 \u001b[32mfragments\u001b[0m\n",
      "hits: 38,108,935, hits per frag:  2.31199\u001b[A\u001b[32mprocessed\u001b[31m 17,000,000 \u001b[32mfragments\u001b[0m\n",
      "hits: 39,246,555, hits per frag:  2.31025\u001b[A\u001b[32mprocessed\u001b[31m 17,500,000 \u001b[32mfragments\u001b[0m\n",
      "hits: 40,403,399, hits per frag:  2.31002\u001b[A\u001b[32mprocessed\u001b[31m 18,000,000 \u001b[32mfragments\u001b[0m\n",
      "hits: 41,511,161, hits per frag:  2.30686\u001b[A\u001b[32mprocessed\u001b[31m 18,500,001 \u001b[32mfragments\u001b[0m\n",
      "hits: 42,664,247, hits per frag:  2.308\u001b[A\u001b[32mprocessed\u001b[31m 19,000,000 \u001b[32mfragments\u001b[0m\n",
      "hits: 43,732,071, hits per frag:  2.30197\u001b[A\u001b[32mprocessed\u001b[31m 19,500,000 \u001b[32mfragments\u001b[0m\n",
      "hits: 44,857,470, hits per frag:  2.30291\u001b[A\u001b[32mprocessed\u001b[31m 20,000,001 \u001b[32mfragments\u001b[0m\n",
      "hits: 45,943,054, hits per frag:  2.29753\u001b[A\u001b[32mprocessed\u001b[31m 20,500,000 \u001b[32mfragments\u001b[0m\n",
      "hits: 47,080,173, hits per frag:  2.2973\u001b[A\u001b[32mprocessed\u001b[31m 21,000,000 \u001b[32mfragments\u001b[0m\n",
      "hits: 48,174,643, hits per frag:  2.30225\u001b[A\u001b[32mprocessed\u001b[31m 21,500,000 \u001b[32mfragments\u001b[0m\n",
      "hits: 49,443,703, hits per frag:  2.29975\u001b[A\u001b[32mprocessed\u001b[31m 22,000,000 \u001b[32mfragments\u001b[0m\n",
      "hits: 50,610,087, hits per frag:  2.30118\u001b[A\u001b[32mprocessed\u001b[31m 22,500,000 \u001b[32mfragments\u001b[0m\n",
      "hits: 51,514,621, hits per frag:  2.29086\u001b[A\u001b[32mprocessed\u001b[31m 23,000,000 \u001b[32mfragments\u001b[0m\n",
      "hits: 52,649,300, hits per frag:  2.28933\u001b[A\u001b[32mprocessed\u001b[31m 23,500,000 \u001b[32mfragments\u001b[0m\n",
      "hits: 53,773,718, hits per frag:  2.2894\u001b[A\u001b[32mprocessed\u001b[31m 24,000,000 \u001b[32mfragments\u001b[0m\n",
      "hits: 54,880,012, hits per frag:  2.28754\u001b[A\u001b[32mprocessed\u001b[31m 24,500,000 \u001b[32mfragments\u001b[0m\n",
      "hits: 55,872,746, hits per frag:  2.28085\u001b[A\u001b[32mprocessed\u001b[31m 25,000,000 \u001b[32mfragments\u001b[0m\n",
      "hits: 57,005,774, hits per frag:  2.28139\u001b[A\u001b[32mprocessed\u001b[31m 25,500,000 \u001b[32mfragments\u001b[0m\n",
      "hits: 58,199,006, hits per frag:  2.2836\u001b[A\u001b[32mprocessed\u001b[31m 26,000,000 \u001b[32mfragments\u001b[0m\n",
      "hits: 59,385,170, hits per frag:  2.28535\u001b[A\u001b[32mprocessed\u001b[31m 26,500,000 \u001b[32mfragments\u001b[0m\n",
      "hits: 60,551,629, hits per frag:  2.28512\u001b[A\u001b[32mprocessed\u001b[31m 27,000,000 \u001b[32mfragments\u001b[0m\n",
      "hits: 61,738,800, hits per frag:  2.28671\u001b[A\u001b[32mprocessed\u001b[31m 27,500,000 \u001b[32mfragments\u001b[0m\n",
      "hits: 62,721,433, hits per frag:  2.28173\u001b[A\u001b[32mprocessed\u001b[31m 28,000,001 \u001b[32mfragments\u001b[0m\n",
      "hits: 63,586,425, hits per frag:  2.27255\u001b[A\u001b[32mprocessed\u001b[31m 28,500,000 \u001b[32mfragments\u001b[0m\n",
      "hits: 64,480,827, hits per frag:  2.26342\u001b[A\u001b[32mprocessed\u001b[31m 29,000,000 \u001b[32mfragments\u001b[0m\n",
      "hits: 65,369,650, hits per frag:  2.25426\u001b[A\u001b[32mprocessed\u001b[31m 29,500,001 \u001b[32mfragments\u001b[0m\n",
      "hits: 66,410,470, hits per frag:  2.25256\u001b[A\u001b[32mprocessed\u001b[31m 30,000,000 \u001b[32mfragments\u001b[0m\n",
      "hits: 67,661,931, hits per frag:  2.25649\u001b[A\u001b[32mprocessed\u001b[31m 30,500,000 \u001b[32mfragments\u001b[0m\n",
      "hits: 68,724,393, hits per frag:  2.25365\u001b[A\u001b[32mprocessed\u001b[31m 31,000,000 \u001b[32mfragments\u001b[0m\n",
      "hits: 69,858,692, hits per frag:  2.25354\u001b[A\u001b[32mprocessed\u001b[31m 31,500,001 \u001b[32mfragments\u001b[0m\n",
      "hits: 71,059,504, hits per frag:  2.2564\u001b[A\u001b[32mprocessed\u001b[31m 32,000,000 \u001b[32mfragments\u001b[0m\n",
      "hits: 71,952,315, hits per frag:  2.24947\u001b[A\u001b[32mprocessed\u001b[31m 32,500,000 \u001b[32mfragments\u001b[0m\n",
      "hits: 73,042,163, hits per frag:  2.24838\u001b[A\u001b[32mprocessed\u001b[31m 33,000,000 \u001b[32mfragments\u001b[0m\n",
      "hits: 74,180,624, hits per frag:  2.24864\u001b[A\u001b[32mprocessed\u001b[31m 33,500,000 \u001b[32mfragments\u001b[0m\n",
      "hits: 75,224,613, hits per frag:  2.2458\u001b[A\u001b[32mprocessed\u001b[31m 34,000,000 \u001b[32mfragments\u001b[0m\n",
      "hits: 76,382,644, hits per frag:  2.2472\u001b[A\u001b[32mprocessed\u001b[31m 34,500,000 \u001b[32mfragments\u001b[0m\n",
      "hits: 77,507,520, hits per frag:  2.24931\u001b[A\u001b[32mprocessed\u001b[31m 35,000,000 \u001b[32mfragments\u001b[0m\n",
      "hits: 78,649,986, hits per frag:  2.24783\u001b[A\u001b[32mprocessed\u001b[31m 35,500,000 \u001b[32mfragments\u001b[0m\n",
      "hits: 79,815,673, hits per frag:  2.2492\u001b[A\u001b[32mprocessed\u001b[31m 36,000,000 \u001b[32mfragments\u001b[0m\n",
      "hits: 80,991,580, hits per frag:  2.25165\u001b[A\u001b[32mprocessed\u001b[31m 36,500,000 \u001b[32mfragments\u001b[0m\n",
      "hits: 82,021,023, hits per frag:  2.25001\u001b[A\u001b[32mprocessed\u001b[31m 37,000,000 \u001b[32mfragments\u001b[0m\n",
      "hits: 83,179,772, hits per frag:  2.25498\u001b[A\u001b[32mprocessed\u001b[31m 37,500,000 \u001b[32mfragments\u001b[0m\n",
      "hits: 84,274,757, hits per frag:  2.24764\u001b[A\u001b[32mprocessed\u001b[31m 38,000,000 \u001b[32mfragments\u001b[0m\n",
      "hits: 85,448,502, hits per frag:  2.24934\u001b[A\u001b[32mprocessed\u001b[31m 38,500,000 \u001b[32mfragments\u001b[0m\n",
      "hits: 86,553,220, hits per frag:  2.24846\u001b[A\u001b[32mprocessed\u001b[31m 39,000,000 \u001b[32mfragments\u001b[0m\n",
      "hits: 87,628,300, hits per frag:  2.24694\u001b[A\u001b[32mprocessed\u001b[31m 39,500,000 \u001b[32mfragments\u001b[0m\n",
      "hits: 88,753,232, hits per frag:  2.24704\u001b[A\u001b[32mprocessed\u001b[31m 40,000,000 \u001b[32mfragments\u001b[0m\n",
      "hits: 89,980,965, hits per frag:  2.25316\n",
      "\n",
      "\n",
      "\n",
      "\n",
      "\n",
      "\n",
      "\n",
      "[2024-06-24 13:12:25.832] [jointLog] [info] Computed 339,324 rich equivalence classes for further processing\n",
      "[2024-06-24 13:12:25.832] [jointLog] [info] Counted 30,713,106 total reads in the equivalence classes \n",
      "[2024-06-24 13:12:25.837] [jointLog] [info] Number of mappings discarded because of alignment score : 77,170,175\n",
      "[2024-06-24 13:12:25.837] [jointLog] [info] Number of fragments entirely discarded because of alignment score : 7,351,838\n",
      "[2024-06-24 13:12:25.837] [jointLog] [info] Number of fragments discarded because they are best-mapped to decoys : 1,030,557\n",
      "[2024-06-24 13:12:25.837] [jointLog] [info] Number of fragments discarded because they have only dovetail (discordant) mappings to valid targets : 313,649\n",
      "[2024-06-24 13:12:25.837] [jointLog] [info] Mapping rate = 76.5155%\n",
      "\n",
      "[2024-06-24 13:12:25.837] [jointLog] [info] finished quantifyLibrary()\n",
      "[2024-06-24 13:12:25.839] [jointLog] [info] Starting optimizer\n",
      "[2024-06-24 13:12:25.972] [jointLog] [info] Marked 0 weighted equivalence classes as degenerate\n",
      "[2024-06-24 13:12:25.990] [jointLog] [info] iteration = 0 | max rel diff. = 8015.06\n",
      "[2024-06-24 13:12:27.691] [jointLog] [info] iteration = 100 | max rel diff. = 17.9608\n",
      "[2024-06-24 13:12:29.397] [jointLog] [info] iteration = 200 | max rel diff. = 1.80958\n",
      "[2024-06-24 13:12:31.073] [jointLog] [info] iteration = 300 | max rel diff. = 10.8713\n",
      "[2024-06-24 13:12:32.760] [jointLog] [info] iteration = 400 | max rel diff. = 2.40825\n",
      "[2024-06-24 13:12:34.446] [jointLog] [info] iteration = 500 | max rel diff. = 0.180194\n",
      "[2024-06-24 13:12:36.224] [jointLog] [info] iteration = 600 | max rel diff. = 0.807537\n",
      "[2024-06-24 13:12:37.947] [jointLog] [info] iteration = 700 | max rel diff. = 0.0288658\n",
      "[2024-06-24 13:12:39.620] [jointLog] [info] iteration = 800 | max rel diff. = 0.0558125\n",
      "[2024-06-24 13:12:41.326] [jointLog] [info] iteration = 900 | max rel diff. = 0.0556426\n",
      "[2024-06-24 13:12:43.017] [jointLog] [info] iteration = 1,000 | max rel diff. = 0.0346065\n",
      "[2024-06-24 13:12:44.757] [jointLog] [info] iteration = 1,100 | max rel diff. = 0.0273649\n",
      "[2024-06-24 13:12:46.460] [jointLog] [info] iteration = 1,200 | max rel diff. = 0.101519\n",
      "[2024-06-24 13:12:48.158] [jointLog] [info] iteration = 1,300 | max rel diff. = 0.0364317\n",
      "[2024-06-24 13:12:49.934] [jointLog] [info] iteration = 1,400 | max rel diff. = 0.135698\n",
      "[2024-06-24 13:12:51.622] [jointLog] [info] iteration = 1,500 | max rel diff. = 0.0266392\n",
      "[2024-06-24 13:12:52.270] [jointLog] [info] iteration = 1,538 | max rel diff. = 0.00430646\n",
      "[2024-06-24 13:12:52.276] [jointLog] [info] Finished optimizer\n",
      "[2024-06-24 13:12:52.276] [jointLog] [info] writing output \n",
      "\n",
      "...done\n",
      "starting the loop with /shared/projects/2413_rnaseq_cea/scaburet/Results/fastp/SRR12730411_1.fastp.fastq.gz\n",
      "====== Processing sampleID: SRR12730411...\n",
      "Version Server Response: Not Found\n",
      "### salmon (selective-alignment-based) v1.10.2\n",
      "### [ program ] => salmon \n",
      "### [ command ] => quant \n",
      "### [ index ] => { /shared/projects/2413_rnaseq_cea/alldata/Reference//salmon/salmon_vM35_index }\n",
      "### [ libType ] => { A }\n",
      "### [ mates1 ] => { /shared/projects/2413_rnaseq_cea/scaburet/Results/fastp/SRR12730411_1.fastp.fastq.gz }\n",
      "### [ mates2 ] => { /shared/projects/2413_rnaseq_cea/scaburet/Results/fastp/SRR12730411_2.fastp.fastq.gz }\n",
      "### [ validateMappings ] => { }\n",
      "### [ threads ] => { 5 }\n",
      "### [ output ] => { /shared/projects/2413_rnaseq_cea/scaburet/Results/salmon3/SRR12730411 }\n",
      "Logs will be written to /shared/projects/2413_rnaseq_cea/scaburet/Results/salmon3/SRR12730411/logs\n",
      "[2024-06-24 13:12:54.853] [jointLog] [info] setting maxHashResizeThreads to 5\n",
      "[2024-06-24 13:12:54.853] [jointLog] [info] Fragment incompatibility prior below threshold.  Incompatible fragments will be ignored.\n",
      "[2024-06-24 13:12:54.853] [jointLog] [info] Usage of --validateMappings implies use of minScoreFraction. Since not explicitly specified, it is being set to 0.65\n",
      "[2024-06-24 13:12:54.853] [jointLog] [info] Setting consensusSlack to selective-alignment default of 0.35.\n",
      "[2024-06-24 13:12:54.853] [jointLog] [info] parsing read library format\n",
      "[2024-06-24 13:12:54.853] [jointLog] [info] There is 1 library.\n",
      "[2024-06-24 13:12:54.855] [jointLog] [info] Loading pufferfish index\n",
      "[2024-06-24 13:12:54.855] [jointLog] [info] Loading dense pufferfish index.\n",
      "-----------------------------------------\n",
      "| Loading contig table | Time = 25.422 s\n",
      "-----------------------------------------\n",
      "size = 25108302\n",
      "-----------------------------------------\n",
      "| Loading contig offsets | Time = 85.216 ms\n",
      "-----------------------------------------\n",
      "-----------------------------------------\n",
      "| Loading reference lengths | Time = 272.99 us\n",
      "-----------------------------------------\n",
      "-----------------------------------------\n",
      "| Loading mphf table | Time = 2.3354 s\n",
      "-----------------------------------------\n",
      "size = 3025387350\n",
      "Number of ones: 25108301\n",
      "Number of ones per inventory item: 512\n",
      "Inventory entries filled: 49040\n",
      "-----------------------------------------\n",
      "| Loading contig boundaries | Time = 7.2005 s\n",
      "-----------------------------------------\n",
      "size = 3025387350\n",
      "-----------------------------------------\n",
      "| Loading sequence | Time = 1.0601 s\n",
      "-----------------------------------------\n",
      "size = 2272138320\n",
      "-----------------------------------------\n",
      "| Loading positions | Time = 19.439 s\n",
      "-----------------------------------------\n",
      "size = 2977721149\n",
      "-----------------------------------------\n",
      "| Loading reference sequence | Time = 561.92 ms\n",
      "-----------------------------------------\n",
      "-----------------------------------------\n",
      "| Loading reference accumulative lengths | Time = 923.26 us\n",
      "-----------------------------------------\n",
      "[2024-06-24 13:13:50.963] [jointLog] [info] done\n",
      "[2024-06-24 13:13:51.021] [jointLog] [info] Index contained 147,617 targets\n",
      "[2024-06-24 13:13:51.060] [jointLog] [info] Number of decoys : 61\n",
      "[2024-06-24 13:13:51.060] [jointLog] [info] First decoy index : 147,519 \n",
      "\n",
      "\n",
      "\n",
      "\n",
      "[2024-06-24 13:13:51.999] [jointLog] [info] Automatically detected most likely library type as IU\n",
      "\n",
      "\u001b[A\u001b[32mprocessed\u001b[31m 500,000 \u001b[32mfragments\u001b[0m\n",
      "hits: 1,048,775, hits per frag:  2.20508\u001b[A\u001b[32mprocessed\u001b[31m 1,000,000 \u001b[32mfragments\u001b[0m\n",
      "hits: 2,143,710, hits per frag:  2.17434\u001b[A\u001b[32mprocessed\u001b[31m 1,500,001 \u001b[32mfragments\u001b[0m\n",
      "hits: 3,205,358, hits per frag:  2.14098\u001b[A\u001b[32mprocessed\u001b[31m 2,000,000 \u001b[32mfragments\u001b[0m\n",
      "hits: 4,346,365, hits per frag:  2.17641\u001b[A\u001b[32mprocessed\u001b[31m 2,500,000 \u001b[32mfragments\u001b[0m\n",
      "hits: 5,487,310, hits per frag:  2.20223\u001b[A\u001b[32mprocessed\u001b[31m 3,000,000 \u001b[32mfragments\u001b[0m\n",
      "hits: 6,642,515, hits per frag:  2.22852\u001b[A\u001b[32mprocessed\u001b[31m 3,500,000 \u001b[32mfragments\u001b[0m\n",
      "hits: 7,658,428, hits per frag:  2.22189\u001b[A\u001b[32mprocessed\u001b[31m 4,000,000 \u001b[32mfragments\u001b[0m\n",
      "hits: 8,785,216, hits per frag:  2.19778\u001b[A\u001b[32mprocessed\u001b[31m 4,500,000 \u001b[32mfragments\u001b[0m\n",
      "hits: 9,853,670, hits per frag:  2.19069\u001b[A\u001b[32mprocessed\u001b[31m 5,000,000 \u001b[32mfragments\u001b[0m\n",
      "hits: 10,903,578, hits per frag:  2.18238\u001b[A\u001b[32mprocessed\u001b[31m 5,500,000 \u001b[32mfragments\u001b[0m\n",
      "hits: 12,062,323, hits per frag:  2.2004\u001b[A\u001b[32mprocessed\u001b[31m 6,000,000 \u001b[32mfragments\u001b[0m\n",
      "hits: 13,099,056, hits per frag:  2.18923\u001b[A\u001b[32mprocessed\u001b[31m 6,500,001 \u001b[32mfragments\u001b[0m\n",
      "hits: 14,185,031, hits per frag:  2.1892\u001b[A\u001b[32mprocessed\u001b[31m 7,000,000 \u001b[32mfragments\u001b[0m\n",
      "hits: 15,266,477, hits per frag:  2.19918\u001b[A\u001b[32mprocessed\u001b[31m 7,500,000 \u001b[32mfragments\u001b[0m\n",
      "hits: 16,382,984, hits per frag:  2.18521\u001b[A\u001b[32mprocessed\u001b[31m 8,000,000 \u001b[32mfragments\u001b[0m\n",
      "hits: 17,401,441, hits per frag:  2.18022\u001b[A\u001b[32mprocessed\u001b[31m 8,500,000 \u001b[32mfragments\u001b[0m\n",
      "hits: 18,469,337, hits per frag:  2.18607\u001b[A\u001b[32mprocessed\u001b[31m 9,000,000 \u001b[32mfragments\u001b[0m\n",
      "hits: 19,519,521, hits per frag:  2.16998\u001b[A\u001b[32mprocessed\u001b[31m 9,500,000 \u001b[32mfragments\u001b[0m\n",
      "hits: 20,667,350, hits per frag:  2.177\u001b[A\u001b[32mprocessed\u001b[31m 10,000,000 \u001b[32mfragments\u001b[0m\n",
      "hits: 21,734,759, hits per frag:  2.18029\u001b[A\u001b[32mprocessed\u001b[31m 10,500,000 \u001b[32mfragments\u001b[0m\n",
      "hits: 22,826,333, hits per frag:  2.1782\u001b[A\u001b[32mprocessed\u001b[31m 11,000,001 \u001b[32mfragments\u001b[0m\n",
      "hits: 23,966,391, hits per frag:  2.18181\u001b[A\u001b[32mprocessed\u001b[31m 11,500,001 \u001b[32mfragments\u001b[0m\n",
      "hits: 25,018,235, hits per frag:  2.1779\u001b[A\u001b[32mprocessed\u001b[31m 12,000,000 \u001b[32mfragments\u001b[0m\n",
      "hits: 26,105,301, hits per frag:  2.17644\u001b[A\u001b[32mprocessed\u001b[31m 12,500,000 \u001b[32mfragments\u001b[0m\n",
      "hits: 27,143,838, hits per frag:  2.17345\u001b[A\u001b[32mprocessed\u001b[31m 13,000,000 \u001b[32mfragments\u001b[0m\n",
      "hits: 28,134,119, hits per frag:  2.17052\u001b[A\u001b[32mprocessed\u001b[31m 13,500,000 \u001b[32mfragments\u001b[0m\n",
      "hits: 29,161,598, hits per frag:  2.16037\u001b[A\u001b[32mprocessed\u001b[31m 14,000,000 \u001b[32mfragments\u001b[0m\n",
      "hits: 30,205,655, hits per frag:  2.15816\u001b[A\u001b[32mprocessed\u001b[31m 14,500,000 \u001b[32mfragments\u001b[0m\n",
      "hits: 31,301,829, hits per frag:  2.16011\u001b[A\u001b[32mprocessed\u001b[31m 15,000,000 \u001b[32mfragments\u001b[0m\n",
      "hits: 32,370,192, hits per frag:  2.15924\u001b[A\u001b[32mprocessed\u001b[31m 15,500,000 \u001b[32mfragments\u001b[0m\n",
      "hits: 33,476,795, hits per frag:  2.16038\u001b[A\u001b[32mprocessed\u001b[31m 16,000,000 \u001b[32mfragments\u001b[0m\n",
      "hits: 34,566,296, hits per frag:  2.16084\u001b[A\u001b[32mprocessed\u001b[31m 16,500,000 \u001b[32mfragments\u001b[0m\n",
      "hits: 35,676,653, hits per frag:  2.16274\u001b[A\u001b[32mprocessed\u001b[31m 17,000,000 \u001b[32mfragments\u001b[0m\n",
      "hits: 36,771,291, hits per frag:  2.16491\u001b[A\u001b[32mprocessed\u001b[31m 17,500,000 \u001b[32mfragments\u001b[0m\n",
      "hits: 37,857,781, hits per frag:  2.16348\u001b[A\u001b[32mprocessed\u001b[31m 18,000,000 \u001b[32mfragments\u001b[0m\n",
      "hits: 38,901,149, hits per frag:  2.16218\u001b[A\u001b[32mprocessed\u001b[31m 18,500,001 \u001b[32mfragments\u001b[0m\n",
      "hits: 39,982,639, hits per frag:  2.16199\u001b[A\u001b[32mprocessed\u001b[31m 19,000,000 \u001b[32mfragments\u001b[0m\n",
      "hits: 41,049,991, hits per frag:  2.16221\u001b[A\u001b[32mprocessed\u001b[31m 19,500,000 \u001b[32mfragments\u001b[0m\n"
     ]
    }
   ],
   "source": [
    "## Code cell 26 ##\n",
    "\n",
    "echo \"Screen output is redirected to ${logfile4}\"\n",
    "\n",
    "# as time command does not redirect output\n",
    "echo \"operation starts at $(date)\" >> ${logfile4}\n",
    "echo \"before loop\"\n",
    "\n",
    "time for read1 in $(ls \"${gohome}$USER/Results/fastp/\"*_1.fastp.fastq.gz); do\n",
    "    echo \"starting the loop with ${read1}\"\n",
    "    \n",
    "    # handling names with the sample name\n",
    "    samplenum=$(basename ${read1} | cut -d\"_\" -f1)\n",
    "    echo \"====== Processing sampleID: ${samplenum}...\" | tee -a ${logfile4}\n",
    "    read2=$(echo ${read1} | sed 's#_1#_2#')\n",
    "\n",
    "    echo \"Salmon starts at $(date)\" >> ${logfile4}\n",
    "    \n",
    "    # Salmon working\n",
    "    salmon quant -i \"${salmonreffolder}salmon_vM35_index\" -l A \\\n",
    "         -1 ${read1} \\\n",
    "         -2 ${read2} \\\n",
    "         --validateMappings \\\n",
    "         --threads ${authorizedCPU} -o \"${salmonfolder}${samplenum}\" \\\n",
    "         |& tee -a ${logfile4}\n",
    "         \n",
    "    echo \"Salmon ends at $(date)\" >> ${logfile4}\n",
    "    \n",
    "    echo \"...done\" | tee -a ${logfile4} \n",
    "done  "
   ]
  },
  {
   "cell_type": "code",
   "execution_count": null,
   "id": "31f5c65d",
   "metadata": {},
   "outputs": [],
   "source": [
    "## Code cell 27 ## \n",
    "\n",
    "qcsummaries=\"${gohome}$USER/Results/multiqc/\""
   ]
  },
  {
   "cell_type": "code",
   "execution_count": null,
   "id": "bbd25c7f",
   "metadata": {},
   "outputs": [],
   "source": [
    "## Code cell 28 ## \n",
    "\n",
    "inamemyfile=\"5_featureCounts_salmon_3samples\"\n",
    "\n",
    "mytitle=$(echo \"Quality check after featureCounts and Salmon\")"
   ]
  },
  {
   "cell_type": "code",
   "execution_count": null,
   "id": "f9f08367",
   "metadata": {},
   "outputs": [],
   "source": [
    "## Code cell 29 ## \n",
    "\n",
    "mycomment=$(echo \"featureCounts run at gene level and Salmon for pseudomapping on transcripts using the mouse genome (GRCm39), version M35 (Ensembl 112)\")"
   ]
  },
  {
   "cell_type": "code",
   "execution_count": null,
   "id": "c6fa7885",
   "metadata": {},
   "outputs": [],
   "source": [
    "## Code cell 30 ## \n",
    "\n",
    "logfile5=\"${logfolder}multiqc-featurecounts-salmon.log\"\n",
    "echo \"Screen output is also saved in ${logfile5}\"\n",
    "\n",
    "echo \"operation starting by $(date)\" >> ${logfile5}\n",
    "multiqc --interactive --export \\\n",
    "        --module featureCounts ${featcountfolder} \\\n",
    "        --module salmon ${salmonfolder} \\\n",
    "        --outdir \"$qcsummaries\" \\\n",
    "        --filename \"${inamemyfile}\" \\\n",
    "        --title \"${mytitle}\"  \\\n",
    "        --comment \"${mycomment}\" \\\n",
    "        \"${gohome}$USER/Results/\" \\\n",
    "        |& tee -a ${logfile}\n",
    "echo \"operation finished by $(date)\" >> ${logfile5}"
   ]
  },
  {
   "cell_type": "code",
   "execution_count": null,
   "id": "299704fd",
   "metadata": {},
   "outputs": [],
   "source": [
    "## Code cell 31 ## \n",
    "\n",
    "# to see which files we have afterward and follow folder sizes\n",
    "ls -lh \"${qcsummaries}\" >> ${logfile}\n",
    "ls -lh \"${gohome}$USER/Results/\" >> ${logfile}"
   ]
  },
  {
   "cell_type": "code",
   "execution_count": null,
   "id": "5a1e95d6",
   "metadata": {},
   "outputs": [],
   "source": [
    "## Code cell 32 ##\n",
    "\n",
    "du -h -d2 ${gohome}$USER"
   ]
  },
  {
   "cell_type": "code",
   "execution_count": null,
   "id": "99cf4a6e",
   "metadata": {},
   "outputs": [],
   "source": [
    "## Code cell 33 ##\n",
    "\n",
    "# Saving disk space\n",
    "\n",
    "# Removing:\n",
    "# initial srr files\n",
    "rm -r ${gohome}$USER/Data/sra/\n",
    "\n",
    "# raw fastq.gz\n",
    "rm ${gohome}$USER/Data/fastq/raw/*.fastq.gz\n",
    "\n",
    "# cleaned fastq.gz\n",
    "#rm ${gohome}$USER/Results/fastp/*.fastp.fastq.gz\n",
    "\n",
    "# intermediate Aligned.sortedByNames.bam\n",
    "# rm ${gohome}$USER/Results/featurecounts/*_Aligned.sortedByNames.bam    # if is was not already done in cell 11"
   ]
  },
  {
   "cell_type": "code",
   "execution_count": null,
   "id": "37afa4d9",
   "metadata": {},
   "outputs": [],
   "source": [
    "## Code cell 34 ##\n",
    "\n",
    "du -h -d2 ${gohome}$USER"
   ]
  },
  {
   "cell_type": "code",
   "execution_count": null,
   "id": "f9b04198",
   "metadata": {
    "tags": []
   },
   "outputs": [],
   "source": [
    "## Code cell 35 ##   \n",
    "\n",
    "cp \"${gohome}pipeline/Pipe_07a-R_intro-to-R.ipynb\" \"${gohome}$USER/\"\n",
    "cp \"${gohome}alldata/Example_Data/Temperatures.txt\" \"${gohome}$USER/\""
   ]
  },
  {
   "cell_type": "raw",
   "id": "edd5dd65",
   "metadata": {
    "tags": []
   },
   "source": [
    "## Code cell 48 ##   \n",
    "#mkdir -p /shared/projects/2413_rnaseq_cea/$USER/run_notebooks\n",
    "cp /shared/projects/2413_rnaseq_cea/$USER/Pipe_06-bash_reads-counts-and-pseudomapping.ipynb /shared/projects/2413_rnaseq_cea/$USER/run_notebooks/Pipe_06-bash_reads-counts-pseudomapping-run.ipynb"
   ]
  },
  {
   "cell_type": "markdown",
   "id": "c7e0a28e",
   "metadata": {},
   "source": [
    "\n",
    "## Merged Sections from Pipe_06\n"
   ]
  },
  {
   "cell_type": "markdown",
   "id": "a3641c5c",
   "metadata": {},
   "source": [
    "   \n",
    "\n",
    "- 0. 1 - About session for IFB core cluster\n",
    "- 0. 2 - Parameters to be set or modified by the user\n",
    "- 1 - Gene level quantification using ``featureCounts``\n",
    "- 2 - Pseudo-mapping with Salmon\n",
    "- 3 - Monitoring disk usage"
   ]
  },
  {
   "cell_type": "code",
   "execution_count": 1,
   "id": "754b9cf0",
   "metadata": {
    "tags": []
   },
   "outputs": [
    {
     "name": "stdout",
     "output_type": "stream",
     "text": [
      "=== Cell launched on Mon Jun 24 12:00:40 CEST 2024 ===\n",
      "          40350384      fast sys/dash scaburet  R    2:38:33      1 cpu-node-51\n",
      "=== Current IFB session size: as an indication: Medium (4CPU, 10GB) or Large (10CPU, 50GB) ===\n",
      "JobID         AllocCPUS     ReqMem        NodeList    Elapsed      State \n",
      "------------ ---------- ---------- --------------- ---------- ---------- \n",
      "40350384              7        33G     cpu-node-51   02:38:33    RUNNING \n",
      "40350384.ba+          7                cpu-node-51   02:38:33    RUNNING \n"
     ]
    }
   ],
   "source": [
    "## Code cell 36 ##\n",
    "\n",
    "echo \"=== Cell launched on $(date) ===\"\n",
    "squeue -hu $USER \n",
    "\n",
    "echo \"=== Current IFB session size: as an indication: Medium (4CPU, 10GB) or Large (10CPU, 50GB) ===\"\n",
    "jobid=$(squeue -hu $USER | awk '/sys/dash {print $1}')\n",
    "\n",
    "sacct --format=JobID,AllocCPUS,ReqMem,NodeList,Elapsed,State --jobs ${jobid}"
   ]
  },
  {
   "cell_type": "code",
   "execution_count": 2,
   "id": "25c18473",
   "metadata": {
    "tags": []
   },
   "outputs": [
    {
     "name": "stdout",
     "output_type": "stream",
     "text": [
      "===== bam sorting by names =====\n",
      "samtools 1.18\n",
      "Using htslib 1.19\n",
      "===== gene level quantification =====\n",
      "\n",
      "featureCounts v2.0.6\n",
      "\n",
      "===== Pseudo mapping and quantification with Salmon =====\n",
      "salmon 1.10.2\n",
      "===== quality reports compilation =====\n",
      "multiqc, version 1.13\n"
     ]
    }
   ],
   "source": [
    "## Code cell 37 ##\n",
    "\n",
    "module load samtools/1.18 subread/2.0.6 salmon/1.10.2 multiqc/1.13\n",
    "\n",
    "# module load samtools/1.10 subread/2.0.1 in 2023\n",
    "\n",
    "echo \"===== bam sorting by names =====\"\n",
    "samtools --version | head -n 2\n",
    "echo \"===== gene level quantification =====\"\n",
    "featureCounts -v\n",
    "echo \"===== Pseudo mapping and quantification with Salmon =====\"\n",
    "salmon -v\n",
    "echo \"===== quality reports compilation =====\"\n",
    "multiqc --version"
   ]
  },
  {
   "cell_type": "code",
   "execution_count": 3,
   "id": "e8e90344",
   "metadata": {
    "tags": []
   },
   "outputs": [],
   "source": [
    "## Code cell 38 ##\n",
    "\n",
    "authorizedCPU=5           # 4 CPU\n",
    "\n",
    "authorizedRAM=30000000000  # 20GB"
   ]
  },
  {
   "cell_type": "code",
   "execution_count": 4,
   "id": "cbd1ab32",
   "metadata": {
    "tags": []
   },
   "outputs": [
    {
     "name": "stdout",
     "output_type": "stream",
     "text": [
      "=== Home root folder is ===\n",
      "/shared/projects/2413_rnaseq_cea/\n",
      "\n",
      "=== Working (personal) folder tree ===\n",
      "/shared/projects/2413_rnaseq_cea/scaburet\n",
      "|-- Data\n",
      "|   |-- fastq\n",
      "|   `-- sra\n",
      "|-- Results\n",
      "|   |-- Rintro\n",
      "|   |-- deseq2\n",
      "|   |-- enrich\n",
      "|   |-- fastp\n",
      "|   |-- fastq_screen\n",
      "|   |-- fastqc\n",
      "|   |-- featurecounts\n",
      "|   |-- gsea\n",
      "|   |-- logfiles\n",
      "|   |-- multiqc\n",
      "|   |-- pca1\n",
      "|   |-- qualimap\n",
      "|   |-- qualimap-11juin\n",
      "|   |-- salmon\n",
      "|   |-- salmon2\n",
      "|   |-- samtools\n",
      "|   |-- samtools-11juin\n",
      "|   |-- star\n",
      "|   |-- star-11juin\n",
      "|   `-- wgcna\n",
      "|-- done\n",
      "|-- run_notebooks\n",
      "`-- stuff\n",
      "    `-- meg_m2_rnaseq\n",
      "\n",
      "28 directories\n",
      "=== current working directory ===\n",
      "/shared/ifbstor1/projects/2413_rnaseq_cea/scaburet\n"
     ]
    }
   ],
   "source": [
    "## Code cell 39 ##\n",
    "\n",
    "gohome=\"/shared/projects/2413_rnaseq_cea/\"\n",
    "\n",
    "echo \"=== Home root folder is ===\"\n",
    "echo \"${gohome}\"\n",
    "echo \"\"\n",
    "echo \"=== Working (personal) folder tree ===\"\n",
    "tree -d -L 2 \"${gohome}$USER\"\n",
    "echo \"=== current working directory ===\"\n",
    "echo \"${PWD}\""
   ]
  },
  {
   "cell_type": "code",
   "execution_count": 5,
   "id": "115df25d",
   "metadata": {},
   "outputs": [
    {
     "name": "stdout",
     "output_type": "stream",
     "text": [
      "the folder for log files is /shared/projects/2413_rnaseq_cea/scaburet/Results/logfiles/\n"
     ]
    }
   ],
   "source": [
    "## Code cell 40 ##\n",
    "\n",
    "logfolder=\"${gohome}$USER/Results/logfiles/\"\n",
    "echo \"the folder for log files is ${logfolder}\""
   ]
  },
  {
   "cell_type": "markdown",
   "id": "3ce1b015",
   "metadata": {},
   "source": [
    "\n",
    "## Merged Sections from Pipe_06\n"
   ]
  },
  {
   "cell_type": "markdown",
   "id": "c7d62cdf",
   "metadata": {},
   "source": [
    "   \n",
    "\n",
    "- 0. 1 - About session for IFB core cluster\n",
    "- 0. 2 - Parameters to be set or modified by the user\n",
    "- 1 - Gene level quantification using ``featureCounts``\n",
    "- 2 - Pseudo-mapping with Salmon\n",
    "- 3 - Monitoring disk usage"
   ]
  },
  {
   "cell_type": "code",
   "execution_count": 1,
   "id": "53e2b124",
   "metadata": {
    "tags": []
   },
   "outputs": [
    {
     "name": "stdout",
     "output_type": "stream",
     "text": [
      "=== Cell launched on Mon Jun 24 12:00:40 CEST 2024 ===\n",
      "          40350384      fast sys/dash scaburet  R    2:38:33      1 cpu-node-51\n",
      "=== Current IFB session size: as an indication: Medium (4CPU, 10GB) or Large (10CPU, 50GB) ===\n",
      "JobID         AllocCPUS     ReqMem        NodeList    Elapsed      State \n",
      "------------ ---------- ---------- --------------- ---------- ---------- \n",
      "40350384              7        33G     cpu-node-51   02:38:33    RUNNING \n",
      "40350384.ba+          7                cpu-node-51   02:38:33    RUNNING \n"
     ]
    }
   ],
   "source": [
    "## Code cell 41 ##\n",
    "\n",
    "echo \"=== Cell launched on $(date) ===\"\n",
    "squeue -hu $USER \n",
    "\n",
    "echo \"=== Current IFB session size: as an indication: Medium (4CPU, 10GB) or Large (10CPU, 50GB) ===\"\n",
    "jobid=$(squeue -hu $USER | awk '/sys/dash {print $1}')\n",
    "\n",
    "sacct --format=JobID,AllocCPUS,ReqMem,NodeList,Elapsed,State --jobs ${jobid}"
   ]
  },
  {
   "cell_type": "code",
   "execution_count": 2,
   "id": "9b1e2f91",
   "metadata": {
    "tags": []
   },
   "outputs": [
    {
     "name": "stdout",
     "output_type": "stream",
     "text": [
      "===== bam sorting by names =====\n",
      "samtools 1.18\n",
      "Using htslib 1.19\n",
      "===== gene level quantification =====\n",
      "\n",
      "featureCounts v2.0.6\n",
      "\n",
      "===== Pseudo mapping and quantification with Salmon =====\n",
      "salmon 1.10.2\n",
      "===== quality reports compilation =====\n",
      "multiqc, version 1.13\n"
     ]
    }
   ],
   "source": [
    "## Code cell 42 ##\n",
    "\n",
    "module load samtools/1.18 subread/2.0.6 salmon/1.10.2 multiqc/1.13\n",
    "\n",
    "# module load samtools/1.10 subread/2.0.1 in 2023\n",
    "\n",
    "echo \"===== bam sorting by names =====\"\n",
    "samtools --version | head -n 2\n",
    "echo \"===== gene level quantification =====\"\n",
    "featureCounts -v\n",
    "echo \"===== Pseudo mapping and quantification with Salmon =====\"\n",
    "salmon -v\n",
    "echo \"===== quality reports compilation =====\"\n",
    "multiqc --version"
   ]
  },
  {
   "cell_type": "code",
   "execution_count": 3,
   "id": "ec69860c",
   "metadata": {
    "tags": []
   },
   "outputs": [],
   "source": [
    "## Code cell 43 ##\n",
    "\n",
    "authorizedCPU=5           # 4 CPU\n",
    "\n",
    "authorizedRAM=30000000000  # 20GB"
   ]
  },
  {
   "cell_type": "code",
   "execution_count": 4,
   "id": "13fa3cc6",
   "metadata": {
    "tags": []
   },
   "outputs": [
    {
     "name": "stdout",
     "output_type": "stream",
     "text": [
      "=== Home root folder is ===\n",
      "/shared/projects/2413_rnaseq_cea/\n",
      "\n",
      "=== Working (personal) folder tree ===\n",
      "/shared/projects/2413_rnaseq_cea/scaburet\n",
      "|-- Data\n",
      "|   |-- fastq\n",
      "|   `-- sra\n",
      "|-- Results\n",
      "|   |-- Rintro\n",
      "|   |-- deseq2\n",
      "|   |-- enrich\n",
      "|   |-- fastp\n",
      "|   |-- fastq_screen\n",
      "|   |-- fastqc\n",
      "|   |-- featurecounts\n",
      "|   |-- gsea\n",
      "|   |-- logfiles\n",
      "|   |-- multiqc\n",
      "|   |-- pca1\n",
      "|   |-- qualimap\n",
      "|   |-- qualimap-11juin\n",
      "|   |-- salmon\n",
      "|   |-- salmon2\n",
      "|   |-- samtools\n",
      "|   |-- samtools-11juin\n",
      "|   |-- star\n",
      "|   |-- star-11juin\n",
      "|   `-- wgcna\n",
      "|-- done\n",
      "|-- run_notebooks\n",
      "`-- stuff\n",
      "    `-- meg_m2_rnaseq\n",
      "\n",
      "28 directories\n",
      "=== current working directory ===\n",
      "/shared/ifbstor1/projects/2413_rnaseq_cea/scaburet\n"
     ]
    }
   ],
   "source": [
    "## Code cell 44 ##\n",
    "\n",
    "gohome=\"/shared/projects/2413_rnaseq_cea/\"\n",
    "\n",
    "echo \"=== Home root folder is ===\"\n",
    "echo \"${gohome}\"\n",
    "echo \"\"\n",
    "echo \"=== Working (personal) folder tree ===\"\n",
    "tree -d -L 2 \"${gohome}$USER\"\n",
    "echo \"=== current working directory ===\"\n",
    "echo \"${PWD}\""
   ]
  },
  {
   "cell_type": "code",
   "execution_count": 5,
   "id": "f8cc322e",
   "metadata": {},
   "outputs": [
    {
     "name": "stdout",
     "output_type": "stream",
     "text": [
      "the folder for log files is /shared/projects/2413_rnaseq_cea/scaburet/Results/logfiles/\n"
     ]
    }
   ],
   "source": [
    "## Code cell 45 ##\n",
    "\n",
    "logfolder=\"${gohome}$USER/Results/logfiles/\"\n",
    "echo \"the folder for log files is ${logfolder}\""
   ]
  },
  {
   "cell_type": "markdown",
   "id": "5528255e",
   "metadata": {},
   "source": [
    "\n",
    "## Merged Sections from Pipe_06\n"
   ]
  },
  {
   "cell_type": "markdown",
   "id": "df4a8cae",
   "metadata": {},
   "source": [
    "   \n",
    "\n",
    "- 0. 1 - About session for IFB core cluster\n",
    "- 0. 2 - Parameters to be set or modified by the user\n",
    "- 1 - Gene level quantification using ``featureCounts``\n",
    "- 2 - Pseudo-mapping with Salmon\n",
    "- 3 - Monitoring disk usage"
   ]
  },
  {
   "cell_type": "code",
   "execution_count": 1,
   "id": "f9959478",
   "metadata": {
    "tags": []
   },
   "outputs": [
    {
     "name": "stdout",
     "output_type": "stream",
     "text": [
      "=== Cell launched on Mon Jun 24 12:00:40 CEST 2024 ===\n",
      "          40350384      fast sys/dash scaburet  R    2:38:33      1 cpu-node-51\n",
      "=== Current IFB session size: as an indication: Medium (4CPU, 10GB) or Large (10CPU, 50GB) ===\n",
      "JobID         AllocCPUS     ReqMem        NodeList    Elapsed      State \n",
      "------------ ---------- ---------- --------------- ---------- ---------- \n",
      "40350384              7        33G     cpu-node-51   02:38:33    RUNNING \n",
      "40350384.ba+          7                cpu-node-51   02:38:33    RUNNING \n"
     ]
    }
   ],
   "source": [
    "## Code cell 46 ##\n",
    "\n",
    "echo \"=== Cell launched on $(date) ===\"\n",
    "squeue -hu $USER \n",
    "\n",
    "echo \"=== Current IFB session size: as an indication: Medium (4CPU, 10GB) or Large (10CPU, 50GB) ===\"\n",
    "jobid=$(squeue -hu $USER | awk '/sys/dash {print $1}')\n",
    "\n",
    "sacct --format=JobID,AllocCPUS,ReqMem,NodeList,Elapsed,State --jobs ${jobid}"
   ]
  },
  {
   "cell_type": "code",
   "execution_count": 2,
   "id": "4f30d949",
   "metadata": {
    "tags": []
   },
   "outputs": [
    {
     "name": "stdout",
     "output_type": "stream",
     "text": [
      "===== bam sorting by names =====\n",
      "samtools 1.18\n",
      "Using htslib 1.19\n",
      "===== gene level quantification =====\n",
      "\n",
      "featureCounts v2.0.6\n",
      "\n",
      "===== Pseudo mapping and quantification with Salmon =====\n",
      "salmon 1.10.2\n",
      "===== quality reports compilation =====\n",
      "multiqc, version 1.13\n"
     ]
    }
   ],
   "source": [
    "## Code cell 47 ##\n",
    "\n",
    "module load samtools/1.18 subread/2.0.6 salmon/1.10.2 multiqc/1.13\n",
    "\n",
    "# module load samtools/1.10 subread/2.0.1 in 2023\n",
    "\n",
    "echo \"===== bam sorting by names =====\"\n",
    "samtools --version | head -n 2\n",
    "echo \"===== gene level quantification =====\"\n",
    "featureCounts -v\n",
    "echo \"===== Pseudo mapping and quantification with Salmon =====\"\n",
    "salmon -v\n",
    "echo \"===== quality reports compilation =====\"\n",
    "multiqc --version"
   ]
  },
  {
   "cell_type": "code",
   "execution_count": 3,
   "id": "1b6f3bda",
   "metadata": {
    "tags": []
   },
   "outputs": [],
   "source": [
    "## Code cell 48 ##\n",
    "\n",
    "authorizedCPU=5           # 4 CPU\n",
    "\n",
    "authorizedRAM=30000000000  # 20GB"
   ]
  },
  {
   "cell_type": "code",
   "execution_count": 4,
   "id": "6d831442",
   "metadata": {
    "tags": []
   },
   "outputs": [
    {
     "name": "stdout",
     "output_type": "stream",
     "text": [
      "=== Home root folder is ===\n",
      "/shared/projects/2413_rnaseq_cea/\n",
      "\n",
      "=== Working (personal) folder tree ===\n",
      "/shared/projects/2413_rnaseq_cea/scaburet\n",
      "|-- Data\n",
      "|   |-- fastq\n",
      "|   `-- sra\n",
      "|-- Results\n",
      "|   |-- Rintro\n",
      "|   |-- deseq2\n",
      "|   |-- enrich\n",
      "|   |-- fastp\n",
      "|   |-- fastq_screen\n",
      "|   |-- fastqc\n",
      "|   |-- featurecounts\n",
      "|   |-- gsea\n",
      "|   |-- logfiles\n",
      "|   |-- multiqc\n",
      "|   |-- pca1\n",
      "|   |-- qualimap\n",
      "|   |-- qualimap-11juin\n",
      "|   |-- salmon\n",
      "|   |-- salmon2\n",
      "|   |-- samtools\n",
      "|   |-- samtools-11juin\n",
      "|   |-- star\n",
      "|   |-- star-11juin\n",
      "|   `-- wgcna\n",
      "|-- done\n",
      "|-- run_notebooks\n",
      "`-- stuff\n",
      "    `-- meg_m2_rnaseq\n",
      "\n",
      "28 directories\n",
      "=== current working directory ===\n",
      "/shared/ifbstor1/projects/2413_rnaseq_cea/scaburet\n"
     ]
    }
   ],
   "source": [
    "## Code cell 49 ##\n",
    "\n",
    "gohome=\"/shared/projects/2413_rnaseq_cea/\"\n",
    "\n",
    "echo \"=== Home root folder is ===\"\n",
    "echo \"${gohome}\"\n",
    "echo \"\"\n",
    "echo \"=== Working (personal) folder tree ===\"\n",
    "tree -d -L 2 \"${gohome}$USER\"\n",
    "echo \"=== current working directory ===\"\n",
    "echo \"${PWD}\""
   ]
  },
  {
   "cell_type": "code",
   "execution_count": 5,
   "id": "55272fdf",
   "metadata": {},
   "outputs": [
    {
     "name": "stdout",
     "output_type": "stream",
     "text": [
      "the folder for log files is /shared/projects/2413_rnaseq_cea/scaburet/Results/logfiles/\n"
     ]
    }
   ],
   "source": [
    "## Code cell 50 ##\n",
    "\n",
    "logfolder=\"${gohome}$USER/Results/logfiles/\"\n",
    "echo \"the folder for log files is ${logfolder}\""
   ]
  },
  {
   "cell_type": "markdown",
   "id": "a9582e6e",
   "metadata": {},
   "source": [
    "#### 1.3.2 - Running <code>featuresCounts</code> on multiple samples\n",
    "---"
   ]
  },
  {
   "cell_type": "raw",
   "id": "cbeeae0a",
   "metadata": {},
   "source": [
    "## (Code cell 13) ##\n",
    "\n",
    "logfile2=\"${logfolder}featureCounts-gene-level-counts_3samplestogether-samtoolsSort.log\"\n",
    "echo \"Screen output is redirected to ${logfile2}\""
   ]
  },
  {
   "cell_type": "raw",
   "id": "005f0b01",
   "metadata": {},
   "source": [
    "## (Code cell 14) ##\n",
    "\n",
    "# as time command does not redirect output\n",
    "echo \"operation starts at $(date)\" >> ${logfile2}\n",
    "\n",
    "time for fn in $(ls \"${mappedfolder}\"*_Aligned.sortedByCoord.out.bam); do  \n",
    "    \n",
    "    mysortedbam=$(basename ${fn})\n",
    "    id=${mysortedbam/_Aligned.sortedByCoord.out.bam/}\n",
    "    echo \"===== Processing sampleID: ${id}...\" | tee -a ${logfile2}\n",
    "    \n",
    "    # outputfiles\n",
    "    mytempfile=\"${featcountfolder}${id}_Aligned.sortedByNames.bam\"\n",
    "\n",
    "    \n",
    "    # bam sorting...\n",
    "    echo \"samtools starts at $(date)\" >> ${logfile2}\n",
    "    samtools sort -n \\\n",
    "                --threads 3 -m 5G \\\n",
    "                --output-fmt BAM \\\n",
    "                -o ${mytempfile} \\\n",
    "                -T ${featcountfolder} \\\n",
    "                ${fn} \\\n",
    "                &>> ${logfile}\n",
    "    echo \"samtools ends at $(date)\" >> ${logfile2}\n",
    "\n",
    "done"
   ]
  },
  {
   "cell_type": "raw",
   "id": "d3d142d1",
   "metadata": {},
   "source": [
    "## (Code cell 15) ##\n",
    "# second log file for the featureCounts steps\n",
    "\n",
    "logfile3=\"${logfolder}counts-gene-level-counts-3samplestogether_featureCounts.log\"\n",
    "echo \"Screen output is redirected to ${logfile3}\""
   ]
  },
  {
   "cell_type": "raw",
   "id": "dcf4f5d6",
   "metadata": {},
   "source": [
    "## (Code cell 16) ##\n",
    "\n",
    "# creating the list of input filenames\n",
    "listSortedBam=$(ls \"${featcountfolder}\"*_Aligned.sortedByNames.bam)\n",
    "echo \"The list of input files is: ${listSortedBam}\" | tee -a ${logfile3}\n",
    "\n",
    "myoutfile=\"${featcountfolder}3samples_paired-unstranded\"\n",
    "\n",
    "echo \"The output file is: ${myoutfile}\" | tee -a ${logfile3}\n",
    "\n",
    "# then running featureCounts\n",
    "echo \"featureCounts starts at $(date)\" >> ${logfile3}\n",
    "\n",
    "featureCounts -p -s 0 -T 16 \\\n",
    "              -a \"${gtffile}\" \\\n",
    "              -o \"${myoutfile}.counts\" \\\n",
    "              ${listSortedBam} \\\n",
    "              --donotsort \\\n",
    "              --verbose \\\n",
    "              &>> ${logfile3}\n",
    "echo \"featureCounts ends at $(date)\" >> ${logfile3}\n",
    "       \n",
    "echo \"... done\" | tee -a ${logfile3}\n",
    "echo \"operation ends at $(date)\" >> ${logfile3}\n",
    "\n",
    "echo \"=== Files created after featureCounts ===\" >> ${logfile3}\n",
    "ls -lh \"${featcountfolder}\" >> ${logfile3}\n",
    "echo \"featureCounts generated $(ls \"${featcountfolder}\"*.counts | wc -l) count files.\" \\\n",
    "    | tee -a ${logfile3}\n",
    "echo \"featureCounts generated $(ls \"${featcountfolder}\"*.counts.summary | wc -l) summary files.\" \\\n",
    "    | tee -a ${logfile3}"
   ]
  },
  {
   "cell_type": "raw",
   "id": "f8fe4845",
   "metadata": {},
   "source": [
    "## Code cell 17 ##\n",
    "\n",
    "cat ${logfile3} | grep -e \"Successfully assigned alignments\" -e \"Process BAM\""
   ]
  },
  {
   "cell_type": "raw",
   "id": "61994ec9",
   "metadata": {},
   "source": [
    "## Code cell 18 ##\n",
    "\n",
    "# to have explanations\n",
    "echo \"summary file\"\n",
    "cat \"${myoutfile}.counts.summary\""
   ]
  },
  {
   "cell_type": "code",
   "execution_count": 15,
   "id": "5a3f5fc2",
   "metadata": {},
   "outputs": [
    {
     "name": "stdout",
     "output_type": "stream",
     "text": [
      "==> /shared/projects/2413_rnaseq_cea/scaburet/Results/featurecounts/11samples_paired-unstranded.counts <==\n",
      "# Program:featureCounts v2.0.6; Command:\"featureCounts\" \"-p\" \"-s\" \"0\" \"-T\" \"16\" \"-a\" \"/shared/projects/2413_rnaseq_cea/alldata/Reference/extracted/genome_annotation-M35.gtf\" \"-o\" \"/shared/projects/2413_rnaseq_cea/alldata/Results/featurecounts/11samples_paired-unstranded.counts\" \"/shared/projects/2413_rnaseq_cea/alldata/Results/featurecounts/SRR12730403_Aligned.sortedByNames.bam\" \"/shared/projects/2413_rnaseq_cea/alldata/Results/featurecounts/SRR12730404_Aligned.sortedByNames.bam\" \"/shared/projects/2413_rnaseq_cea/alldata/Results/featurecounts/SRR12730405_Aligned.sortedByNames.bam\" \"/shared/projects/2413_rnaseq_cea/alldata/Results/featurecounts/SRR12730406_Aligned.sortedByNames.bam\" \"/shared/projects/2413_rnaseq_cea/alldata/Results/featurecounts/SRR12730407_Aligned.sortedByNames.bam\" \"/shared/projects/2413_rnaseq_cea/alldata/Results/featurecounts/SRR12730408_Aligned.sortedByNames.bam\" \"/shared/projects/2413_rnaseq_cea/alldata/Results/featurecounts/SRR12730409_Aligned.sortedByNames.bam\" \"/shared/projects/2413_rnaseq_cea/alldata/Results/featurecounts/SRR12730410_Aligned.sortedByNames.bam\" \"/shared/projects/2413_rnaseq_cea/alldata/Results/featurecounts/SRR12730411_Aligned.sortedByNames.bam\" \"/shared/projects/2413_rnaseq_cea/alldata/Results/featurecounts/SRR12730412_Aligned.sortedByNames.bam\" \"/shared/projects/2413_rnaseq_cea/alldata/Results/featurecounts/SRR12730413_Aligned.sortedByNames.bam\" \"--donotsort\" \"--verbose\" \n",
      "Geneid\tChr\tStart\tEnd\tStrand\tLength\t/shared/projects/2413_rnaseq_cea/alldata/Results/featurecounts/SRR12730403_Aligned.sortedByNames.bam\t/shared/projects/2413_rnaseq_cea/alldata/Results/featurecounts/SRR12730404_Aligned.sortedByNames.bam\t/shared/projects/2413_rnaseq_cea/alldata/Results/featurecounts/SRR12730405_Aligned.sortedByNames.bam\t/shared/projects/2413_rnaseq_cea/alldata/Results/featurecounts/SRR12730406_Aligned.sortedByNames.bam\t/shared/projects/2413_rnaseq_cea/alldata/Results/featurecounts/SRR12730407_Aligned.sortedByNames.bam\t/shared/projects/2413_rnaseq_cea/alldata/Results/featurecounts/SRR12730408_Aligned.sortedByNames.bam\t/shared/projects/2413_rnaseq_cea/alldata/Results/featurecounts/SRR12730409_Aligned.sortedByNames.bam\t/shared/projects/2413_rnaseq_cea/alldata/Results/featurecounts/SRR12730410_Aligned.sortedByNames.bam\t/shared/projects/2413_rnaseq_cea/alldata/Results/featurecounts/SRR12730411_Aligned.sortedByNames.bam\t/shared/projects/2413_rnaseq_cea/alldata/Results/featurecounts/SRR12730412_Aligned.sortedByNames.bam\t/shared/projects/2413_rnaseq_cea/alldata/Results/featurecounts/SRR12730413_Aligned.sortedByNames.bam\n",
      "ENSMUSG00000102693.2\tchr1\t3143476\t3144545\t+\t1070\t0\t0\t0\t0\t0\t0\t0\t0\t0\t0\t0\n",
      "ENSMUSG00000064842.3\tchr1\t3172239\t3172348\t+\t110\t0\t0\t0\t0\t0\t0\t0\t0\t0\t0\t0\n",
      "ENSMUSG00000051951.6\tchr1;chr1;chr1;chr1;chr1;chr1;chr1\t3276124;3276746;3283662;3283832;3284705;3491925;3740775\t3277540;3277540;3285855;3286567;3287191;3492124;3741721\t-;-;-;-;-;-;-\t6094\t0\t0\t0\t0\t0\t0\t0\t2\t0\t0\t0\n",
      "ENSMUSG00000102851.2\tchr1\t3322980\t3323459\t+\t480\t0\t0\t0\t0\t0\t0\t0\t0\t0\t0\t1\n",
      "ENSMUSG00000103377.2\tchr1\t3435954\t3438772\t-\t2819\t0\t0\t0\t0\t0\t0\t0\t0\t0\t0\t0\n",
      "ENSMUSG00000104017.2\tchr1\t3445779\t3448011\t-\t2233\t0\t0\t0\t0\t0\t0\t0\t0\t0\t0\t0\n",
      "\n",
      "==> /shared/projects/2413_rnaseq_cea/scaburet/Results/featurecounts/SRR12730409_paired-unstranded.counts <==\n",
      "# Program:featureCounts v2.0.6; Command:\"featureCounts\" \"-p\" \"-s\" \"0\" \"-T\" \"16\" \"-a\" \"/shared/projects/2413_rnaseq_cea/alldata/Reference/extracted/genome_annotation-M35.gtf\" \"-o\" \"/shared/projects/2413_rnaseq_cea/scaburet/Results/featurecounts/SRR12730409_paired-unstranded.counts\" \"/shared/projects/2413_rnaseq_cea/scaburet/Results/featurecounts/SRR12730409_Aligned.sortedByNames.bam\" \"--donotsort\" \"--verbose\" \n",
      "Geneid\tChr\tStart\tEnd\tStrand\tLength\t/shared/projects/2413_rnaseq_cea/scaburet/Results/featurecounts/SRR12730409_Aligned.sortedByNames.bam\n",
      "ENSMUSG00000102693.2\tchr1\t3143476\t3144545\t+\t1070\t0\n",
      "ENSMUSG00000064842.3\tchr1\t3172239\t3172348\t+\t110\t0\n",
      "ENSMUSG00000051951.6\tchr1;chr1;chr1;chr1;chr1;chr1;chr1\t3276124;3276746;3283662;3283832;3284705;3491925;3740775\t3277540;3277540;3285855;3286567;3287191;3492124;3741721\t-;-;-;-;-;-;-\t6094\t0\n",
      "ENSMUSG00000102851.2\tchr1\t3322980\t3323459\t+\t480\t0\n",
      "ENSMUSG00000103377.2\tchr1\t3435954\t3438772\t-\t2819\t0\n",
      "ENSMUSG00000104017.2\tchr1\t3445779\t3448011\t-\t2233\t0\n",
      "\n",
      "==> /shared/projects/2413_rnaseq_cea/scaburet/Results/featurecounts/SRR12730410_paired-unstranded.counts <==\n",
      "# Program:featureCounts v2.0.6; Command:\"featureCounts\" \"-p\" \"-s\" \"0\" \"-T\" \"16\" \"-a\" \"/shared/projects/2413_rnaseq_cea/alldata/Reference/extracted/genome_annotation-M35.gtf\" \"-o\" \"/shared/projects/2413_rnaseq_cea/scaburet/Results/featurecounts/SRR12730410_paired-unstranded.counts\" \"/shared/projects/2413_rnaseq_cea/scaburet/Results/featurecounts/SRR12730410_Aligned.sortedByNames.bam\" \"--donotsort\" \"--verbose\" \n",
      "Geneid\tChr\tStart\tEnd\tStrand\tLength\t/shared/projects/2413_rnaseq_cea/scaburet/Results/featurecounts/SRR12730410_Aligned.sortedByNames.bam\n",
      "ENSMUSG00000102693.2\tchr1\t3143476\t3144545\t+\t1070\t0\n",
      "ENSMUSG00000064842.3\tchr1\t3172239\t3172348\t+\t110\t0\n",
      "ENSMUSG00000051951.6\tchr1;chr1;chr1;chr1;chr1;chr1;chr1\t3276124;3276746;3283662;3283832;3284705;3491925;3740775\t3277540;3277540;3285855;3286567;3287191;3492124;3741721\t-;-;-;-;-;-;-\t6094\t2\n",
      "ENSMUSG00000102851.2\tchr1\t3322980\t3323459\t+\t480\t0\n",
      "ENSMUSG00000103377.2\tchr1\t3435954\t3438772\t-\t2819\t0\n",
      "ENSMUSG00000104017.2\tchr1\t3445779\t3448011\t-\t2233\t0\n",
      "\n",
      "==> /shared/projects/2413_rnaseq_cea/scaburet/Results/featurecounts/SRR12730411_paired-unstranded.counts <==\n",
      "# Program:featureCounts v2.0.6; Command:\"featureCounts\" \"-p\" \"-s\" \"0\" \"-T\" \"16\" \"-a\" \"/shared/projects/2413_rnaseq_cea/alldata/Reference/extracted/genome_annotation-M35.gtf\" \"-o\" \"/shared/projects/2413_rnaseq_cea/scaburet/Results/featurecounts/SRR12730411_paired-unstranded.counts\" \"/shared/projects/2413_rnaseq_cea/scaburet/Results/featurecounts/SRR12730411_Aligned.sortedByNames.bam\" \"--donotsort\" \"--verbose\" \n",
      "Geneid\tChr\tStart\tEnd\tStrand\tLength\t/shared/projects/2413_rnaseq_cea/scaburet/Results/featurecounts/SRR12730411_Aligned.sortedByNames.bam\n",
      "ENSMUSG00000102693.2\tchr1\t3143476\t3144545\t+\t1070\t0\n",
      "ENSMUSG00000064842.3\tchr1\t3172239\t3172348\t+\t110\t0\n",
      "ENSMUSG00000051951.6\tchr1;chr1;chr1;chr1;chr1;chr1;chr1\t3276124;3276746;3283662;3283832;3284705;3491925;3740775\t3277540;3277540;3285855;3286567;3287191;3492124;3741721\t-;-;-;-;-;-;-\t6094\t0\n",
      "ENSMUSG00000102851.2\tchr1\t3322980\t3323459\t+\t480\t0\n",
      "ENSMUSG00000103377.2\tchr1\t3435954\t3438772\t-\t2819\t0\n",
      "ENSMUSG00000104017.2\tchr1\t3445779\t3448011\t-\t2233\t0\n"
     ]
    }
   ],
   "source": [
    "## Code cell 51 ##\n",
    "\n",
    "cp ${gohome}alldata/Results/featurecounts/11samples_* ${gohome}$USER/Results/featurecounts/\n",
    "\n",
    "head -n 8 ${gohome}$USER/Results/featurecounts/*_paired-unstranded.counts"
   ]
  },
  {
   "cell_type": "markdown",
   "id": "86da04b9",
   "metadata": {},
   "source": [
    "\n",
    "## Merged Sections from Pipe_06\n"
   ]
  },
  {
   "cell_type": "markdown",
   "id": "104e4f66",
   "metadata": {},
   "source": [
    "   \n",
    "\n",
    "- 0. 1 - About session for IFB core cluster\n",
    "- 0. 2 - Parameters to be set or modified by the user\n",
    "- 1 - Gene level quantification using ``featureCounts``\n",
    "- 2 - Pseudo-mapping with Salmon\n",
    "- 3 - Monitoring disk usage"
   ]
  },
  {
   "cell_type": "code",
   "execution_count": 1,
   "id": "5c61ca58",
   "metadata": {
    "tags": []
   },
   "outputs": [
    {
     "name": "stdout",
     "output_type": "stream",
     "text": [
      "=== Cell launched on Mon Jun 24 12:00:40 CEST 2024 ===\n",
      "          40350384      fast sys/dash scaburet  R    2:38:33      1 cpu-node-51\n",
      "=== Current IFB session size: as an indication: Medium (4CPU, 10GB) or Large (10CPU, 50GB) ===\n",
      "JobID         AllocCPUS     ReqMem        NodeList    Elapsed      State \n",
      "------------ ---------- ---------- --------------- ---------- ---------- \n",
      "40350384              7        33G     cpu-node-51   02:38:33    RUNNING \n",
      "40350384.ba+          7                cpu-node-51   02:38:33    RUNNING \n"
     ]
    }
   ],
   "source": [
    "## Code cell 52 ##\n",
    "\n",
    "echo \"=== Cell launched on $(date) ===\"\n",
    "squeue -hu $USER \n",
    "\n",
    "echo \"=== Current IFB session size: as an indication: Medium (4CPU, 10GB) or Large (10CPU, 50GB) ===\"\n",
    "jobid=$(squeue -hu $USER | awk '/sys/dash {print $1}')\n",
    "\n",
    "sacct --format=JobID,AllocCPUS,ReqMem,NodeList,Elapsed,State --jobs ${jobid}"
   ]
  },
  {
   "cell_type": "code",
   "execution_count": 2,
   "id": "29a5f910",
   "metadata": {
    "tags": []
   },
   "outputs": [
    {
     "name": "stdout",
     "output_type": "stream",
     "text": [
      "===== bam sorting by names =====\n",
      "samtools 1.18\n",
      "Using htslib 1.19\n",
      "===== gene level quantification =====\n",
      "\n",
      "featureCounts v2.0.6\n",
      "\n",
      "===== Pseudo mapping and quantification with Salmon =====\n",
      "salmon 1.10.2\n",
      "===== quality reports compilation =====\n",
      "multiqc, version 1.13\n"
     ]
    }
   ],
   "source": [
    "## Code cell 53 ##\n",
    "\n",
    "module load samtools/1.18 subread/2.0.6 salmon/1.10.2 multiqc/1.13\n",
    "\n",
    "# module load samtools/1.10 subread/2.0.1 in 2023\n",
    "\n",
    "echo \"===== bam sorting by names =====\"\n",
    "samtools --version | head -n 2\n",
    "echo \"===== gene level quantification =====\"\n",
    "featureCounts -v\n",
    "echo \"===== Pseudo mapping and quantification with Salmon =====\"\n",
    "salmon -v\n",
    "echo \"===== quality reports compilation =====\"\n",
    "multiqc --version"
   ]
  },
  {
   "cell_type": "code",
   "execution_count": 3,
   "id": "9a19a2e0",
   "metadata": {
    "tags": []
   },
   "outputs": [],
   "source": [
    "## Code cell 54 ##\n",
    "\n",
    "authorizedCPU=5           # 4 CPU\n",
    "\n",
    "authorizedRAM=30000000000  # 20GB"
   ]
  },
  {
   "cell_type": "code",
   "execution_count": 4,
   "id": "8839ae67",
   "metadata": {
    "tags": []
   },
   "outputs": [
    {
     "name": "stdout",
     "output_type": "stream",
     "text": [
      "=== Home root folder is ===\n",
      "/shared/projects/2413_rnaseq_cea/\n",
      "\n",
      "=== Working (personal) folder tree ===\n",
      "/shared/projects/2413_rnaseq_cea/scaburet\n",
      "|-- Data\n",
      "|   |-- fastq\n",
      "|   `-- sra\n",
      "|-- Results\n",
      "|   |-- Rintro\n",
      "|   |-- deseq2\n",
      "|   |-- enrich\n",
      "|   |-- fastp\n",
      "|   |-- fastq_screen\n",
      "|   |-- fastqc\n",
      "|   |-- featurecounts\n",
      "|   |-- gsea\n",
      "|   |-- logfiles\n",
      "|   |-- multiqc\n",
      "|   |-- pca1\n",
      "|   |-- qualimap\n",
      "|   |-- qualimap-11juin\n",
      "|   |-- salmon\n",
      "|   |-- salmon2\n",
      "|   |-- samtools\n",
      "|   |-- samtools-11juin\n",
      "|   |-- star\n",
      "|   |-- star-11juin\n",
      "|   `-- wgcna\n",
      "|-- done\n",
      "|-- run_notebooks\n",
      "`-- stuff\n",
      "    `-- meg_m2_rnaseq\n",
      "\n",
      "28 directories\n",
      "=== current working directory ===\n",
      "/shared/ifbstor1/projects/2413_rnaseq_cea/scaburet\n"
     ]
    }
   ],
   "source": [
    "## Code cell 55 ##\n",
    "\n",
    "gohome=\"/shared/projects/2413_rnaseq_cea/\"\n",
    "\n",
    "echo \"=== Home root folder is ===\"\n",
    "echo \"${gohome}\"\n",
    "echo \"\"\n",
    "echo \"=== Working (personal) folder tree ===\"\n",
    "tree -d -L 2 \"${gohome}$USER\"\n",
    "echo \"=== current working directory ===\"\n",
    "echo \"${PWD}\""
   ]
  },
  {
   "cell_type": "code",
   "execution_count": 5,
   "id": "e0dc04b6",
   "metadata": {},
   "outputs": [
    {
     "name": "stdout",
     "output_type": "stream",
     "text": [
      "the folder for log files is /shared/projects/2413_rnaseq_cea/scaburet/Results/logfiles/\n"
     ]
    }
   ],
   "source": [
    "## Code cell 56 ##\n",
    "\n",
    "logfolder=\"${gohome}$USER/Results/logfiles/\"\n",
    "echo \"the folder for log files is ${logfolder}\""
   ]
  },
  {
   "cell_type": "markdown",
   "id": "33378c03",
   "metadata": {},
   "source": [
    "#### 1.3.2 - Running <code>featuresCounts</code> on multiple samples\n",
    "---"
   ]
  },
  {
   "cell_type": "raw",
   "id": "08b3f8c0",
   "metadata": {},
   "source": [
    "## (Code cell 13) ##\n",
    "\n",
    "logfile2=\"${logfolder}featureCounts-gene-level-counts_3samplestogether-samtoolsSort.log\"\n",
    "echo \"Screen output is redirected to ${logfile2}\""
   ]
  },
  {
   "cell_type": "raw",
   "id": "3d474dca",
   "metadata": {},
   "source": [
    "## (Code cell 14) ##\n",
    "\n",
    "# as time command does not redirect output\n",
    "echo \"operation starts at $(date)\" >> ${logfile2}\n",
    "\n",
    "time for fn in $(ls \"${mappedfolder}\"*_Aligned.sortedByCoord.out.bam); do  \n",
    "    \n",
    "    mysortedbam=$(basename ${fn})\n",
    "    id=${mysortedbam/_Aligned.sortedByCoord.out.bam/}\n",
    "    echo \"===== Processing sampleID: ${id}...\" | tee -a ${logfile2}\n",
    "    \n",
    "    # outputfiles\n",
    "    mytempfile=\"${featcountfolder}${id}_Aligned.sortedByNames.bam\"\n",
    "\n",
    "    \n",
    "    # bam sorting...\n",
    "    echo \"samtools starts at $(date)\" >> ${logfile2}\n",
    "    samtools sort -n \\\n",
    "                --threads 3 -m 5G \\\n",
    "                --output-fmt BAM \\\n",
    "                -o ${mytempfile} \\\n",
    "                -T ${featcountfolder} \\\n",
    "                ${fn} \\\n",
    "                &>> ${logfile}\n",
    "    echo \"samtools ends at $(date)\" >> ${logfile2}\n",
    "\n",
    "done"
   ]
  },
  {
   "cell_type": "raw",
   "id": "0b9bb396",
   "metadata": {},
   "source": [
    "## (Code cell 15) ##\n",
    "# second log file for the featureCounts steps\n",
    "\n",
    "logfile3=\"${logfolder}counts-gene-level-counts-3samplestogether_featureCounts.log\"\n",
    "echo \"Screen output is redirected to ${logfile3}\""
   ]
  },
  {
   "cell_type": "raw",
   "id": "4a92a582",
   "metadata": {},
   "source": [
    "## (Code cell 16) ##\n",
    "\n",
    "# creating the list of input filenames\n",
    "listSortedBam=$(ls \"${featcountfolder}\"*_Aligned.sortedByNames.bam)\n",
    "echo \"The list of input files is: ${listSortedBam}\" | tee -a ${logfile3}\n",
    "\n",
    "myoutfile=\"${featcountfolder}3samples_paired-unstranded\"\n",
    "\n",
    "echo \"The output file is: ${myoutfile}\" | tee -a ${logfile3}\n",
    "\n",
    "# then running featureCounts\n",
    "echo \"featureCounts starts at $(date)\" >> ${logfile3}\n",
    "\n",
    "featureCounts -p -s 0 -T 16 \\\n",
    "              -a \"${gtffile}\" \\\n",
    "              -o \"${myoutfile}.counts\" \\\n",
    "              ${listSortedBam} \\\n",
    "              --donotsort \\\n",
    "              --verbose \\\n",
    "              &>> ${logfile3}\n",
    "echo \"featureCounts ends at $(date)\" >> ${logfile3}\n",
    "       \n",
    "echo \"... done\" | tee -a ${logfile3}\n",
    "echo \"operation ends at $(date)\" >> ${logfile3}\n",
    "\n",
    "echo \"=== Files created after featureCounts ===\" >> ${logfile3}\n",
    "ls -lh \"${featcountfolder}\" >> ${logfile3}\n",
    "echo \"featureCounts generated $(ls \"${featcountfolder}\"*.counts | wc -l) count files.\" \\\n",
    "    | tee -a ${logfile3}\n",
    "echo \"featureCounts generated $(ls \"${featcountfolder}\"*.counts.summary | wc -l) summary files.\" \\\n",
    "    | tee -a ${logfile3}"
   ]
  },
  {
   "cell_type": "raw",
   "id": "64337e67",
   "metadata": {},
   "source": [
    "## Code cell 17 ##\n",
    "\n",
    "cat ${logfile3} | grep -e \"Successfully assigned alignments\" -e \"Process BAM\""
   ]
  },
  {
   "cell_type": "raw",
   "id": "0115ee74",
   "metadata": {},
   "source": [
    "## Code cell 18 ##\n",
    "\n",
    "# to have explanations\n",
    "echo \"summary file\"\n",
    "cat \"${myoutfile}.counts.summary\""
   ]
  },
  {
   "cell_type": "code",
   "execution_count": 15,
   "id": "75b08b8e",
   "metadata": {},
   "outputs": [
    {
     "name": "stdout",
     "output_type": "stream",
     "text": [
      "==> /shared/projects/2413_rnaseq_cea/scaburet/Results/featurecounts/11samples_paired-unstranded.counts <==\n",
      "# Program:featureCounts v2.0.6; Command:\"featureCounts\" \"-p\" \"-s\" \"0\" \"-T\" \"16\" \"-a\" \"/shared/projects/2413_rnaseq_cea/alldata/Reference/extracted/genome_annotation-M35.gtf\" \"-o\" \"/shared/projects/2413_rnaseq_cea/alldata/Results/featurecounts/11samples_paired-unstranded.counts\" \"/shared/projects/2413_rnaseq_cea/alldata/Results/featurecounts/SRR12730403_Aligned.sortedByNames.bam\" \"/shared/projects/2413_rnaseq_cea/alldata/Results/featurecounts/SRR12730404_Aligned.sortedByNames.bam\" \"/shared/projects/2413_rnaseq_cea/alldata/Results/featurecounts/SRR12730405_Aligned.sortedByNames.bam\" \"/shared/projects/2413_rnaseq_cea/alldata/Results/featurecounts/SRR12730406_Aligned.sortedByNames.bam\" \"/shared/projects/2413_rnaseq_cea/alldata/Results/featurecounts/SRR12730407_Aligned.sortedByNames.bam\" \"/shared/projects/2413_rnaseq_cea/alldata/Results/featurecounts/SRR12730408_Aligned.sortedByNames.bam\" \"/shared/projects/2413_rnaseq_cea/alldata/Results/featurecounts/SRR12730409_Aligned.sortedByNames.bam\" \"/shared/projects/2413_rnaseq_cea/alldata/Results/featurecounts/SRR12730410_Aligned.sortedByNames.bam\" \"/shared/projects/2413_rnaseq_cea/alldata/Results/featurecounts/SRR12730411_Aligned.sortedByNames.bam\" \"/shared/projects/2413_rnaseq_cea/alldata/Results/featurecounts/SRR12730412_Aligned.sortedByNames.bam\" \"/shared/projects/2413_rnaseq_cea/alldata/Results/featurecounts/SRR12730413_Aligned.sortedByNames.bam\" \"--donotsort\" \"--verbose\" \n",
      "Geneid\tChr\tStart\tEnd\tStrand\tLength\t/shared/projects/2413_rnaseq_cea/alldata/Results/featurecounts/SRR12730403_Aligned.sortedByNames.bam\t/shared/projects/2413_rnaseq_cea/alldata/Results/featurecounts/SRR12730404_Aligned.sortedByNames.bam\t/shared/projects/2413_rnaseq_cea/alldata/Results/featurecounts/SRR12730405_Aligned.sortedByNames.bam\t/shared/projects/2413_rnaseq_cea/alldata/Results/featurecounts/SRR12730406_Aligned.sortedByNames.bam\t/shared/projects/2413_rnaseq_cea/alldata/Results/featurecounts/SRR12730407_Aligned.sortedByNames.bam\t/shared/projects/2413_rnaseq_cea/alldata/Results/featurecounts/SRR12730408_Aligned.sortedByNames.bam\t/shared/projects/2413_rnaseq_cea/alldata/Results/featurecounts/SRR12730409_Aligned.sortedByNames.bam\t/shared/projects/2413_rnaseq_cea/alldata/Results/featurecounts/SRR12730410_Aligned.sortedByNames.bam\t/shared/projects/2413_rnaseq_cea/alldata/Results/featurecounts/SRR12730411_Aligned.sortedByNames.bam\t/shared/projects/2413_rnaseq_cea/alldata/Results/featurecounts/SRR12730412_Aligned.sortedByNames.bam\t/shared/projects/2413_rnaseq_cea/alldata/Results/featurecounts/SRR12730413_Aligned.sortedByNames.bam\n",
      "ENSMUSG00000102693.2\tchr1\t3143476\t3144545\t+\t1070\t0\t0\t0\t0\t0\t0\t0\t0\t0\t0\t0\n",
      "ENSMUSG00000064842.3\tchr1\t3172239\t3172348\t+\t110\t0\t0\t0\t0\t0\t0\t0\t0\t0\t0\t0\n",
      "ENSMUSG00000051951.6\tchr1;chr1;chr1;chr1;chr1;chr1;chr1\t3276124;3276746;3283662;3283832;3284705;3491925;3740775\t3277540;3277540;3285855;3286567;3287191;3492124;3741721\t-;-;-;-;-;-;-\t6094\t0\t0\t0\t0\t0\t0\t0\t2\t0\t0\t0\n",
      "ENSMUSG00000102851.2\tchr1\t3322980\t3323459\t+\t480\t0\t0\t0\t0\t0\t0\t0\t0\t0\t0\t1\n",
      "ENSMUSG00000103377.2\tchr1\t3435954\t3438772\t-\t2819\t0\t0\t0\t0\t0\t0\t0\t0\t0\t0\t0\n",
      "ENSMUSG00000104017.2\tchr1\t3445779\t3448011\t-\t2233\t0\t0\t0\t0\t0\t0\t0\t0\t0\t0\t0\n",
      "\n",
      "==> /shared/projects/2413_rnaseq_cea/scaburet/Results/featurecounts/SRR12730409_paired-unstranded.counts <==\n",
      "# Program:featureCounts v2.0.6; Command:\"featureCounts\" \"-p\" \"-s\" \"0\" \"-T\" \"16\" \"-a\" \"/shared/projects/2413_rnaseq_cea/alldata/Reference/extracted/genome_annotation-M35.gtf\" \"-o\" \"/shared/projects/2413_rnaseq_cea/scaburet/Results/featurecounts/SRR12730409_paired-unstranded.counts\" \"/shared/projects/2413_rnaseq_cea/scaburet/Results/featurecounts/SRR12730409_Aligned.sortedByNames.bam\" \"--donotsort\" \"--verbose\" \n",
      "Geneid\tChr\tStart\tEnd\tStrand\tLength\t/shared/projects/2413_rnaseq_cea/scaburet/Results/featurecounts/SRR12730409_Aligned.sortedByNames.bam\n",
      "ENSMUSG00000102693.2\tchr1\t3143476\t3144545\t+\t1070\t0\n",
      "ENSMUSG00000064842.3\tchr1\t3172239\t3172348\t+\t110\t0\n",
      "ENSMUSG00000051951.6\tchr1;chr1;chr1;chr1;chr1;chr1;chr1\t3276124;3276746;3283662;3283832;3284705;3491925;3740775\t3277540;3277540;3285855;3286567;3287191;3492124;3741721\t-;-;-;-;-;-;-\t6094\t0\n",
      "ENSMUSG00000102851.2\tchr1\t3322980\t3323459\t+\t480\t0\n",
      "ENSMUSG00000103377.2\tchr1\t3435954\t3438772\t-\t2819\t0\n",
      "ENSMUSG00000104017.2\tchr1\t3445779\t3448011\t-\t2233\t0\n",
      "\n",
      "==> /shared/projects/2413_rnaseq_cea/scaburet/Results/featurecounts/SRR12730410_paired-unstranded.counts <==\n",
      "# Program:featureCounts v2.0.6; Command:\"featureCounts\" \"-p\" \"-s\" \"0\" \"-T\" \"16\" \"-a\" \"/shared/projects/2413_rnaseq_cea/alldata/Reference/extracted/genome_annotation-M35.gtf\" \"-o\" \"/shared/projects/2413_rnaseq_cea/scaburet/Results/featurecounts/SRR12730410_paired-unstranded.counts\" \"/shared/projects/2413_rnaseq_cea/scaburet/Results/featurecounts/SRR12730410_Aligned.sortedByNames.bam\" \"--donotsort\" \"--verbose\" \n",
      "Geneid\tChr\tStart\tEnd\tStrand\tLength\t/shared/projects/2413_rnaseq_cea/scaburet/Results/featurecounts/SRR12730410_Aligned.sortedByNames.bam\n",
      "ENSMUSG00000102693.2\tchr1\t3143476\t3144545\t+\t1070\t0\n",
      "ENSMUSG00000064842.3\tchr1\t3172239\t3172348\t+\t110\t0\n",
      "ENSMUSG00000051951.6\tchr1;chr1;chr1;chr1;chr1;chr1;chr1\t3276124;3276746;3283662;3283832;3284705;3491925;3740775\t3277540;3277540;3285855;3286567;3287191;3492124;3741721\t-;-;-;-;-;-;-\t6094\t2\n",
      "ENSMUSG00000102851.2\tchr1\t3322980\t3323459\t+\t480\t0\n",
      "ENSMUSG00000103377.2\tchr1\t3435954\t3438772\t-\t2819\t0\n",
      "ENSMUSG00000104017.2\tchr1\t3445779\t3448011\t-\t2233\t0\n",
      "\n",
      "==> /shared/projects/2413_rnaseq_cea/scaburet/Results/featurecounts/SRR12730411_paired-unstranded.counts <==\n",
      "# Program:featureCounts v2.0.6; Command:\"featureCounts\" \"-p\" \"-s\" \"0\" \"-T\" \"16\" \"-a\" \"/shared/projects/2413_rnaseq_cea/alldata/Reference/extracted/genome_annotation-M35.gtf\" \"-o\" \"/shared/projects/2413_rnaseq_cea/scaburet/Results/featurecounts/SRR12730411_paired-unstranded.counts\" \"/shared/projects/2413_rnaseq_cea/scaburet/Results/featurecounts/SRR12730411_Aligned.sortedByNames.bam\" \"--donotsort\" \"--verbose\" \n",
      "Geneid\tChr\tStart\tEnd\tStrand\tLength\t/shared/projects/2413_rnaseq_cea/scaburet/Results/featurecounts/SRR12730411_Aligned.sortedByNames.bam\n",
      "ENSMUSG00000102693.2\tchr1\t3143476\t3144545\t+\t1070\t0\n",
      "ENSMUSG00000064842.3\tchr1\t3172239\t3172348\t+\t110\t0\n",
      "ENSMUSG00000051951.6\tchr1;chr1;chr1;chr1;chr1;chr1;chr1\t3276124;3276746;3283662;3283832;3284705;3491925;3740775\t3277540;3277540;3285855;3286567;3287191;3492124;3741721\t-;-;-;-;-;-;-\t6094\t0\n",
      "ENSMUSG00000102851.2\tchr1\t3322980\t3323459\t+\t480\t0\n",
      "ENSMUSG00000103377.2\tchr1\t3435954\t3438772\t-\t2819\t0\n",
      "ENSMUSG00000104017.2\tchr1\t3445779\t3448011\t-\t2233\t0\n"
     ]
    }
   ],
   "source": [
    "## Code cell 57 ##\n",
    "\n",
    "cp ${gohome}alldata/Results/featurecounts/11samples_* ${gohome}$USER/Results/featurecounts/\n",
    "\n",
    "head -n 8 ${gohome}$USER/Results/featurecounts/*_paired-unstranded.counts"
   ]
  }
 ],
 "metadata": {},
 "nbformat": 4,
 "nbformat_minor": 5
}
