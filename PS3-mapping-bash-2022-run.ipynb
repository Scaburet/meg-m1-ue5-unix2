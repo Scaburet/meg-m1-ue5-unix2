{
 "cells": [
  {
   "cell_type": "markdown",
   "metadata": {},
   "source": [
    "# __RNAseq Analysis Module__"
   ]
  },
  {
   "cell_type": "markdown",
   "metadata": {},
   "source": [
    "## **Practical Session 3: Quality check of raw data and mapping**\n",
    "\n",
    "Tuesday, the 22nd of November, 2022   \n",
    "Claire Vandiedonck and Sandrine Caburet - 2022  \n",
    "\n",
    "\n",
    "   1. Getting started   \n",
    "   2. Quality controls on Cparapsilosis fastq files   \n",
    "   3. Mapping the reads on CParasilosis genome using the BOWTIE program  \n",
    "   4. Managing the output files\n",
    "   5. Batch analysing of the other samples\n"
   ]
  },
  {
   "cell_type": "markdown",
   "metadata": {},
   "source": [
    "---\n",
    "## **Before going further**\n",
    "\n",
    "<div class=\"alert alert-block alert-danger\"> <b>Caution:</b> \n",
    "Before starting the analysis, save a backup copy of this notebok : in the left-hand panel, right-click on this file and select \"Duplicate\"<br>\n",
    "You can also make backups during the analysis. Don't forget to save your notebook regularly.\n",
    "</div>"
   ]
  },
  {
   "cell_type": "markdown",
   "metadata": {},
   "source": [
    "<div class=\"alert alert-block alert-info\"> \n",
    "    \n",
    "<b><em> About jupyter notebooks:</em></b><br>\n",
    "\n",
    "- To add a new cell, click on the \"+\" icon in the toolbar above your notebook <br>\n",
    "- You can \"click and drag\" to move a cell up or down <br>\n",
    "- You choose the type of cell in the toolbar above your notebook: <br>\n",
    "    - 'Code' to enter command lines to be executed <br>\n",
    "    - 'Markdown' cells to add text, that can be formatted with some characters <br>\n",
    "- To execute a 'Code' cell, press SHIFT+ENTER or click on the \"play\" icon  <br>\n",
    "- To display a 'Markdown' cell, press SHIFT+ENTER or click on the \"play\" icon  <br>\n",
    "- To modify a 'Markdown'cell, double-click on it <br>\n",
    "<br>    \n",
    "\n",
    "<em>  \n",
    "To make nice html reports with markdown: <a href=\"https://dillinger.io/\" title=\"dillinger.io\">html visualization tool 1</a> or <a href=\"https://stackedit.io/app#\" title=\"stackedit.io\">html visualization tool 2</a>, <a href=\"https://www.tablesgenerator.com/markdown_tables\" title=\"tablesgenerator.com\">to draw nice tables</a>, and the <a href=\"https://medium.com/analytics-vidhya/the-ultimate-markdown-guide-for-jupyter-notebook-d5e5abf728fd\" title=\"Ultimate guide\">Ultimate guide</a>. <br>\n",
    "Further reading on JupyterLab notebooks: <a href=\"https://jupyterlab.readthedocs.io/en/latest/user/notebook.html\" title=\"Jupyter Lab\">Jupyter Lab documentation</a>.<br>\n",
    "    \n",
    "Here we are using JupyterLab interface implemented as part of the <a href=\"https://plasmabio.org/\" title=\"plasmabio.org\">Plasmabio</a> project led by Sandrine Caburet, Pierre Poulain and Claire Vandiedonck.\n",
    "</em>\n",
    "</div>"
   ]
  },
  {
   "cell_type": "markdown",
   "metadata": {},
   "source": [
    "___\n",
    "\n",
    "__*=> About this jupyter notebook*__\n",
    "\n",
    "This a jupyter notebook in **bash**, meaning that the commands you will enter or run in `Code` cells are directly understood by the server. <br>You could run the same commands in a `Terminal` (the frightening black window that informaticians use :-D). \n",
    "\n",
    ">_If you want to see this by yourself, you can open a terminal on adenine:_\n",
    ">- _in the `File` menu in the top bar, select `New Launcher` or click on the `+` sign below_\n",
    ">- _open either a bash `Console` or a `Terminal`_\n",
    ">- _you'll be able to copy and paste the commands from the `Code` cells of the notebook in the \"bottom cell\" (for the console) or after the `$` sign (for the terminal)_\n",
    ">\n",
    ">_This is for your information only, and not needed. All the commands are already included in this notebook_\n",
    "<br>"
   ]
  },
  {
   "cell_type": "raw",
   "metadata": {},
   "source": [
    "In this practical, you will run one command at a time."
   ]
  },
  {
   "cell_type": "markdown",
   "metadata": {},
   "source": [
    "- In Unix, all characters are case sensitive.\n",
    "- It is good practice to avoid accents and special characters.   \n",
    "- Within `Code` cells, lines starting with a `#` are comments and are not interpreted as a command. They are meant to help you.  \n",
    "- You may add your own comments as well, either in a `Code` cell using this `#`, or in a new `Markdown` cell added with the \"+\" above.  \n",
    "- <mark>If you add cells with comments, or modify existing cells, **don't forget to save your notebook**.<mark>\n",
    "___"
   ]
  },
  {
   "cell_type": "markdown",
   "metadata": {},
   "source": [
    "## **I - Getting started**\n",
    "\n",
    "### **1- Working directory**\n",
    "\n",
    "The working directory is where you are currently located in the server. By default, for this practical session using this JupyterLab notebook, this is the folder displayed by the opening of the environment, that you performed when you selected the correct 'server' and launched it: it created the corresponding folder in you home.  \n",
    "\n",
    "To check where you are working, use the `pwd` command, which stands for \"path to working directory\"."
   ]
  },
  {
   "cell_type": "code",
   "execution_count": 1,
   "metadata": {},
   "outputs": [
    {
     "name": "stdout",
     "output_type": "stream",
     "text": [
      "/srv/home/scaburet/meg_m2_rnaseq_bash\n"
     ]
    }
   ],
   "source": [
    "pwd"
   ]
  },
  {
   "cell_type": "markdown",
   "metadata": {},
   "source": [
    "<div class=\"alert alert-block alert-warning\"><b>The result should be like this:</b>`/srv/home/mylogin/m2meg-rnaseq-tp3to5-bash` with your \"login\". If not, call us! We can change a working directory using the Unix command <b>cd</b> (change directory) \n",
    "</div>"
   ]
  },
  {
   "cell_type": "markdown",
   "metadata": {},
   "source": [
    ">_Here is a link for some basic Unix commands: https://files.fosswire.com/2007/08/fwunixref.pdf (there are plenty of other good ones on the net).<br>\n",
    ">You can also get an explanation of general Unix commands using this tool: https://explainshell.com/. <br>\n",
    "> Some other tips: you may use the autocompletion of the names of your files and folders with the tab arrow on your keyboard._"
   ]
  },
  {
   "cell_type": "markdown",
   "metadata": {},
   "source": [
    "The content of this working directory is displayed in the left panel. You can also list the content of this folder with the `ls` command (which stands for \"list\"):"
   ]
  },
  {
   "cell_type": "code",
   "execution_count": 2,
   "metadata": {},
   "outputs": [
    {
     "name": "stdout",
     "output_type": "stream",
     "text": [
      "total 22M\n",
      "drwxr-xr-x 2 scaburet scaburet 4.0K Nov 15 17:22 binder\n",
      "-rw-rw-r-- 1 scaburet scaburet 7.6M Nov 22 12:42 C_parapsilosis.1.ebwt\n",
      "-rw-rw-r-- 1 scaburet scaburet 1.6M Nov 22 12:42 C_parapsilosis.2.ebwt\n",
      "-rw-rw-r-- 1 scaburet scaburet   89 Nov 22 12:42 C_parapsilosis.3.ebwt\n",
      "-rw-rw-r-- 1 scaburet scaburet 3.2M Nov 22 12:42 C_parapsilosis.4.ebwt\n",
      "-rw-rw-r-- 1 scaburet scaburet 7.6M Nov 22 12:42 C_parapsilosis.rev.1.ebwt\n",
      "-rw-rw-r-- 1 scaburet scaburet 1.6M Nov 22 12:42 C_parapsilosis.rev.2.ebwt\n",
      "-rw-r--r-- 1 scaburet scaburet 1.5K Nov 15 17:22 LICENSE\n",
      "-rw-rw-r-- 1 scaburet scaburet  35K Nov 22 15:26 PS3-mapping-bash-2022-Copy1.ipynb\n",
      "-rw-rw-r-- 1 scaburet scaburet  60K Nov 22 13:14 PS3-mapping-bash-2022.ipynb\n",
      "-rw-rw-r-- 1 scaburet scaburet  25K Nov 22 12:42 PS4-mappingOutput-bash-2022.ipynb\n",
      "-rw-rw-r-- 1 scaburet scaburet  10K Nov 22 12:44 PS5-ReadCounts-bash-2022.ipynb\n",
      "-rw-r--r-- 1 scaburet scaburet 1.3K Nov 15 17:22 README.md\n",
      "drwxrwxr-x 3 scaburet scaburet 4.0K Nov 22 13:15 Results\n",
      "drwxrwxr-x 8 scaburet scaburet 4.0K Nov 15 17:48 Results1\n"
     ]
    }
   ],
   "source": [
    "# the option -l will provide details of size for each file, \n",
    "# the option h stands for human, to read the file size in a human easy manner. \n",
    "# the two options are combined with -lh\n",
    "# you may add -tr as well to see the files sorted by reverse time.\n",
    "\n",
    "ls -lh"
   ]
  },
  {
   "cell_type": "markdown",
   "metadata": {},
   "source": [
    "  "
   ]
  },
  {
   "cell_type": "markdown",
   "metadata": {},
   "source": [
    "### **2- Data** \n",
    "The data files are already present on the server, in the `/srv/data/meg-m2-rnaseq/genome/` and in `/srv/data/meg-m2-rnaseq/experimental_data` folders.\n",
    "<br><mark> Do not copy them to your working directory. </mark> <br>\n",
    "We will directly read them from where they are by indicating the  **absolute path** to these folders.\n",
    "\n",
    "#### **2.a- list of input files:**"
   ]
  },
  {
   "cell_type": "code",
   "execution_count": 3,
   "metadata": {},
   "outputs": [
    {
     "name": "stdout",
     "output_type": "stream",
     "text": [
      "total 16M\n",
      "-rw-rw-r-- 1     1002 1011 2.2M Nov  8  2020 C_parapsilosis_CDC317_current_features.gtf\n",
      "-rw-r--r-- 1 scaburet 1012 3.9K Nov 13  2020 C_parapsilosis_CDC317_GO_distrib-5958g.txt\n",
      "-rwxrwxr-x 1 scaburet 1012  13M Nov 16  2020 C_parapsilosis_CGD.fasta\n",
      "-rwxrwxr-x 1     1002 1011  497 Nov 17  2020 C_parapsilosis_CGD.fasta.fai\n",
      "-rwxrwxr-x 1 scaburet 1012 460K Nov 16  2020 C_parapsilosis_ORFs.gff\n",
      "-rw-rw-r-- 1     1002 1011  381 Nov 28  2020 md5sums.txt\n"
     ]
    }
   ],
   "source": [
    "# Here we list the content of the folder containing the genome data\n",
    "\n",
    "ls -lh /srv/data/meg-m2-rnaseq/genome/"
   ]
  },
  {
   "cell_type": "code",
   "execution_count": 4,
   "metadata": {},
   "outputs": [
    {
     "name": "stdout",
     "output_type": "stream",
     "text": [
      "total 8740404\n",
      "-rwxrwxr-x 1 scaburet 1012 2076626584 Nov 17  2020 Normoxia_1.fastq\n",
      "-rwxrwxr-x 1 scaburet 1012 2247722522 Nov 17  2020 Hypoxia_1.fastq\n",
      "-rwxrwxr-x 1 scaburet 1012  601091995 Nov 23  2020 SRR352276.fastqsanger.gz\n",
      "-rwxrwxr-x 1 scaburet 1012  453919548 Nov 23  2020 SRR352274.fastqsanger.gz\n",
      "-rwxrwxr-x 1 scaburet 1012  900553614 Nov 23  2020 SRR352273.fastqsanger.gz\n",
      "-rwxrwxr-x 1 scaburet 1012  287494946 Nov 24  2020 SRR352270.fastqsanger.gz\n",
      "-rwxrwxr-x 1 scaburet 1012  545441830 Nov 24  2020 SRR352267.fastqsanger.gz\n",
      "-rwxrwxr-x 1 scaburet 1012  614531495 Nov 24  2020 SRR352266.fastqsanger.gz\n",
      "-rwxrwxr-x 1 scaburet 1012  590409188 Nov 24  2020 SRR352264.fastqsanger.gz\n",
      "-rwxrwxr-x 1 scaburet 1012  632322170 Nov 24  2020 SRR352261.fastqsanger.gz\n",
      "-rw-rw-r-- 1     1002 1011        993 Nov 29  2020 md5sums.txt\n"
     ]
    }
   ],
   "source": [
    "# Here we list the content of the folder containing the experimental data\n",
    "\n",
    "ls -ltr /srv/data/meg-m2-rnaseq/experimental_data/"
   ]
  },
  {
   "cell_type": "markdown",
   "metadata": {},
   "source": [
    "You may count the number of files in one folder using the following command. The symbol `|` is a \"pipe\". It redirects the output of the command on its left to its right. The command `grep` (*globally search for a regular expression and print matching lines*) is used to identify a specific pattern. The final part of the command `wc -l` is used to count the number of lines."
   ]
  },
  {
   "cell_type": "code",
   "execution_count": 6,
   "metadata": {},
   "outputs": [
    {
     "name": "stdout",
     "output_type": "stream",
     "text": [
      "10\n"
     ]
    }
   ],
   "source": [
    "ls /srv/data/meg-m2-rnaseq/experimental_data/ | grep \"fastq\" | wc -l "
   ]
  },
  {
   "cell_type": "markdown",
   "metadata": {},
   "source": [
    "The first two files are `.fastq` files containing raw data of the Immunina sequencer. The other 8 are gunzipped `.gz` compressed files. You can notice their size is reduced compared to the `.fastq` files. Most genomics tools can work with both compressed and uncompressed files.\n",
    "\n",
    "#### **2.b- checking files integrity:**"
   ]
  },
  {
   "cell_type": "markdown",
   "metadata": {},
   "source": [
    "<div class=\"alert alert-block alert-warning\"><b>Checking the data are not corrupted</b><br>\n",
    "Whenever you get such input files, it is mandatory to verify that they are intact and not corrupted before analysing the data further.\n",
    "This can be performed by computing a <b>md5sum</b>, a kind of \"barcode\" or \"fingerprint\" of each file. It should remain the same after a copy on your computer for example.<br>\n",
    "Similarly in your laboratories, if you get files from collaborators or a Next-Generation-Sequencing platform, always ask for the md5sums to check files integrity\n",
    "</div>"
   ]
  },
  {
   "cell_type": "markdown",
   "metadata": {},
   "source": [
    "You may either get the md5sum of one file at a time like this using the command `md5sum` followed by a space and the name of the file:\n",
    "\n",
    "   - on the __genomic files__:"
   ]
  },
  {
   "cell_type": "code",
   "execution_count": 7,
   "metadata": {},
   "outputs": [
    {
     "name": "stdout",
     "output_type": "stream",
     "text": [
      "e189032dafc2b7013eeae7d33cbf9458  /srv/data/meg-m2-rnaseq/genome/C_parapsilosis_CGD.fasta\n"
     ]
    }
   ],
   "source": [
    "md5sum /srv/data/meg-m2-rnaseq/genome/C_parapsilosis_CGD.fasta"
   ]
  },
  {
   "cell_type": "markdown",
   "metadata": {},
   "source": [
    "Or you may get the `md5sum` fingerprint of all the files at once in the folder by using `*` which stands for \"anything\""
   ]
  },
  {
   "cell_type": "code",
   "execution_count": 8,
   "metadata": {},
   "outputs": [
    {
     "name": "stdout",
     "output_type": "stream",
     "text": [
      "423de6aa2842fa7ad2b2639fc4d47808  /srv/data/meg-m2-rnaseq/genome/C_parapsilosis_CDC317_current_features.gtf\n",
      "6455d97a060c3c7d1e94112f818fa046  /srv/data/meg-m2-rnaseq/genome/C_parapsilosis_CDC317_GO_distrib-5958g.txt\n",
      "e189032dafc2b7013eeae7d33cbf9458  /srv/data/meg-m2-rnaseq/genome/C_parapsilosis_CGD.fasta\n",
      "537217ec9ac54343af31b28521c0c6f3  /srv/data/meg-m2-rnaseq/genome/C_parapsilosis_CGD.fasta.fai\n",
      "e86c62e99a240c0ac309cd067d105522  /srv/data/meg-m2-rnaseq/genome/C_parapsilosis_ORFs.gff\n",
      "be6f316b0fcca1b653ee5b98648ddfb2  /srv/data/meg-m2-rnaseq/genome/md5sums.txt\n"
     ]
    }
   ],
   "source": [
    "# In a command, * stands for 'anything'.\n",
    "\n",
    "md5sum /srv/data/meg-m2-rnaseq/genome/*\n",
    "\n",
    "#You should get the following \"barcodes\" for each file :\n",
    "# 423de6aa2842fa7ad2b2639fc4d47808  /srv/data/meg-m2-rnaseq/genome/C_parapsilosis_CDC317_current_features.gtf\n",
    "# 6455d97a060c3c7d1e94112f818fa046  /srv/data/meg-m2-rnaseq/C_parapsilosis_CDC317_GO_distrib-5958g.txt\n",
    "# e189032dafc2b7013eeae7d33cbf9458  /srv/data/meg-m2-rnaseq/C_parapsilosis_CGD.fasta\n",
    "# 537217ec9ac54343af31b28521c0c6f3  /srv/data/meg-m2-rnaseq/genome/C_parapsilosis_CGD.fasta.fai\n",
    "# e86c62e99a240c0ac309cd067d105522  /srv/data/meg-m2-rnaseq/C_parapsilosis_ORFs.gff\n",
    "# be6f316b0fcca1b653ee5b98648ddfb2  /srv/data/meg-m2-rnaseq/genome/md5sums.txt\n"
   ]
  },
  {
   "cell_type": "markdown",
   "metadata": {},
   "source": [
    "What is even better is to have already in the folder a file, classically called `md5sum.txt`, with the outputs of the above `md5sum` command. Should you have the rights to do it, the command to generate that file would be:"
   ]
  },
  {
   "cell_type": "code",
   "execution_count": 11,
   "metadata": {},
   "outputs": [],
   "source": [
    "md5sum /srv/data/meg-m2-rnaseq/genome/* > md5sums.txt"
   ]
  },
  {
   "cell_type": "markdown",
   "metadata": {},
   "source": [
    "Thus, you can automatically do the comparison of the md5sum fingerprints you obtain with the ones stored in the `md5sum.txt` file in a recursive manner using the argument `-c`. This is very convenient when you have lot of files to check from a platform."
   ]
  },
  {
   "cell_type": "code",
   "execution_count": 12,
   "metadata": {},
   "outputs": [
    {
     "name": "stdout",
     "output_type": "stream",
     "text": [
      "/srv/data/meg-m2-rnaseq/genome/C_parapsilosis_CDC317_GO_distrib-5958g.txt: OK\n",
      "/srv/data/meg-m2-rnaseq/genome/C_parapsilosis_CGD.fasta: OK\n",
      "/srv/data/meg-m2-rnaseq/genome/C_parapsilosis_CGD.fasta.fai: OK\n",
      "/srv/data/meg-m2-rnaseq/genome/C_parapsilosis_ORFs.gff: OK\n"
     ]
    }
   ],
   "source": [
    "md5sum -c /srv/data/meg-m2-rnaseq/genome/md5sums.txt "
   ]
  },
  {
   "cell_type": "markdown",
   "metadata": {},
   "source": [
    "_Remark: To get information on a Unix command, just enter the name of the command followed by `--help` as below. If it is installed on the server/computer, you can also enter the command `man` followed by the name of the command._"
   ]
  },
  {
   "cell_type": "code",
   "execution_count": 13,
   "metadata": {},
   "outputs": [
    {
     "name": "stdout",
     "output_type": "stream",
     "text": [
      "Usage: md5sum [OPTION]... [FILE]...\n",
      "Print or check MD5 (128-bit) checksums.\n",
      "\n",
      "With no FILE, or when FILE is -, read standard input.\n",
      "\n",
      "  -b, --binary         read in binary mode\n",
      "  -c, --check          read MD5 sums from the FILEs and check them\n",
      "      --tag            create a BSD-style checksum\n",
      "  -t, --text           read in text mode (default)\n",
      "\n",
      "The following five options are useful only when verifying checksums:\n",
      "      --ignore-missing  don't fail or report status for missing files\n",
      "      --quiet          don't print OK for each successfully verified file\n",
      "      --status         don't output anything, status code shows success\n",
      "      --strict         exit non-zero for improperly formatted checksum lines\n",
      "  -w, --warn           warn about improperly formatted checksum lines\n",
      "\n",
      "      --help     display this help and exit\n",
      "      --version  output version information and exit\n",
      "\n",
      "The sums are computed as described in RFC 1321.  When checking, the input\n",
      "should be a former output of this program.  The default mode is to print a\n",
      "line with checksum, a space, a character indicating input mode ('*' for binary,\n",
      "' ' for text or where binary is insignificant), and name for each FILE.\n",
      "\n",
      "GNU coreutils online help: <http://www.gnu.org/software/coreutils/>\n",
      "Full documentation at: <http://www.gnu.org/software/coreutils/md5sum>\n",
      "or available locally via: info '(coreutils) md5sum invocation'\n"
     ]
    }
   ],
   "source": [
    "md5sum --help\n",
    "# man md5sum"
   ]
  },
  {
   "cell_type": "markdown",
   "metadata": {},
   "source": [
    "   - on the __experimental data__ :\n",
    "   \n",
    "*Be patient, it can take a minute.*"
   ]
  },
  {
   "cell_type": "code",
   "execution_count": 14,
   "metadata": {},
   "outputs": [
    {
     "name": "stdout",
     "output_type": "stream",
     "text": [
      "/srv/data/meg-m2-rnaseq/experimental_data/Hypoxia_1.fastq: OK\n",
      "/srv/data/meg-m2-rnaseq/experimental_data/Normoxia_1.fastq: OK\n",
      "/srv/data/meg-m2-rnaseq/experimental_data/SRR352261.fastqsanger.gz: OK\n",
      "/srv/data/meg-m2-rnaseq/experimental_data/SRR352264.fastqsanger.gz: OK\n",
      "/srv/data/meg-m2-rnaseq/experimental_data/SRR352266.fastqsanger.gz: OK\n",
      "/srv/data/meg-m2-rnaseq/experimental_data/SRR352267.fastqsanger.gz: OK\n",
      "/srv/data/meg-m2-rnaseq/experimental_data/SRR352270.fastqsanger.gz: OK\n",
      "/srv/data/meg-m2-rnaseq/experimental_data/SRR352273.fastqsanger.gz: OK\n",
      "/srv/data/meg-m2-rnaseq/experimental_data/SRR352274.fastqsanger.gz: OK\n",
      "/srv/data/meg-m2-rnaseq/experimental_data/SRR352276.fastqsanger.gz: OK\n"
     ]
    }
   ],
   "source": [
    "md5sum -c /srv/data/meg-m2-rnaseq/experimental_data/md5sums.txt\n",
    "\n",
    "#You should get the following \"barcodes\" for each file :\n",
    "\n",
    "# 2fb96155f5c708709a7539c7ff19e9ff  /srv/data/meg-m2-rnaseq/Hypoxia_1.fastq\n",
    "# 0d8d81a7464f6b662b89a9cea5bb8d1c  /srv/data/meg-m2-rnaseq/Normoxia_1.fastq\n",
    "# 18a714651a337245bc728f3de2d14c87  /srv/data/meg-m2-rnaseq/experimental_data/SRR352261.fastqsanger.gz\n",
    "# 72249ca523761575a85c61345529595b  /srv/data/meg-m2-rnaseq/experimental_data/SRR352264.fastqsanger.gz\n",
    "# 857247cf34e788aef24aeaf9c4081a10  /srv/data/meg-m2-rnaseq/experimental_data/SRR352266.fastqsanger.gz\n",
    "# d7f3e511652f9f6f08092cb6dbde37b4  /srv/data/meg-m2-rnaseq/experimental_data/SRR352267.fastqsanger.gz\n",
    "# 55350bf610cafb705956068851038447  /srv/data/meg-m2-rnaseq/experimental_data/SRR352270.fastqsanger.gz\n",
    "# fa987e543da5da808dd73e36e341c621  /srv/data/meg-m2-rnaseq/experimental_data/SRR352273.fastqsanger.gz\n",
    "# 4a3449674775c9baa76296244dfe9e3d  /srv/data/meg-m2-rnaseq/experimental_data/SRR352274.fastqsanger.gz\n",
    "# 39dc93ec7820c315d1a9742444b7f83b  /srv/data/meg-m2-rnaseq/experimental_data/SRR352276.fastqsanger.gz"
   ]
  },
  {
   "cell_type": "markdown",
   "metadata": {},
   "source": [
    "### **3- Creating a folder for analysis results:**\n",
    "\n",
    "Now we'll create a new directory to store the results of our analysis, using the _*mkdir*_ command, for \"make directory\", and within it a sub-folder for quality checks outputs:"
   ]
  },
  {
   "cell_type": "code",
   "execution_count": 15,
   "metadata": {},
   "outputs": [],
   "source": [
    "  mkdir Results\n",
    "  mkdir Results/Fastqc"
   ]
  },
  {
   "cell_type": "markdown",
   "metadata": {},
   "source": [
    "You can check the arborescence of your folder with the Unix command `tree`."
   ]
  },
  {
   "cell_type": "code",
   "execution_count": null,
   "metadata": {},
   "outputs": [],
   "source": [
    "tree"
   ]
  },
  {
   "cell_type": "markdown",
   "metadata": {},
   "source": [
    "_Of note, the `binder` folder was automatically created with your environment. For those interested, it contains all the configuration information to recreate a similar JupyterLab environment outside of adenine._ \n",
    "\n",
    "**=> Well done, you are now ready to check and analyse the data!** \n",
    "\n",
    "-------"
   ]
  },
  {
   "cell_type": "markdown",
   "metadata": {},
   "source": [
    "## **II - Quality controls on *CParapsilosis* `.fastq` and `fastq.gz` files**\n",
    "\n",
    "### **1- Examining the data**\n",
    "\n",
    "- `.fastq` files are readable by the human eye, and we can display the first and last lines of each file, using the Unix `head` and `tail` commands:  "
   ]
  },
  {
   "cell_type": "code",
   "execution_count": 17,
   "metadata": {},
   "outputs": [
    {
     "name": "stdout",
     "output_type": "stream",
     "text": [
      "@O2rep2_SRR352263.1 HWI-EAS283:5:1:2:642 length=40\n",
      "ACTTAATACACACCCAATTCCCTCTTCATCTGATCTAAAT\n",
      "+O2rep2_SRR352263.1 HWI-EAS283:5:1:2:642 length=40\n",
      "+55-891>3<7A=./<<232?AAB7C?6AB=-7'-<,A:#\n",
      "@O2rep2_SRR352263.2 HWI-EAS283:5:1:2:1439 length=40\n",
      "AATTTGTTCAACGTTTCTTCCCATCATCAAACATTCTGTT\n",
      "+O2rep2_SRR352263.2 HWI-EAS283:5:1:2:1439 length=40\n",
      ":-7=>0;AA;39'&86>8;@0A4?################\n",
      "@O2rep2_SRR352263.3 HWI-EAS283:5:1:3:874 length=40\n",
      "ATTTATATTTTTTTTATTTCTTTTACCTTCCCTTCTTATT\n"
     ]
    }
   ],
   "source": [
    "head /srv/data/meg-m2-rnaseq/experimental_data/Normoxia_1.fastq"
   ]
  },
  {
   "cell_type": "code",
   "execution_count": 18,
   "metadata": {},
   "outputs": [
    {
     "name": "stdout",
     "output_type": "stream",
     "text": [
      "+O2rep2_SRR352263.10213663 HWI-EAS283:5:100:1789:357 length=40\n",
      "9@AAB5BCB</6?CC@B9ABB>9@97>166)38B:47<:3\n",
      "@O2rep2_SRR352263.10213664 HWI-EAS283:5:100:1789:667 length=40\n",
      "TGGAATACCTTCTTTGTCTTGGATTTTGGACTTGAGATTG\n",
      "+O2rep2_SRR352263.10213664 HWI-EAS283:5:100:1789:667 length=40\n",
      "B@@@=0<;5A@0:A*=@@?@####################\n",
      "@O2rep2_SRR352263.10213665 HWI-EAS283:5:100:1790:9 length=40\n",
      "CATTTGATGCCATCGCGCTCAATGAAAATTATAAAANAAA\n",
      "+O2rep2_SRR352263.10213665 HWI-EAS283:5:100:1790:9 length=40\n",
      "=@BCCB.B:BBBBA*@B=AB8BB8B=BBBCA(:.B1%:6C\n"
     ]
    }
   ],
   "source": [
    "tail /srv/data/meg-m2-rnaseq/experimental_data/Normoxia_1.fastq"
   ]
  },
  {
   "cell_type": "code",
   "execution_count": 19,
   "metadata": {},
   "outputs": [
    {
     "name": "stdout",
     "output_type": "stream",
     "text": [
      "@noO2rep3_SRR352271.1 HWI-EAS283_0006:2:1:0:157 length=42\n",
      "NTCCGTATTCCCTATGCCTCGTACAAATTNCTTNCAAATCCT\n",
      "+noO2rep3_SRR352271.1 HWI-EAS283_0006:2:1:0:157 length=42\n",
      "%198387:;699;96/56;838:::9:5&%/;1%/999::::\n",
      "@noO2rep3_SRR352271.2 HWI-EAS283_0006:2:1:0:1006 length=42\n",
      "NCAATTGCAATTTCCAATGTCTATCATACAAATCCTCTTCTT\n",
      "+noO2rep3_SRR352271.2 HWI-EAS283_0006:2:1:0:1006 length=42\n",
      "%0;<<717;6;<<<:<<7/7<<<979;;;;;<999999<8;;\n",
      "@noO2rep3_SRR352271.3 HWI-EAS283_0006:2:1:0:1599 length=42\n",
      "NCTCCTAATTTCAATTTATACAATATTGTGGTTTTTTTTTCA\n"
     ]
    }
   ],
   "source": [
    "head /srv/data/meg-m2-rnaseq/experimental_data/Hypoxia_1.fastq"
   ]
  },
  {
   "cell_type": "code",
   "execution_count": 20,
   "metadata": {},
   "outputs": [
    {
     "name": "stdout",
     "output_type": "stream",
     "text": [
      "+noO2rep3_SRR352271.10136007 HWI-EAS283_0006:2:120:1789:1639 length=42\n",
      "5BB@CCBCCCA+=CCBBBBB6<B@C@CBBCAA@AAB?%3B3?\n",
      "@noO2rep3_SRR352271.10136008 HWI-EAS283_0006:2:120:1789:872 length=42\n",
      "CTCCCGTACTTTTTTATATAATGCTTCTTTTGATGCTNTTTG\n",
      "+noO2rep3_SRR352271.10136008 HWI-EAS283_0006:2:120:1789:872 length=42\n",
      "BCBAA7B??CCCCCC>CBC>BC?BCCACCCB9AC8@?%>C@#\n",
      "@noO2rep3_SRR352271.10136009 HWI-EAS283_0006:2:120:1789:1527 length=42\n",
      "CCCACGATTGATAATATTGTGGAATCAAGTCCATTGANGTCT\n",
      "+noO2rep3_SRR352271.10136009 HWI-EAS283_0006:2:120:1789:1527 length=42\n",
      "BABBB9BBCABCAB+5CB:BB?BBC?BBC7?B?A@-7%3ABC\n"
     ]
    }
   ],
   "source": [
    "tail /srv/data/meg-m2-rnaseq/experimental_data/Hypoxia_1.fastq"
   ]
  },
  {
   "cell_type": "markdown",
   "metadata": {},
   "source": [
    ">Another great command Unix command is `less` when installed. If you want to try it on adenine, you have to do it in a terminal (it does not work in this notebook). It displays initially the first lines of a file. By pressing the spacebar, you will see the next lines. The parameters `S` and `N` respectively display the lines with no wrap and add the line number at the beginning. Press `Q` to escape."
   ]
  },
  {
   "cell_type": "markdown",
   "metadata": {},
   "source": [
    "> _For geeks only:_\n",
    ">\n",
    "> Similarly, you can count the number of rows in a file:"
   ]
  },
  {
   "cell_type": "code",
   "execution_count": 21,
   "metadata": {},
   "outputs": [
    {
     "name": "stdout",
     "output_type": "stream",
     "text": [
      "40544036 /srv/data/meg-m2-rnaseq/experimental_data/Hypoxia_1.fastq\n"
     ]
    }
   ],
   "source": [
    "wc -l /srv/data/meg-m2-rnaseq/experimental_data/Hypoxia_1.fastq"
   ]
  },
  {
   "cell_type": "markdown",
   "metadata": {},
   "source": [
    "> and get the number of reads by dividing by 4:"
   ]
  },
  {
   "cell_type": "code",
   "execution_count": 22,
   "metadata": {},
   "outputs": [
    {
     "name": "stdout",
     "output_type": "stream",
     "text": [
      "10136009\n"
     ]
    }
   ],
   "source": [
    "nb_row=$(wc -l /srv/data/meg-m2-rnaseq/experimental_data/Hypoxia_1.fastq | cut -d\" \" -f1) \n",
    "echo $((${nb_row}/4))"
   ]
  },
  {
   "cell_type": "markdown",
   "metadata": {},
   "source": [
    "The same for the Normoxia_1 file :"
   ]
  },
  {
   "cell_type": "code",
   "execution_count": 23,
   "metadata": {},
   "outputs": [
    {
     "name": "stdout",
     "output_type": "stream",
     "text": [
      "10213665\n"
     ]
    }
   ],
   "source": [
    "nb_row=$(wc -l /srv/data/meg-m2-rnaseq/experimental_data/Normoxia_1.fastq | cut -d\" \" -f1) \n",
    "echo $((${nb_row}/4))"
   ]
  },
  {
   "cell_type": "markdown",
   "metadata": {},
   "source": [
    "> or directly get the number of reads noticing all reads in this file start with an `@noO2`:"
   ]
  },
  {
   "cell_type": "code",
   "execution_count": 24,
   "metadata": {},
   "outputs": [
    {
     "name": "stdout",
     "output_type": "stream",
     "text": [
      "10136009\n"
     ]
    }
   ],
   "source": [
    "grep \"^@noO2\" /srv/data/meg-m2-rnaseq/experimental_data/Hypoxia_1.fastq | wc -l"
   ]
  },
  {
   "cell_type": "markdown",
   "metadata": {},
   "source": [
    "- On the `gz` files, you need to combine the `zcat` command first that reads compressed files, and the `head` or `tail` commands using a pipe `|`."
   ]
  },
  {
   "cell_type": "code",
   "execution_count": 25,
   "metadata": {},
   "outputs": [
    {
     "name": "stdout",
     "output_type": "stream",
     "text": [
      "@SRR352261.1 HWI-EAS283:2:1:2:388 length=40\n",
      "CCCCCCCCCCCCCCCCCCCCCCCCCCCCCCCCCCCCCCCC\n",
      "+SRR352261.1 HWI-EAS283:2:1:2:388 length=40\n",
      "=@A@.5;8@7@@=;B@9>>>?@=@AB@;@A@@?BAB<9@B\n",
      "@SRR352261.2 HWI-EAS283:2:1:3:506 length=40\n",
      "CAAAATTCTTATTTATTTCCATAAATTATATCGTCATCAC\n",
      "+SRR352261.2 HWI-EAS283:2:1:3:506 length=40\n",
      ">3)A?ACCB>5A7/;@:@@61=:00;B@6?@=########\n",
      "@SRR352261.3 HWI-EAS283:2:1:3:421 length=40\n",
      "CAACCAATCTAATCATCTTTTCTCTTATTATCCCTATATT\n",
      "\n",
      "gzip: stdout: Broken pipe\n"
     ]
    }
   ],
   "source": [
    "zcat /srv/data/meg-m2-rnaseq/experimental_data/SRR352261.fastqsanger.gz | head"
   ]
  },
  {
   "cell_type": "code",
   "execution_count": 26,
   "metadata": {},
   "outputs": [
    {
     "name": "stdout",
     "output_type": "stream",
     "text": [
      "+SRR352266.12397825 HWI-EAS283:8:100:1790:1748 length=40\n",
      "BBBBBBBB@<B@BCCBBB?@*):0??##############\n",
      "@SRR352266.12397826 HWI-EAS283:8:100:1790:1444 length=40\n",
      "TGAAAATACAATCTGCTTTANTAAATAGACCCANNNNNNN\n",
      "+SRR352266.12397826 HWI-EAS283:8:100:1790:1444 length=40\n",
      "A:2@==@;980;??71?;=1%9:>################\n",
      "@SRR352266.12397827 HWI-EAS283:8:100:1790:1959 length=40\n",
      "GTTCCATAGTTGTTTGCAATNTATCATTTAACTNNNNNNN\n",
      "+SRR352266.12397827 HWI-EAS283:8:100:1790:1959 length=40\n",
      "6@BB@CB>AB@@:A@7@A@=%8AA@###############\n"
     ]
    }
   ],
   "source": [
    "zcat /srv/data/meg-m2-rnaseq/experimental_data/SRR352266.fastqsanger.gz | tail"
   ]
  },
  {
   "cell_type": "markdown",
   "metadata": {},
   "source": [
    "> and for geeks, the command `zgrep` will do the pattern search in a gz file: "
   ]
  },
  {
   "cell_type": "code",
   "execution_count": 27,
   "metadata": {},
   "outputs": [
    {
     "name": "stdout",
     "output_type": "stream",
     "text": [
      "12523951\n"
     ]
    }
   ],
   "source": [
    "zgrep \"^@SRR\" /srv/data/meg-m2-rnaseq/experimental_data/SRR352261.fastqsanger.gz | wc -l"
   ]
  },
  {
   "cell_type": "markdown",
   "metadata": {},
   "source": [
    "<div class=\"alert alert-block alert-success\"><b>=> Question: What can you say on the data?</b><br>\n",
    "\n",
    "<em>(you can click here to add your answers directly in this markdown cell)</em><br>\n",
    "\n",
    "For each dataset:\n",
    "\n",
    "- How many reads do you have in each file?\n",
    "- What is the size of the reads?\n",
    "</div>"
   ]
  },
  {
   "cell_type": "markdown",
   "metadata": {},
   "source": [
    "### **2- fastqc**\n",
    "Now we run the fastqc quality control with **FASTQC** (https://www.bioinformatics.babraham.ac.uk/projects/fastqc/) with the following version of the tool."
   ]
  },
  {
   "cell_type": "code",
   "execution_count": 28,
   "metadata": {},
   "outputs": [
    {
     "name": "stdout",
     "output_type": "stream",
     "text": [
      "FastQC v0.11.9\n"
     ]
    }
   ],
   "source": [
    "fastqc --version"
   ]
  },
  {
   "cell_type": "markdown",
   "metadata": {},
   "source": [
    "To run it on a sample, use the following command lines, where we indicate after the command `fastqc` and the name of the file to examine (with its path) and where to write the results after the argument `outdir`. Here the dot `.` stands for \"current working directory\". "
   ]
  },
  {
   "cell_type": "code",
   "execution_count": 29,
   "metadata": {},
   "outputs": [
    {
     "name": "stdout",
     "output_type": "stream",
     "text": [
      "Started analysis of Normoxia_1.fastq\n",
      "Approx 5% complete for Normoxia_1.fastq\n",
      "Approx 10% complete for Normoxia_1.fastq\n",
      "Approx 15% complete for Normoxia_1.fastq\n",
      "Approx 20% complete for Normoxia_1.fastq\n",
      "Approx 25% complete for Normoxia_1.fastq\n",
      "Approx 30% complete for Normoxia_1.fastq\n",
      "Approx 35% complete for Normoxia_1.fastq\n",
      "Approx 40% complete for Normoxia_1.fastq\n",
      "Approx 45% complete for Normoxia_1.fastq\n",
      "Approx 50% complete for Normoxia_1.fastq\n",
      "Approx 55% complete for Normoxia_1.fastq\n",
      "Approx 60% complete for Normoxia_1.fastq\n",
      "Approx 65% complete for Normoxia_1.fastq\n",
      "Approx 70% complete for Normoxia_1.fastq\n",
      "Approx 75% complete for Normoxia_1.fastq\n",
      "Approx 80% complete for Normoxia_1.fastq\n",
      "Approx 85% complete for Normoxia_1.fastq\n",
      "Approx 90% complete for Normoxia_1.fastq\n",
      "Approx 95% complete for Normoxia_1.fastq\n",
      "Analysis complete for Normoxia_1.fastq\n"
     ]
    }
   ],
   "source": [
    "fastqc /srv/data/meg-m2-rnaseq/experimental_data/Normoxia_1.fastq --outdir ./Results/Fastqc"
   ]
  },
  {
   "cell_type": "markdown",
   "metadata": {},
   "source": [
    "The ouputs are in a `.zip` folder you could unzip with the `unzip` Unix command. But there is no need to open do so, as a summary in `.html` format is also provided. To open this `html` file, in the left-hand pannel of the JupyterLab double-click the \"Results\" folder, and in it, on the html file: it should open in a new tab beside this notebook."
   ]
  },
  {
   "cell_type": "code",
   "execution_count": 30,
   "metadata": {},
   "outputs": [
    {
     "name": "stdout",
     "output_type": "stream",
     "text": [
      "Started analysis of Hypoxia_1.fastq\n",
      "Approx 5% complete for Hypoxia_1.fastq\n",
      "Approx 10% complete for Hypoxia_1.fastq\n",
      "Approx 15% complete for Hypoxia_1.fastq\n",
      "Approx 20% complete for Hypoxia_1.fastq\n",
      "Approx 25% complete for Hypoxia_1.fastq\n",
      "Approx 30% complete for Hypoxia_1.fastq\n",
      "Approx 35% complete for Hypoxia_1.fastq\n",
      "Approx 40% complete for Hypoxia_1.fastq\n",
      "Approx 45% complete for Hypoxia_1.fastq\n",
      "Approx 50% complete for Hypoxia_1.fastq\n",
      "Approx 55% complete for Hypoxia_1.fastq\n",
      "Approx 60% complete for Hypoxia_1.fastq\n",
      "Approx 65% complete for Hypoxia_1.fastq\n",
      "Approx 70% complete for Hypoxia_1.fastq\n",
      "Approx 75% complete for Hypoxia_1.fastq\n",
      "Approx 80% complete for Hypoxia_1.fastq\n",
      "Approx 85% complete for Hypoxia_1.fastq\n",
      "Approx 90% complete for Hypoxia_1.fastq\n",
      "Approx 95% complete for Hypoxia_1.fastq\n",
      "Analysis complete for Hypoxia_1.fastq\n"
     ]
    }
   ],
   "source": [
    "fastqc /srv/data/meg-m2-rnaseq/experimental_data/Hypoxia_1.fastq --outdir ./Results/Fastqc"
   ]
  },
  {
   "cell_type": "markdown",
   "metadata": {},
   "source": [
    "> In some web browsers, the display of the letters and special characters might not be correct. If you encounter this problem with firefox, open the menu on the top right hand corner. Click on \"customize\" and select the text encoding icon. Slide it to the menu on the right. It now appears in your menu bar. Click on it and select \"Unicode\" instead of \"occidental\"."
   ]
  },
  {
   "cell_type": "code",
   "execution_count": 31,
   "metadata": {},
   "outputs": [
    {
     "name": "stdout",
     "output_type": "stream",
     "text": [
      "\n",
      "            FastQC - A high throughput sequence QC analysis tool\n",
      "\n",
      "SYNOPSIS\n",
      "\n",
      "\tfastqc seqfile1 seqfile2 .. seqfileN\n",
      "\n",
      "    fastqc [-o output dir] [--(no)extract] [-f fastq|bam|sam] \n",
      "           [-c contaminant file] seqfile1 .. seqfileN\n",
      "\n",
      "DESCRIPTION\n",
      "\n",
      "    FastQC reads a set of sequence files and produces from each one a quality\n",
      "    control report consisting of a number of different modules, each one of \n",
      "    which will help to identify a different potential type of problem in your\n",
      "    data.\n",
      "    \n",
      "    If no files to process are specified on the command line then the program\n",
      "    will start as an interactive graphical application.  If files are provided\n",
      "    on the command line then the program will run with no user interaction\n",
      "    required.  In this mode it is suitable for inclusion into a standardised\n",
      "    analysis pipeline.\n",
      "    \n",
      "    The options for the program as as follows:\n",
      "    \n",
      "    -h --help       Print this help file and exit\n",
      "    \n",
      "    -v --version    Print the version of the program and exit\n",
      "    \n",
      "    -o --outdir     Create all output files in the specified output directory.\n",
      "                    Please note that this directory must exist as the program\n",
      "                    will not create it.  If this option is not set then the \n",
      "                    output file for each sequence file is created in the same\n",
      "                    directory as the sequence file which was processed.\n",
      "                    \n",
      "    --casava        Files come from raw casava output. Files in the same sample\n",
      "                    group (differing only by the group number) will be analysed\n",
      "                    as a set rather than individually. Sequences with the filter\n",
      "                    flag set in the header will be excluded from the analysis.\n",
      "                    Files must have the same names given to them by casava\n",
      "                    (including being gzipped and ending with .gz) otherwise they\n",
      "                    won't be grouped together correctly.\n",
      "                    \n",
      "    --nano          Files come from nanopore sequences and are in fast5 format. In\n",
      "                    this mode you can pass in directories to process and the program\n",
      "                    will take in all fast5 files within those directories and produce\n",
      "                    a single output file from the sequences found in all files.                    \n",
      "                    \n",
      "    --nofilter      If running with --casava then don't remove read flagged by\n",
      "                    casava as poor quality when performing the QC analysis.\n",
      "                   \n",
      "    --extract       If set then the zipped output file will be uncompressed in\n",
      "                    the same directory after it has been created.  By default\n",
      "                    this option will be set if fastqc is run in non-interactive\n",
      "                    mode.\n",
      "                    \n",
      "    -j --java       Provides the full path to the java binary you want to use to\n",
      "                    launch fastqc. If not supplied then java is assumed to be in\n",
      "                    your path.\n",
      "                   \n",
      "    --noextract     Do not uncompress the output file after creating it.  You\n",
      "                    should set this option if you do not wish to uncompress\n",
      "                    the output when running in non-interactive mode.\n",
      "                    \n",
      "    --nogroup       Disable grouping of bases for reads >50bp. All reports will\n",
      "                    show data for every base in the read.  WARNING: Using this\n",
      "                    option will cause fastqc to crash and burn if you use it on\n",
      "                    really long reads, and your plots may end up a ridiculous size.\n",
      "                    You have been warned!\n",
      "                    \n",
      "    --min_length    Sets an artificial lower limit on the length of the sequence\n",
      "                    to be shown in the report.  As long as you set this to a value\n",
      "                    greater or equal to your longest read length then this will be\n",
      "                    the sequence length used to create your read groups.  This can\n",
      "                    be useful for making directly comaparable statistics from \n",
      "                    datasets with somewhat variable read lengths.\n",
      "                    \n",
      "    -f --format     Bypasses the normal sequence file format detection and\n",
      "                    forces the program to use the specified format.  Valid\n",
      "                    formats are bam,sam,bam_mapped,sam_mapped and fastq\n",
      "                    \n",
      "    -t --threads    Specifies the number of files which can be processed\n",
      "                    simultaneously.  Each thread will be allocated 250MB of\n",
      "                    memory so you shouldn't run more threads than your\n",
      "                    available memory will cope with, and not more than\n",
      "                    6 threads on a 32 bit machine\n",
      "                  \n",
      "    -c              Specifies a non-default file which contains the list of\n",
      "    --contaminants  contaminants to screen overrepresented sequences against.\n",
      "                    The file must contain sets of named contaminants in the\n",
      "                    form name[tab]sequence.  Lines prefixed with a hash will\n",
      "                    be ignored.\n",
      "\n",
      "    -a              Specifies a non-default file which contains the list of\n",
      "    --adapters      adapter sequences which will be explicity searched against\n",
      "                    the library. The file must contain sets of named adapters\n",
      "                    in the form name[tab]sequence.  Lines prefixed with a hash\n",
      "                    will be ignored.\n",
      "                    \n",
      "    -l              Specifies a non-default file which contains a set of criteria\n",
      "    --limits        which will be used to determine the warn/error limits for the\n",
      "                    various modules.  This file can also be used to selectively \n",
      "                    remove some modules from the output all together.  The format\n",
      "                    needs to mirror the default limits.txt file found in the\n",
      "                    Configuration folder.\n",
      "                    \n",
      "   -k --kmers       Specifies the length of Kmer to look for in the Kmer content\n",
      "                    module. Specified Kmer length must be between 2 and 10. Default\n",
      "                    length is 7 if not specified.\n",
      "                    \n",
      "   -q --quiet       Supress all progress messages on stdout and only report errors.\n",
      "   \n",
      "   -d --dir         Selects a directory to be used for temporary files written when\n",
      "                    generating report images. Defaults to system temp directory if\n",
      "                    not specified.\n",
      "                    \n",
      "BUGS\n",
      "\n",
      "    Any bugs in fastqc should be reported either to simon.andrews@babraham.ac.uk\n",
      "    or in www.bioinformatics.babraham.ac.uk/bugzilla/\n",
      "                   \n",
      "    \n"
     ]
    }
   ],
   "source": [
    "#For more help on fastqc used in command line, you can always type:\n",
    "fastqc --help"
   ]
  },
  {
   "cell_type": "markdown",
   "metadata": {},
   "source": [
    "  "
   ]
  },
  {
   "cell_type": "markdown",
   "metadata": {},
   "source": [
    "---\n",
    "\n",
    "## **III - Mapping reads on *CParapsilosis* genome using BOWTIE algorithm (version 1.3.0)**\n"
   ]
  },
  {
   "cell_type": "markdown",
   "metadata": {},
   "source": [
    "Checking wich version of **BOWTIE** (http://bowtie-bio.sourceforge.net/manual.shtml) is used."
   ]
  },
  {
   "cell_type": "code",
   "execution_count": 32,
   "metadata": {},
   "outputs": [
    {
     "name": "stdout",
     "output_type": "stream",
     "text": [
      "/srv/conda/envs/notebook/bin/bowtie-align-s version 1.3.1\n",
      "64-bit\n",
      "Built on fv-az75-556\n",
      "2022-09-15T09:30:25\n",
      "Compiler: gcc version 10.4.0 (conda-forge gcc 10.4.0-16) \n",
      "Options: -O3 -Wl,--hash-style=both -DPOPCNT_CAPABILITY -march=nocona -mtune=haswell -ftree-vectorize -fPIC -fstack-protector-strong -fno-plt -O2 -ffunction-sections -pipe -isystem /srv/conda/envs/notebook/include -fdebug-prefix-map=/opt/conda/conda-bld/bowtie_1663233587858/work=/usr/local/src/conda/bowtie-1.3.1 -fdebug-prefix-map=/srv/conda/envs/notebook=/usr/local/src/conda-prefix  -fvisibility-inlines-hidden -std=c++17 -fmessage-length=0 -march=nocona -mtune=haswell -ftree-vectorize -fPIC -fstack-protector-strong -fno-plt -O2 -ffunction-sections -pipe -isystem /srv/conda/envs/notebook/include -fdebug-prefix-map=/opt/conda/conda-bld/bowtie_1663233587858/work=/usr/local/src/conda/bowtie-1.3.1 -fdebug-prefix-map=/srv/conda/envs/notebook=/usr/local/src/conda-prefix \u0000\u0000\u0000\u0000\u0000\u0000\u0000\u0000\u0000\u0000\u0000\u0000\u0000\u0000\u0000\u0000\u0000\u0000\u0000\u0000\u0000\u0000\u0000\u0000\u0000\u0000\u0000\u0000\u0000\u0000\u0000\u0000\u0000\u0000\u0000\u0000\u0000\u0000\u0000\u0000\u0000\u0000\u0000\u0000\u0000\u0000\u0000\u0000\u0000\u0000\u0000\u0000\u0000\u0000\u0000\u0000\u0000\u0000\u0000\u0000\u0000\u0000\u0000\u0000\u0000\u0000\u0000\u0000\u0000\u0000\u0000\u0000\u0000\u0000\u0000\u0000\u0000\u0000\u0000\u0000\u0000\u0000\u0000\u0000\u0000\u0000\u0000\u0000\u0000\u0000\u0000\u0000\u0000\u0000\u0000\u0000\u0000\u0000\u0000\u0000\u0000\u0000\u0000\u0000\u0000\u0000\u0000\u0000\u0000\u0000\u0000\u0000\u0000\u0000\u0000\u0000\u0000\u0000\u0000\u0000\u0000\u0000\u0000\u0000\u0000\u0000\u0000\u0000\u0000\u0000\u0000\u0000\u0000\u0000\u0000\u0000\u0000\u0000\u0000\u0000\u0000\u0000\u0000\u0000\u0000\u0000\u0000\u0000\u0000\u0000\u0000\u0000\u0000\u0000\u0000\u0000\u0000\u0000\u0000\u0000\u0000\u0000\u0000\u0000\u0000\u0000\u0000\u0000\u0000\u0000\u0000\u0000\u0000\u0000\u0000\u0000\u0000\u0000\u0000\u0000\u0000\u0000\u0000\u0000\u0000\u0000\u0000\u0000\u0000\u0000\u0000\u0000\u0000\u0000\u0000\u0000\u0000\u0000\u0000\u0000\u0000\u0000\u0000\u0000\u0000\u0000\u0000\u0000\u0000\u0000\u0000\u0000\u0000\u0000\u0000\u0000\u0000\u0000\u0000\u0000\u0000\u0000\u0000\u0000\u0000\u0000\u0000\u0000\u0000\u0000\u0000\u0000\u0000\u0000\u0000\u0000\u0000\u0000\u0000\u0000\u0000\u0000\u0000\u0000\u0000\u0000\u0000\u0000\u0000\u0000\u0000\u0000\u0000\u0000\u0000\u0000\u0000\u0000\u0000\u0000\u0000\u0000\u0000\u0000\u0000\u0000\u0000\u0000\u0000\u0000\u0000\u0000\u0000\u0000\u0000\u0000\u0000\u0000\u0000\u0000\u0000\u0000\u0000\u0000\u0000\u0000\u0000\u0000\u0000\u0000\u0000\u0000\u0000\u0000\u0000\u0000\u0000\u0000\u0000\u0000\u0000\u0000\u0000\u0000\u0000\u0000\u0000\u0000\u0000\u0000\u0000\u0000\u0000\u0000\u0000\u0000\u0000\u0000\u0000\u0000\u0000\u0000\u0000\u0000\u0000\u0000\u0000\u0000\u0000\u0000\u0000\u0000\u0000\u0000\u0000\u0000\u0000\u0000\u0000\u0000\u0000\u0000\u0000\u0000\u0000\u0000\u0000\u0000\u0000\u0000\u0000\u0000\u0000\u0000\u0000\u0000\u0000\u0000\u0000\u0000\u0000\u0000\u0000\u0000\u0000\u0000\u0000\u0000\u0000\u0000\u0000\u0000\u0000\u0000\u0000\u0000\u0000\u0000\u0000\u0000\u0000\u0000\u0000\u0000\u0000\u0000\u0000\u0000\u0000\u0000\u0000\u0000\u0000\u0000\u0000\u0000\u0000\u0000\u0000\u0000\u0000\u0000\u0000\u0000\u0000\u0000\u0000\u0000\u0000\u0000\u0000\u0000\u0000\u0000\u0000\u0000\u0000\u0000\u0000\u0000\u0000\u0000\u0000\u0000\u0000\u0000\u0000\u0000\u0000\u0000\u0000\u0000\u0000\u0000\u0000\u0000\u0000\u0000\u0000\u0000\u0000\u0000\u0000\u0000\u0000\u0000\u0000\u0000\u0000\u0000\u0000\u0000\u0000\u0000\u0000\u0000\u0000\u0000\u0000\u0000\u0000\u0000\u0000\u0000\u0000\u0000\u0000\u0000\u0000\u0000\u0000\u0000\u0000\u0000\u0000\u0000\u0000\u0000\u0000\u0000\u0000\u0000\u0000\u0000\u0000\u0000\u0000\u0000\u0000\u0000\u0000\u0000\u0000\u0000\u0000\u0000\u0000\u0000\u0000\u0000\u0000\u0000\u0000\u0000\u0000\u0000\u0000\u0000\u0000\u0000\u0000\u0000\u0000\u0000\u0000\u0000\u0000\u0000\u0000\u0000\u0000\u0000\u0000\u0000\u0000\u0000\u0000\u0000\u0000\u0000\u0000\u0000\u0000\u0000\u0000\u0000\u0000\u0000\u0000\u0000\u0000\u0000\u0000\u0000\u0000\u0000\u0000\u0000\u0000\u0000\u0000\u0000\u0000\u0000\u0000\u0000\u0000\u0000\u0000\u0000\u0000\u0000\u0000\u0000\u0000\u0000\u0000\u0000\u0000\u0000\u0000\u0000\u0000\u0000\u0000\u0000\u0000\u0000\u0000\u0000\u0000\u0000\u0000\u0000\u0000\u0000\u0000\u0000\u0000\u0000\u0000\u0000\u0000\u0000\u0000\u0000\u0000\u0000\u0000\u0000\u0000\u0000\u0000\u0000\u0000\u0000\u0000\u0000\u0000\u0000\u0000\u0000\u0000\u0000\u0000\u0000\u0000\u0000\u0000\u0000\u0000\u0000\u0000\u0000\u0000\u0000\u0000\u0000\u0000\u0000\u0000\u0000\u0000\u0000\u0000\u0000\u0000\u0000\u0000\u0000\u0000\u0000\u0000\u0000\u0000\u0000\u0000\u0000\u0000\u0000\u0000\u0000\u0000\u0000\u0000\u0000\u0000\u0000\u0000\u0000\u0000\u0000\u0000\u0000\u0000\u0000\u0000\u0000\u0000\u0000\u0000\u0000\u0000\u0000\u0000\u0000\u0000\u0000\u0000\u0000\u0000\u0000\u0000\u0000\u0000\u0000\u0000\u0000\u0000\u0000\u0000\u0000\u0000\u0000\u0000\u0000\u0000\u0000\u0000\u0000\u0000\u0000\u0000\u0000\u0000\u0000\u0000\u0000\u0000\u0000\u0000\u0000\u0000\u0000\u0000\u0000\u0000\u0000\u0000\u0000\u0000\u0000\u0000\u0000\u0000\u0000\u0000\u0000\u0000\u0000\u0000\u0000\u0000\u0000\u0000\u0000\u0000\u0000\u0000\u0000\u0000\u0000\u0000\u0000\u0000\u0000\u0000\u0000\u0000\u0000\u0000\u0000\u0000\u0000\u0000\u0000\u0000\u0000\u0000\u0000\u0000\u0000\u0000\u0000\u0000\u0000\u0000\u0000\u0000\u0000\u0000\u0000\u0000\u0000\u0000\u0000\u0000\u0000\u0000\u0000\u0000\u0000\u0000\u0000\u0000\u0000\u0000\u0000\u0000\u0000\u0000\u0000\u0000\u0000\u0000\u0000\u0000\u0000\u0000\u0000\u0000\u0000\u0000\u0000\u0000\u0000\u0000\u0000\u0000\u0000\u0000\u0000\u0000\u0000\u0000\u0000\u0000\u0000\u0000\u0000\u0000\u0000\u0000\u0000\u0000\u0000\u0000\u0000\u0000\u0000\u0000\u0000\u0000\u0000\u0000\u0000\u0000\u0000\u0000\u0000\u0000\u0000\u0000\u0000\u0000\u0000\u0000\u0000\u0000\u0000\u0000\u0000\u0000\u0000\u0000\u0000\u0000\u0000\u0000\u0000\u0000\u0000\u0000\u0000\u0000\u0000\u0000\u0000\u0000\u0000\u0000\u0000\u0000\u0000\u0000\u0000\u0000\u0000\u0000\u0000\u0000\u0000\u0000\u0000\u0000\u0000\u0000\u0000\u0000\u0000\u0000\u0000\u0000\u0000\u0000\u0000\u0000\u0000\u0000\u0000\u0000\u0000\u0000\u0000\u0000\u0000\u0000\u0000\u0000\u0000\u0000\u0000\u0000\u0000\u0000\u0000\u0000\u0000\u0000\u0000\u0000\u0000\u0000\u0000\n",
      "Sizeof {int, long, long long, void*, size_t, off_t}: {4, 8, 8, 8, 8, 8}\n"
     ]
    }
   ],
   "source": [
    "bowtie --version"
   ]
  },
  {
   "cell_type": "markdown",
   "metadata": {},
   "source": [
    "\n",
    "### **1- Generating the indexes of the *C.parapsilosis* genome**\n",
    "The indexes are small files that tell a program where to look for data in a large data file. They are required for mapping algorithms, as they allow for faster processing of millions reads. With BOWTIE they are generated with the `bowtie-build` fonction."
   ]
  },
  {
   "cell_type": "code",
   "execution_count": 33,
   "metadata": {},
   "outputs": [],
   "source": [
    "bowtie-build -q /srv/data/meg-m2-rnaseq/genome/C_parapsilosis_CGD.fasta C_parapsilosis "
   ]
  },
  {
   "cell_type": "markdown",
   "metadata": {},
   "source": [
    "The 6 created index files have the `.ebwt` suffix :"
   ]
  },
  {
   "cell_type": "code",
   "execution_count": 34,
   "metadata": {},
   "outputs": [
    {
     "name": "stdout",
     "output_type": "stream",
     "text": [
      "-rw-rw-r-- 1 scaburet scaburet 7.6M Nov 22 16:18 C_parapsilosis.1.ebwt\n",
      "-rw-rw-r-- 1 scaburet scaburet 1.6M Nov 22 16:18 C_parapsilosis.2.ebwt\n",
      "-rw-rw-r-- 1 scaburet scaburet   89 Nov 22 16:18 C_parapsilosis.3.ebwt\n",
      "-rw-rw-r-- 1 scaburet scaburet 3.2M Nov 22 16:18 C_parapsilosis.4.ebwt\n",
      "-rw-rw-r-- 1 scaburet scaburet 7.6M Nov 22 16:18 C_parapsilosis.rev.1.ebwt\n",
      "-rw-rw-r-- 1 scaburet scaburet 1.6M Nov 22 16:18 C_parapsilosis.rev.2.ebwt\n"
     ]
    }
   ],
   "source": [
    "ls -lh *.ebwt"
   ]
  },
  {
   "cell_type": "markdown",
   "metadata": {},
   "source": [
    "### **2- Mapping the reads**\n",
    "We use BOWTIE, a mapper that is very simple and efficient. It's not recent at all, and cannot deal with intron-containing genome, but here it works fine.\n",
    "\n",
    "To start with, we will run BOWTIE on the two `.fastq` files. On section V of this notebook, we will run it on the other `fastq.gz` samples."
   ]
  },
  {
   "cell_type": "code",
   "execution_count": 35,
   "metadata": {},
   "outputs": [
    {
     "name": "stdout",
     "output_type": "stream",
     "text": [
      "# reads processed: 10213665\n",
      "# reads with at least one alignment: 9160959 (89.69%)\n",
      "# reads that failed to align: 1052706 (10.31%)\n",
      "Reported 9160959 alignments\n"
     ]
    }
   ],
   "source": [
    "# the -S option tells bowtie to generate a .sam file  \n",
    "# the -x option indicates the prefix name of the various index files \n",
    "# then you specify the name of the fastq file\n",
    "# the last argument is the name of the output file, here located directly into the Results folder ./Results/\n",
    "\n",
    "bowtie -S -x C_parapsilosis /srv/data/meg-m2-rnaseq/experimental_data/Normoxia_1.fastq ./Results/Normoxia_1_bowtie_mapping.sam"
   ]
  },
  {
   "cell_type": "code",
   "execution_count": 36,
   "metadata": {},
   "outputs": [
    {
     "name": "stdout",
     "output_type": "stream",
     "text": [
      "@HD\tVN:1.0\tSO:unsorted\n",
      "@SQ\tSN:Contig005504_C_parapsilosis_CDC317\tLN:898305\n",
      "@SQ\tSN:Contig005569_C_parapsilosis_CDC317\tLN:2235583\n",
      "@SQ\tSN:Contig005806_C_parapsilosis_CDC317\tLN:1039767\n",
      "@SQ\tSN:Contig005807_C_parapsilosis_CDC317\tLN:2091826\n",
      "@SQ\tSN:Contig005809_C_parapsilosis_CDC317\tLN:3023470\n",
      "@SQ\tSN:Contig006110_C_parapsilosis_CDC317\tLN:957321\n",
      "@SQ\tSN:Contig006139_C_parapsilosis_CDC317\tLN:962442\n",
      "@SQ\tSN:Contig006372_C_parapsilosis_CDC317\tLN:1789679\n",
      "@SQ\tSN:mito_C_parapsilosis_CDC317\tLN:31781\n",
      "@PG\tID:Bowtie\tVN:1.3.1\tCL:\"/srv/conda/envs/notebook/bin/bowtie-align-s --wrapper basic-0 -S -x C_parapsilosis /srv/data/meg-m2-rnaseq/experimental_data/Normoxia_1.fastq ./Results/Normoxia_1_bowtie_mapping.sam\"\n",
      "O2rep2_SRR352263.1\t4\t*\t0\t0\t*\t*\t0\t0\tACTTAATACACACCCAATTCCCTCTTCATCTGATCTAAAT\t+55-891>3<7A=./<<232?AAB7C?6AB=-7'-<,A:#\tXM:i:0\n",
      "O2rep2_SRR352263.2\t16\tContig005809_C_parapsilosis_CDC317\t2486313\t255\t40M\t*\t0\t0\tAACAGAATGTTTGATGATGGGAAGAAACGTTGAACAAATT\t################?4A0@;8>68&'93;AA;0>=7-:\tXA:i:0\tMD:Z:2G1A0C0C0G0T31\tNM:i:6\tXM:i:1\n",
      "O2rep2_SRR352263.3\t4\t*\t0\t0\t*\t*\t0\t0\tATTTATATTTTTTTTATTTCTTTTACCTTCCCTTCTTATT\tBCCC4*3;@@16C;;;??4A9ACC75)<59;5?#######\tXM:i:0\n",
      "O2rep2_SRR352263.4\t4\t*\t0\t0\t*\t*\t0\t0\tATCTTCTTCTTCCTCTTCATACTCCTTCATATTCTTTTCA\t6->CCAAAA=::09C=A==BAA<9:CC6(?''CB859=##\tXM:i:0\n",
      "O2rep2_SRR352263.5\t4\t*\t0\t0\t*\t*\t0\t0\tCATATTCTTTATTAAATCTCTTTTACCTTTATCATCAATA\tA:A2ABCBB?;@4094A3AA>'34A7B@;0,>?15@.67<\tXM:i:0\n",
      "O2rep2_SRR352263.6\t4\t*\t0\t0\t*\t*\t0\t0\tATCAATTTTCCATCTTTACTTTCCCCTCTTCACCACTATC\t:6/-2@@:;A?:=<@A<)1@94+-;;4'>=%'89<C@###\tXM:i:0\n",
      "O2rep2_SRR352263.7\t16\tContig006110_C_parapsilosis_CDC317\t518207\t255\t40M\t*\t0\t0\tAGTGTGAGGAATAGAAAGAAAGTGGTTGTTTAAAGATCAG\t6=3>76A@?BB:?9:AB;BBB;A@A?><;<5'=BCB93@B\tXA:i:1\tMD:Z:31C8\tNM:i:1\tXM:i:1\n",
      "O2rep2_SRR352263.8\t4\t*\t0\t0\t*\t*\t0\t0\tATTTAAACATTTTTCCAACCTCTCTTTCTATACATTATTT\tBCCB=<>?A7>1C*=B:<BCC?9)=5><A<?/(9+9+C+B\tXM:i:0\n",
      "O2rep2_SRR352263.9\t16\tContig005569_C_parapsilosis_CDC317\t993339\t255\t40M\t*\t0\t0\tTCAACATTCTTTGGATTATATGATTTAAAAGCAGGGTCGT\t###91AB>*@->7CB@BA>4;26'>AACBBC5BB<<;/==\tXA:i:1\tMD:Z:22C17\tNM:i:1\tXM:i:1\n"
     ]
    }
   ],
   "source": [
    "head -n 20 ./Results/Normoxia_1_bowtie_mapping.sam\n",
    "\n",
    "# head --help\n"
   ]
  },
  {
   "cell_type": "code",
   "execution_count": 37,
   "metadata": {},
   "outputs": [
    {
     "name": "stdout",
     "output_type": "stream",
     "text": [
      "# reads processed: 10136009\n",
      "# reads with at least one alignment: 9252407 (91.28%)\n",
      "# reads that failed to align: 883602 (8.72%)\n",
      "Reported 9252407 alignments\n"
     ]
    }
   ],
   "source": [
    "bowtie -S -x C_parapsilosis /srv/data/meg-m2-rnaseq/experimental_data/Hypoxia_1.fastq ./Results/Hypoxia_1_bowtie_mapping.sam"
   ]
  },
  {
   "cell_type": "markdown",
   "metadata": {},
   "source": [
    "<div class=\"alert alert-block alert-success\"><b>=> Question: What can you say on the data?</b><br>\n",
    "\n",
    "<em>(you can click here to add your answers directly in this markdown cell)</em><br>\n",
    "\n",
    "For each dataset, how many reads were:\n",
    "- processed?  \n",
    "- mapped?  \n",
    "- written in the output file?\n",
    "</div>"
   ]
  },
  {
   "cell_type": "markdown",
   "metadata": {},
   "source": [
    "---\n",
    "\n",
    "## **IV - Managing the output files**\n",
    "\n",
    "### **1- Converting, sorting and indexing the output files**\n",
    "The downstream analysis is not performed on `.sam` files, but on binary versions of these : `bam` files.  \n",
    "So we are going to:  \n",
    "- convert the `sam` into `bam` files, \n",
    "- then sort them in genomic order,  \n",
    "- finally index them, to produce the companion `bai` files"
   ]
  },
  {
   "cell_type": "markdown",
   "metadata": {},
   "source": [
    "The commands used for this part belong to a large package of utilities that are very useful to manage those types of files: **SAMTOOLS** (http://www.htslib.org/).  \n",
    "\n",
    "  Let's check first which version of SAMTOOLS we are using."
   ]
  },
  {
   "cell_type": "code",
   "execution_count": 38,
   "metadata": {},
   "outputs": [
    {
     "name": "stdout",
     "output_type": "stream",
     "text": [
      "samtools: /srv/conda/envs/notebook/bin/../lib/libtinfow.so.6: no version information available (required by samtools)\n",
      "samtools: /srv/conda/envs/notebook/bin/../lib/libncursesw.so.6: no version information available (required by samtools)\n",
      "samtools: /srv/conda/envs/notebook/bin/../lib/libncursesw.so.6: no version information available (required by samtools)\n",
      "samtools 1.16.1\n",
      "Using htslib 1.16\n",
      "Copyright (C) 2022 Genome Research Ltd.\n",
      "\n",
      "Samtools compilation details:\n",
      "    Features:       build=configure curses=yes \n",
      "    CC:             /opt/conda/conda-bld/samtools_1665435019136/_build_env/bin/x86_64-conda-linux-gnu-cc\n",
      "    CPPFLAGS:       -DNDEBUG -D_FORTIFY_SOURCE=2 -O2 -isystem /srv/conda/envs/notebook/include\n",
      "    CFLAGS:         -Wall -march=nocona -mtune=haswell -ftree-vectorize -fPIC -fstack-protector-strong -fno-plt -O2 -ffunction-sections -pipe -isystem /srv/conda/envs/notebook/include -fdebug-prefix-map=/opt/conda/conda-bld/samtools_1665435019136/work=/usr/local/src/conda/samtools-1.16.1 -fdebug-prefix-map=/srv/conda/envs/notebook=/usr/local/src/conda-prefix\n",
      "    LDFLAGS:        -Wl,-O2 -Wl,--sort-common -Wl,--as-needed -Wl,-z,relro -Wl,-z,now -Wl,--disable-new-dtags -Wl,--gc-sections -Wl,--allow-shlib-undefined -Wl,-rpath,/srv/conda/envs/notebook/lib -Wl,-rpath-link,/srv/conda/envs/notebook/lib -L/srv/conda/envs/notebook/lib\n",
      "    HTSDIR:         \n",
      "    LIBS:           \n",
      "    CURSES_LIB:     -ltinfow -lncursesw\n",
      "\n",
      "HTSlib compilation details:\n",
      "    Features:       build=configure libcurl=yes S3=yes GCS=yes libdeflate=yes lzma=yes bzip2=yes plugins=yes plugin-path=/srv/conda/envs/notebook/libexec/htslib htscodecs=1.3.0\n",
      "    CC:             /opt/conda/conda-bld/htslib_1663255585694/_build_env/bin/x86_64-conda-linux-gnu-cc\n",
      "    CPPFLAGS:       -DNDEBUG -D_FORTIFY_SOURCE=2 -O2 -isystem /srv/conda/envs/notebook/include\n",
      "    CFLAGS:         -Wall -march=nocona -mtune=haswell -ftree-vectorize -fPIC -fstack-protector-strong -fno-plt -O2 -ffunction-sections -pipe -isystem /srv/conda/envs/notebook/include -fdebug-prefix-map=/opt/conda/conda-bld/htslib_1663255585694/work=/usr/local/src/conda/htslib-1.16 -fdebug-prefix-map=/srv/conda/envs/notebook=/usr/local/src/conda-prefix -fvisibility=hidden\n",
      "    LDFLAGS:        -Wl,-O2 -Wl,--sort-common -Wl,--as-needed -Wl,-z,relro -Wl,-z,now -Wl,--disable-new-dtags -Wl,--gc-sections -Wl,--allow-shlib-undefined -Wl,-rpath,/srv/conda/envs/notebook/lib -Wl,-rpath-link,/srv/conda/envs/notebook/lib -L/srv/conda/envs/notebook/lib -fvisibility=hidden -rdynamic\n",
      "\n",
      "HTSlib URL scheme handlers present:\n",
      "    built-in:\t preload, data, file\n",
      "    libcurl:\t imaps, pop3, gophers, http, smb, gopher, sftp, ftps, imap, smtp, smtps, rtsp, scp, ftp, telnet, mqtt, https, smbs, tftp, pop3s, dict\n",
      "    S3 Multipart Upload:\t s3w, s3w+https, s3w+http\n",
      "    Amazon S3:\t s3+https, s3+http, s3\n",
      "    Google Cloud Storage:\t gs+http, gs+https, gs\n",
      "    crypt4gh-needed:\t crypt4gh\n",
      "    mem:\t mem\n"
     ]
    }
   ],
   "source": [
    "samtools --version"
   ]
  },
  {
   "cell_type": "markdown",
   "metadata": {},
   "source": [
    "<br>- We will start first with the ***Normoxia dataset:***"
   ]
  },
  {
   "cell_type": "markdown",
   "metadata": {},
   "source": [
    "#### **1.a-** Converting .sam into .bam with **samtools view**"
   ]
  },
  {
   "cell_type": "code",
   "execution_count": 39,
   "metadata": {},
   "outputs": [
    {
     "name": "stdout",
     "output_type": "stream",
     "text": [
      "samtools: /srv/conda/envs/notebook/bin/../lib/libtinfow.so.6: no version information available (required by samtools)\n",
      "samtools: /srv/conda/envs/notebook/bin/../lib/libncursesw.so.6: no version information available (required by samtools)\n",
      "samtools: /srv/conda/envs/notebook/bin/../lib/libncursesw.so.6: no version information available (required by samtools)\n"
     ]
    }
   ],
   "source": [
    "# The 'view' function allows to display bam/sam files, \n",
    "# -b is to specify that outputs are .bam files\n",
    "# it is followed by the name of the .sam\n",
    "# -o is to provide the name of the ouput .bam file.\n",
    "\n",
    "samtools view -b ./Results/Normoxia_1_bowtie_mapping.sam -o ./Results/Normoxia_1_bowtie_mapping.bam"
   ]
  },
  {
   "cell_type": "markdown",
   "metadata": {},
   "source": [
    "#### **1.b-** Sorting .bam with **samtools sort**\n",
    "\n",
    "Again, `-o` is used to provide the name of the ouput file."
   ]
  },
  {
   "cell_type": "code",
   "execution_count": 40,
   "metadata": {},
   "outputs": [
    {
     "name": "stdout",
     "output_type": "stream",
     "text": [
      "samtools: /srv/conda/envs/notebook/bin/../lib/libtinfow.so.6: no version information available (required by samtools)\n",
      "samtools: /srv/conda/envs/notebook/bin/../lib/libncursesw.so.6: no version information available (required by samtools)\n",
      "samtools: /srv/conda/envs/notebook/bin/../lib/libncursesw.so.6: no version information available (required by samtools)\n",
      "[bam_sort_core] merging from 2 files and 1 in-memory blocks...\n"
     ]
    }
   ],
   "source": [
    "samtools sort ./Results/Normoxia_1_bowtie_mapping.bam -o ./Results/Normoxia_1_bowtie_mapping.sorted.bam"
   ]
  },
  {
   "cell_type": "markdown",
   "metadata": {},
   "source": [
    "#### **1.c-** Generating an index with **samtools index**.  \n",
    "There is no need to provide a name of the ouput file, as it should always be the same as the corresponding *bam* file, except for the `.bai` suffix."
   ]
  },
  {
   "cell_type": "code",
   "execution_count": 41,
   "metadata": {},
   "outputs": [
    {
     "name": "stdout",
     "output_type": "stream",
     "text": [
      "samtools: /srv/conda/envs/notebook/bin/../lib/libtinfow.so.6: no version information available (required by samtools)\n",
      "samtools: /srv/conda/envs/notebook/bin/../lib/libncursesw.so.6: no version information available (required by samtools)\n",
      "samtools: /srv/conda/envs/notebook/bin/../lib/libncursesw.so.6: no version information available (required by samtools)\n"
     ]
    }
   ],
   "source": [
    "samtools index ./Results/Normoxia_1_bowtie_mapping.sorted.bam"
   ]
  },
  {
   "cell_type": "markdown",
   "metadata": {},
   "source": [
    "<br>***- For the Hypoxia data set***, we can proceed to the 3 steps in the same cell: the commands will be executed one after another:"
   ]
  },
  {
   "cell_type": "code",
   "execution_count": 42,
   "metadata": {},
   "outputs": [
    {
     "name": "stdout",
     "output_type": "stream",
     "text": [
      "samtools: /srv/conda/envs/notebook/bin/../lib/libtinfow.so.6: no version information available (required by samtools)\n",
      "samtools: /srv/conda/envs/notebook/bin/../lib/libncursesw.so.6: no version information available (required by samtools)\n",
      "samtools: /srv/conda/envs/notebook/bin/../lib/libncursesw.so.6: no version information available (required by samtools)\n",
      "samtools: /srv/conda/envs/notebook/bin/../lib/libtinfow.so.6: no version information available (required by samtools)\n",
      "samtools: /srv/conda/envs/notebook/bin/../lib/libncursesw.so.6: no version information available (required by samtools)\n",
      "samtools: /srv/conda/envs/notebook/bin/../lib/libncursesw.so.6: no version information available (required by samtools)\n",
      "[bam_sort_core] merging from 2 files and 1 in-memory blocks...\n",
      "samtools: /srv/conda/envs/notebook/bin/../lib/libtinfow.so.6: no version information available (required by samtools)\n",
      "samtools: /srv/conda/envs/notebook/bin/../lib/libncursesw.so.6: no version information available (required by samtools)\n",
      "samtools: /srv/conda/envs/notebook/bin/../lib/libncursesw.so.6: no version information available (required by samtools)\n"
     ]
    }
   ],
   "source": [
    "samtools view -b ./Results/Hypoxia_1_bowtie_mapping.sam -o ./Results/Hypoxia_1_bowtie_mapping.bam\n",
    "samtools sort ./Results/Hypoxia_1_bowtie_mapping.bam -o ./Results/Hypoxia_1_bowtie_mapping.sorted.bam\n",
    "samtools index ./Results/Hypoxia_1_bowtie_mapping.sorted.bam"
   ]
  },
  {
   "cell_type": "markdown",
   "metadata": {},
   "source": [
    "### **2- Removing the intermediate files**  \n",
    "The only files needed for the rest of the analysis are the `mapped.sorted.bam` files and their corresponding `.bai` index files. So we are going to save some space by deleting the intermediate files that are not needed any more. (Anyway you can easily produce them again, by running the corresponding Code cell above).  \n",
    "You can delete a file by right-clicking on it and choosing 'x Delete', or by running the *rm* command (remove) in a cell:"
   ]
  },
  {
   "cell_type": "code",
   "execution_count": 43,
   "metadata": {},
   "outputs": [],
   "source": [
    "rm ./Results/Normoxia_1_bowtie_mapping.bam\n",
    "rm ./Results/Hypoxia_1_bowtie_mapping.bam"
   ]
  },
  {
   "cell_type": "code",
   "execution_count": 44,
   "metadata": {},
   "outputs": [],
   "source": [
    "# removing all the .sam files at the same time\n",
    "\n",
    "rm ./Results/*.sam"
   ]
  },
  {
   "cell_type": "markdown",
   "metadata": {},
   "source": [
    "___\n",
    "\n",
    "## **V - Analysis of the other 8 samples**"
   ]
  },
  {
   "cell_type": "markdown",
   "metadata": {},
   "source": [
    "The complete study involves 6 Normoxia samples and 4 Hypoxia samples. For the remaining 8 samples, we will perform a batch analysis (all the steps together, for multiple files at once) :\n",
    "- quality check with fastqc\n",
    "- mapping with bowtie\n",
    "- sam-to-bam conversion with samtools\n",
    "- bam sorting and indexing with samtools\n",
    "- removal of intermediate files\n",
    "\n"
   ]
  },
  {
   "cell_type": "markdown",
   "metadata": {},
   "source": [
    "FASTQC can deal with several files without a loop."
   ]
  },
  {
   "cell_type": "code",
   "execution_count": 45,
   "metadata": {},
   "outputs": [
    {
     "name": "stdout",
     "output_type": "stream",
     "text": [
      "Started analysis of SRR352261.fastqsanger.gz\n",
      "Approx 5% complete for SRR352261.fastqsanger.gz\n",
      "Approx 10% complete for SRR352261.fastqsanger.gz\n",
      "Approx 15% complete for SRR352261.fastqsanger.gz\n",
      "Approx 20% complete for SRR352261.fastqsanger.gz\n",
      "Approx 25% complete for SRR352261.fastqsanger.gz\n",
      "Approx 30% complete for SRR352261.fastqsanger.gz\n",
      "Approx 35% complete for SRR352261.fastqsanger.gz\n",
      "Approx 40% complete for SRR352261.fastqsanger.gz\n",
      "Approx 45% complete for SRR352261.fastqsanger.gz\n",
      "Approx 50% complete for SRR352261.fastqsanger.gz\n",
      "Approx 55% complete for SRR352261.fastqsanger.gz\n",
      "Approx 60% complete for SRR352261.fastqsanger.gz\n",
      "Approx 65% complete for SRR352261.fastqsanger.gz\n",
      "Approx 70% complete for SRR352261.fastqsanger.gz\n",
      "Approx 75% complete for SRR352261.fastqsanger.gz\n",
      "Approx 80% complete for SRR352261.fastqsanger.gz\n",
      "Approx 85% complete for SRR352261.fastqsanger.gz\n",
      "Approx 90% complete for SRR352261.fastqsanger.gz\n",
      "Approx 95% complete for SRR352261.fastqsanger.gz\n",
      "Analysis complete for SRR352261.fastqsanger.gz\n",
      "Started analysis of SRR352264.fastqsanger.gz\n",
      "Approx 5% complete for SRR352264.fastqsanger.gz\n",
      "Approx 10% complete for SRR352264.fastqsanger.gz\n",
      "Approx 15% complete for SRR352264.fastqsanger.gz\n",
      "Approx 20% complete for SRR352264.fastqsanger.gz\n",
      "Approx 25% complete for SRR352264.fastqsanger.gz\n",
      "Approx 30% complete for SRR352264.fastqsanger.gz\n",
      "Approx 35% complete for SRR352264.fastqsanger.gz\n",
      "Approx 40% complete for SRR352264.fastqsanger.gz\n",
      "Approx 45% complete for SRR352264.fastqsanger.gz\n",
      "Approx 50% complete for SRR352264.fastqsanger.gz\n",
      "Approx 55% complete for SRR352264.fastqsanger.gz\n",
      "Approx 60% complete for SRR352264.fastqsanger.gz\n",
      "Approx 65% complete for SRR352264.fastqsanger.gz\n",
      "Approx 70% complete for SRR352264.fastqsanger.gz\n",
      "Approx 75% complete for SRR352264.fastqsanger.gz\n",
      "Approx 80% complete for SRR352264.fastqsanger.gz\n",
      "Approx 85% complete for SRR352264.fastqsanger.gz\n",
      "Approx 90% complete for SRR352264.fastqsanger.gz\n",
      "Approx 95% complete for SRR352264.fastqsanger.gz\n",
      "Analysis complete for SRR352264.fastqsanger.gz\n",
      "Started analysis of SRR352266.fastqsanger.gz\n",
      "Approx 5% complete for SRR352266.fastqsanger.gz\n",
      "Approx 10% complete for SRR352266.fastqsanger.gz\n",
      "Approx 15% complete for SRR352266.fastqsanger.gz\n",
      "Approx 20% complete for SRR352266.fastqsanger.gz\n",
      "Approx 25% complete for SRR352266.fastqsanger.gz\n",
      "Approx 30% complete for SRR352266.fastqsanger.gz\n",
      "Approx 35% complete for SRR352266.fastqsanger.gz\n",
      "Approx 40% complete for SRR352266.fastqsanger.gz\n",
      "Approx 45% complete for SRR352266.fastqsanger.gz\n",
      "Approx 50% complete for SRR352266.fastqsanger.gz\n",
      "Approx 55% complete for SRR352266.fastqsanger.gz\n",
      "Approx 60% complete for SRR352266.fastqsanger.gz\n",
      "Approx 65% complete for SRR352266.fastqsanger.gz\n",
      "Approx 70% complete for SRR352266.fastqsanger.gz\n",
      "Approx 75% complete for SRR352266.fastqsanger.gz\n",
      "Approx 80% complete for SRR352266.fastqsanger.gz\n",
      "Approx 85% complete for SRR352266.fastqsanger.gz\n",
      "Approx 90% complete for SRR352266.fastqsanger.gz\n",
      "Approx 95% complete for SRR352266.fastqsanger.gz\n",
      "Analysis complete for SRR352266.fastqsanger.gz\n",
      "Started analysis of SRR352267.fastqsanger.gz\n",
      "Approx 5% complete for SRR352267.fastqsanger.gz\n",
      "Approx 10% complete for SRR352267.fastqsanger.gz\n",
      "Approx 15% complete for SRR352267.fastqsanger.gz\n",
      "Approx 20% complete for SRR352267.fastqsanger.gz\n",
      "Approx 25% complete for SRR352267.fastqsanger.gz\n",
      "Approx 30% complete for SRR352267.fastqsanger.gz\n",
      "Approx 35% complete for SRR352267.fastqsanger.gz\n",
      "Approx 40% complete for SRR352267.fastqsanger.gz\n",
      "Approx 45% complete for SRR352267.fastqsanger.gz\n",
      "Approx 50% complete for SRR352267.fastqsanger.gz\n",
      "Approx 55% complete for SRR352267.fastqsanger.gz\n",
      "Approx 60% complete for SRR352267.fastqsanger.gz\n",
      "Approx 65% complete for SRR352267.fastqsanger.gz\n",
      "Approx 70% complete for SRR352267.fastqsanger.gz\n",
      "Approx 75% complete for SRR352267.fastqsanger.gz\n",
      "Approx 80% complete for SRR352267.fastqsanger.gz\n",
      "Approx 85% complete for SRR352267.fastqsanger.gz\n",
      "Approx 90% complete for SRR352267.fastqsanger.gz\n",
      "Approx 95% complete for SRR352267.fastqsanger.gz\n",
      "Analysis complete for SRR352267.fastqsanger.gz\n",
      "Started analysis of SRR352270.fastqsanger.gz\n",
      "Approx 5% complete for SRR352270.fastqsanger.gz\n",
      "Approx 10% complete for SRR352270.fastqsanger.gz\n",
      "Approx 15% complete for SRR352270.fastqsanger.gz\n",
      "Approx 20% complete for SRR352270.fastqsanger.gz\n",
      "Approx 25% complete for SRR352270.fastqsanger.gz\n",
      "Approx 30% complete for SRR352270.fastqsanger.gz\n",
      "Approx 35% complete for SRR352270.fastqsanger.gz\n",
      "Approx 40% complete for SRR352270.fastqsanger.gz\n",
      "Approx 45% complete for SRR352270.fastqsanger.gz\n",
      "Approx 50% complete for SRR352270.fastqsanger.gz\n",
      "Approx 55% complete for SRR352270.fastqsanger.gz\n",
      "Approx 60% complete for SRR352270.fastqsanger.gz\n",
      "Approx 65% complete for SRR352270.fastqsanger.gz\n",
      "Approx 70% complete for SRR352270.fastqsanger.gz\n",
      "Approx 75% complete for SRR352270.fastqsanger.gz\n",
      "Approx 80% complete for SRR352270.fastqsanger.gz\n",
      "Approx 85% complete for SRR352270.fastqsanger.gz\n",
      "Approx 90% complete for SRR352270.fastqsanger.gz\n",
      "Approx 95% complete for SRR352270.fastqsanger.gz\n",
      "Analysis complete for SRR352270.fastqsanger.gz\n",
      "Started analysis of SRR352273.fastqsanger.gz\n",
      "Approx 5% complete for SRR352273.fastqsanger.gz\n",
      "Approx 10% complete for SRR352273.fastqsanger.gz\n",
      "Approx 15% complete for SRR352273.fastqsanger.gz\n",
      "Approx 20% complete for SRR352273.fastqsanger.gz\n",
      "Approx 25% complete for SRR352273.fastqsanger.gz\n",
      "Approx 30% complete for SRR352273.fastqsanger.gz\n",
      "Approx 35% complete for SRR352273.fastqsanger.gz\n",
      "Approx 40% complete for SRR352273.fastqsanger.gz\n",
      "Approx 45% complete for SRR352273.fastqsanger.gz\n",
      "Approx 50% complete for SRR352273.fastqsanger.gz\n",
      "Approx 55% complete for SRR352273.fastqsanger.gz\n",
      "Approx 60% complete for SRR352273.fastqsanger.gz\n",
      "Approx 65% complete for SRR352273.fastqsanger.gz\n",
      "Approx 70% complete for SRR352273.fastqsanger.gz\n",
      "Approx 75% complete for SRR352273.fastqsanger.gz\n",
      "Approx 80% complete for SRR352273.fastqsanger.gz\n",
      "Approx 85% complete for SRR352273.fastqsanger.gz\n",
      "Approx 90% complete for SRR352273.fastqsanger.gz\n",
      "Approx 95% complete for SRR352273.fastqsanger.gz\n",
      "Analysis complete for SRR352273.fastqsanger.gz\n",
      "Started analysis of SRR352274.fastqsanger.gz\n",
      "Approx 5% complete for SRR352274.fastqsanger.gz\n",
      "Approx 10% complete for SRR352274.fastqsanger.gz\n",
      "Approx 15% complete for SRR352274.fastqsanger.gz\n",
      "Approx 20% complete for SRR352274.fastqsanger.gz\n",
      "Approx 25% complete for SRR352274.fastqsanger.gz\n",
      "Approx 30% complete for SRR352274.fastqsanger.gz\n",
      "Approx 35% complete for SRR352274.fastqsanger.gz\n",
      "Approx 40% complete for SRR352274.fastqsanger.gz\n",
      "Approx 45% complete for SRR352274.fastqsanger.gz\n",
      "Approx 50% complete for SRR352274.fastqsanger.gz\n",
      "Approx 55% complete for SRR352274.fastqsanger.gz\n",
      "Approx 60% complete for SRR352274.fastqsanger.gz\n",
      "Approx 65% complete for SRR352274.fastqsanger.gz\n",
      "Approx 70% complete for SRR352274.fastqsanger.gz\n",
      "Approx 75% complete for SRR352274.fastqsanger.gz\n",
      "Approx 80% complete for SRR352274.fastqsanger.gz\n",
      "Approx 85% complete for SRR352274.fastqsanger.gz\n",
      "Approx 90% complete for SRR352274.fastqsanger.gz\n",
      "Approx 95% complete for SRR352274.fastqsanger.gz\n",
      "Analysis complete for SRR352274.fastqsanger.gz\n",
      "Started analysis of SRR352276.fastqsanger.gz\n",
      "Approx 5% complete for SRR352276.fastqsanger.gz\n",
      "Approx 10% complete for SRR352276.fastqsanger.gz\n",
      "Approx 15% complete for SRR352276.fastqsanger.gz\n",
      "Approx 20% complete for SRR352276.fastqsanger.gz\n",
      "Approx 25% complete for SRR352276.fastqsanger.gz\n",
      "Approx 30% complete for SRR352276.fastqsanger.gz\n",
      "Approx 35% complete for SRR352276.fastqsanger.gz\n",
      "Approx 40% complete for SRR352276.fastqsanger.gz\n",
      "Approx 45% complete for SRR352276.fastqsanger.gz\n",
      "Approx 50% complete for SRR352276.fastqsanger.gz\n",
      "Approx 55% complete for SRR352276.fastqsanger.gz\n",
      "Approx 60% complete for SRR352276.fastqsanger.gz\n",
      "Approx 65% complete for SRR352276.fastqsanger.gz\n",
      "Approx 70% complete for SRR352276.fastqsanger.gz\n",
      "Approx 75% complete for SRR352276.fastqsanger.gz\n",
      "Approx 80% complete for SRR352276.fastqsanger.gz\n",
      "Approx 85% complete for SRR352276.fastqsanger.gz\n",
      "Approx 90% complete for SRR352276.fastqsanger.gz\n",
      "Approx 95% complete for SRR352276.fastqsanger.gz\n",
      "Analysis complete for SRR352276.fastqsanger.gz\n"
     ]
    }
   ],
   "source": [
    "fastqc /srv/data/meg-m2-rnaseq/experimental_data/*.fastqsanger.gz --outdir ./Results/Fastqc"
   ]
  },
  {
   "cell_type": "markdown",
   "metadata": {},
   "source": [
    "For the next steps, we use a `for` **loop**, that will run the program once for each element in the provided list, and produce the properly-named output files.\n",
    "\n",
    "> Here are some explanations on the loop:<br>\n",
    "> - `fn` is used as a variable to define the \"filenames\" in the folder containing the data: for each file, we iterate the loop\n",
    "> - `${}` is used to say we are using a predefined variable\n",
    "> - an `id` variable is created with the prefix name of the fastqsanger.gz files\n",
    "> - `basename` is used as a shortcut to extract the name of the file from its absolute path: only the name of the file is kept\n",
    "> - `cut` is used to split the basename file with `.` as separator defined with the `-d` argument, then `-f1` is used to keep only the first element before the first `.`\n",
    "> - `echo` is used to print a message\n",
    "> - we then define the variable `mysortedbam` with the name of the output and its relative path\n",
    "> - then we use the bowtie command but we redirect its output to samtools using the pipe `|`\n",
    "> - for samtools, the `-` is given instead of the name of the input file to specify this is the output of the command on the left of the pipe; idem for the next pipe\n",
    "> - we save here only the sorted.bam and the .sorted.bam.bai files without intermediate files"
   ]
  },
  {
   "cell_type": "markdown",
   "metadata": {},
   "source": [
    "<div class=\"alert alert-block alert-danger\"><b>Danger:<br></b>The loop will probably take ~30 minutes to 1 hour. It generates <b>temporary \"bam.tmp\" files</b> in the Results folder.<br> <b>Do not delete them during the process!</b> Once the sample is processed, the server will automatically delete these temporary files \n",
    "</div>"
   ]
  },
  {
   "cell_type": "code",
   "execution_count": 46,
   "metadata": {},
   "outputs": [
    {
     "name": "stdout",
     "output_type": "stream",
     "text": [
      "Tue Nov 22 16:43:57 UTC 2022\n",
      "========Processing sampleID: SRR352261...\n",
      "samtools: /srv/conda/envs/notebook/bin/../lib/libtinfow.so.6: no version information available (required by samtools)\n",
      "samtools: /srv/conda/envs/notebook/bin/../lib/libncursesw.so.6: no version information available (required by samtools)\n",
      "samtools: /srv/conda/envs/notebook/bin/../lib/libncursesw.so.6: no version information available (required by samtools)\n",
      "samtools: /srv/conda/envs/notebook/bin/../lib/libtinfow.so.6: no version information available (required by samtools)\n",
      "samtools: /srv/conda/envs/notebook/bin/../lib/libncursesw.so.6: no version information available (required by samtools)\n",
      "samtools: /srv/conda/envs/notebook/bin/../lib/libncursesw.so.6: no version information available (required by samtools)\n",
      "# reads processed: 12523951\n",
      "# reads with at least one alignment: 11717483 (93.56%)\n",
      "# reads that failed to align: 806468 (6.44%)\n",
      "Reported 11717483 alignments\n",
      "[bam_sort_core] merging from 2 files and 1 in-memory blocks...\n",
      "samtools: /srv/conda/envs/notebook/bin/../lib/libtinfow.so.6: no version information available (required by samtools)\n",
      "samtools: /srv/conda/envs/notebook/bin/../lib/libncursesw.so.6: no version information available (required by samtools)\n",
      "samtools: /srv/conda/envs/notebook/bin/../lib/libncursesw.so.6: no version information available (required by samtools)\n",
      "...done\n",
      "========Processing sampleID: SRR352264...\n",
      "samtools: /srv/conda/envs/notebook/bin/../lib/libtinfow.so.6: no version information available (required by samtools)\n",
      "samtools: /srv/conda/envs/notebook/bin/../lib/libncursesw.so.6: no version information available (required by samtools)\n",
      "samtools: /srv/conda/envs/notebook/bin/../lib/libncursesw.so.6: no version information available (required by samtools)\n",
      "samtools: /srv/conda/envs/notebook/bin/../lib/libtinfow.so.6: no version information available (required by samtools)\n",
      "samtools: /srv/conda/envs/notebook/bin/../lib/libncursesw.so.6: no version information available (required by samtools)\n",
      "samtools: /srv/conda/envs/notebook/bin/../lib/libncursesw.so.6: no version information available (required by samtools)\n",
      "# reads processed: 11848266\n",
      "# reads with at least one alignment: 10898860 (91.99%)\n",
      "# reads that failed to align: 949406 (8.01%)\n",
      "Reported 10898860 alignments\n",
      "[bam_sort_core] merging from 2 files and 1 in-memory blocks...\n",
      "samtools: /srv/conda/envs/notebook/bin/../lib/libtinfow.so.6: no version information available (required by samtools)\n",
      "samtools: /srv/conda/envs/notebook/bin/../lib/libncursesw.so.6: no version information available (required by samtools)\n",
      "samtools: /srv/conda/envs/notebook/bin/../lib/libncursesw.so.6: no version information available (required by samtools)\n",
      "...done\n",
      "========Processing sampleID: SRR352266...\n",
      "samtools: /srv/conda/envs/notebook/bin/../lib/libtinfow.so.6: no version information available (required by samtools)\n",
      "samtools: /srv/conda/envs/notebook/bin/../lib/libncursesw.so.6: no version information available (required by samtools)\n",
      "samtools: /srv/conda/envs/notebook/bin/../lib/libncursesw.so.6: no version information available (required by samtools)\n",
      "samtools: /srv/conda/envs/notebook/bin/../lib/libtinfow.so.6: no version information available (required by samtools)\n",
      "samtools: /srv/conda/envs/notebook/bin/../lib/libncursesw.so.6: no version information available (required by samtools)\n",
      "samtools: /srv/conda/envs/notebook/bin/../lib/libncursesw.so.6: no version information available (required by samtools)\n",
      "# reads processed: 12397827\n",
      "# reads with at least one alignment: 11543165 (93.11%)\n",
      "# reads that failed to align: 854662 (6.89%)\n",
      "Reported 11543165 alignments\n",
      "[bam_sort_core] merging from 2 files and 1 in-memory blocks...\n",
      "samtools: /srv/conda/envs/notebook/bin/../lib/libtinfow.so.6: no version information available (required by samtools)\n",
      "samtools: /srv/conda/envs/notebook/bin/../lib/libncursesw.so.6: no version information available (required by samtools)\n",
      "samtools: /srv/conda/envs/notebook/bin/../lib/libncursesw.so.6: no version information available (required by samtools)\n",
      "...done\n",
      "========Processing sampleID: SRR352267...\n",
      "samtools: /srv/conda/envs/notebook/bin/../lib/libtinfow.so.6: no version information available (required by samtools)\n",
      "samtools: /srv/conda/envs/notebook/bin/../lib/libncursesw.so.6: no version information available (required by samtools)\n",
      "samtools: /srv/conda/envs/notebook/bin/../lib/libncursesw.so.6: no version information available (required by samtools)\n",
      "samtools: /srv/conda/envs/notebook/bin/../lib/libtinfow.so.6: no version information available (required by samtools)\n",
      "samtools: /srv/conda/envs/notebook/bin/../lib/libncursesw.so.6: no version information available (required by samtools)\n",
      "samtools: /srv/conda/envs/notebook/bin/../lib/libncursesw.so.6: no version information available (required by samtools)\n",
      "# reads processed: 11634551\n",
      "# reads with at least one alignment: 11057583 (95.04%)\n",
      "# reads that failed to align: 576968 (4.96%)\n",
      "Reported 11057583 alignments\n",
      "[bam_sort_core] merging from 2 files and 1 in-memory blocks...\n",
      "samtools: /srv/conda/envs/notebook/bin/../lib/libtinfow.so.6: no version information available (required by samtools)\n",
      "samtools: /srv/conda/envs/notebook/bin/../lib/libncursesw.so.6: no version information available (required by samtools)\n",
      "samtools: /srv/conda/envs/notebook/bin/../lib/libncursesw.so.6: no version information available (required by samtools)\n",
      "...done\n",
      "========Processing sampleID: SRR352270...\n",
      "samtools: /srv/conda/envs/notebook/bin/../lib/libtinfow.so.6: no version information available (required by samtools)\n",
      "samtools: /srv/conda/envs/notebook/bin/../lib/libncursesw.so.6: no version information available (required by samtools)\n",
      "samtools: /srv/conda/envs/notebook/bin/../lib/libncursesw.so.6: no version information available (required by samtools)\n",
      "samtools: /srv/conda/envs/notebook/bin/../lib/libtinfow.so.6: no version information available (required by samtools)\n",
      "samtools: /srv/conda/envs/notebook/bin/../lib/libncursesw.so.6: no version information available (required by samtools)\n",
      "samtools: /srv/conda/envs/notebook/bin/../lib/libncursesw.so.6: no version information available (required by samtools)\n",
      "# reads processed: 6223791\n",
      "# reads with at least one alignment: 5176472 (83.17%)\n",
      "# reads that failed to align: 1047319 (16.83%)\n",
      "Reported 5176472 alignments\n",
      "[bam_sort_core] merging from 1 files and 1 in-memory blocks...\n",
      "samtools: /srv/conda/envs/notebook/bin/../lib/libtinfow.so.6: no version information available (required by samtools)\n",
      "samtools: /srv/conda/envs/notebook/bin/../lib/libncursesw.so.6: no version information available (required by samtools)\n",
      "samtools: /srv/conda/envs/notebook/bin/../lib/libncursesw.so.6: no version information available (required by samtools)\n",
      "...done\n",
      "========Processing sampleID: SRR352273...\n",
      "samtools: /srv/conda/envs/notebook/bin/../lib/libtinfow.so.6: no version information available (required by samtools)\n",
      "samtools: /srv/conda/envs/notebook/bin/../lib/libncursesw.so.6: no version information available (required by samtools)\n",
      "samtools: /srv/conda/envs/notebook/bin/../lib/libncursesw.so.6: no version information available (required by samtools)\n",
      "samtools: /srv/conda/envs/notebook/bin/../lib/libtinfow.so.6: no version information available (required by samtools)\n",
      "samtools: /srv/conda/envs/notebook/bin/../lib/libncursesw.so.6: no version information available (required by samtools)\n",
      "samtools: /srv/conda/envs/notebook/bin/../lib/libncursesw.so.6: no version information available (required by samtools)\n",
      "# reads processed: 18927555\n",
      "# reads with at least one alignment: 18350678 (96.95%)\n",
      "# reads that failed to align: 576877 (3.05%)\n",
      "Reported 18350678 alignments\n",
      "[bam_sort_core] merging from 4 files and 1 in-memory blocks...\n",
      "samtools: /srv/conda/envs/notebook/bin/../lib/libtinfow.so.6: no version information available (required by samtools)\n",
      "samtools: /srv/conda/envs/notebook/bin/../lib/libncursesw.so.6: no version information available (required by samtools)\n",
      "samtools: /srv/conda/envs/notebook/bin/../lib/libncursesw.so.6: no version information available (required by samtools)\n",
      "...done\n",
      "========Processing sampleID: SRR352274...\n",
      "samtools: /srv/conda/envs/notebook/bin/../lib/libtinfow.so.6: no version information available (required by samtools)\n",
      "samtools: /srv/conda/envs/notebook/bin/../lib/libncursesw.so.6: no version information available (required by samtools)\n",
      "samtools: /srv/conda/envs/notebook/bin/../lib/libncursesw.so.6: no version information available (required by samtools)\n",
      "samtools: /srv/conda/envs/notebook/bin/../lib/libtinfow.so.6: no version information available (required by samtools)\n",
      "samtools: /srv/conda/envs/notebook/bin/../lib/libncursesw.so.6: no version information available (required by samtools)\n",
      "samtools: /srv/conda/envs/notebook/bin/../lib/libncursesw.so.6: no version information available (required by samtools)\n",
      "# reads processed: 12557342\n",
      "# reads with at least one alignment: 11774544 (93.77%)\n",
      "# reads that failed to align: 782798 (6.23%)\n",
      "Reported 11774544 alignments\n",
      "[bam_sort_core] merging from 2 files and 1 in-memory blocks...\n",
      "samtools: /srv/conda/envs/notebook/bin/../lib/libtinfow.so.6: no version information available (required by samtools)\n",
      "samtools: /srv/conda/envs/notebook/bin/../lib/libncursesw.so.6: no version information available (required by samtools)\n",
      "samtools: /srv/conda/envs/notebook/bin/../lib/libncursesw.so.6: no version information available (required by samtools)\n",
      "...done\n",
      "========Processing sampleID: SRR352276...\n",
      "samtools: /srv/conda/envs/notebook/bin/../lib/libtinfow.so.6: no version information available (required by samtools)\n",
      "samtools: /srv/conda/envs/notebook/bin/../lib/libncursesw.so.6: no version information available (required by samtools)\n",
      "samtools: /srv/conda/envs/notebook/bin/../lib/libncursesw.so.6: no version information available (required by samtools)\n",
      "samtools: /srv/conda/envs/notebook/bin/../lib/libtinfow.so.6: no version information available (required by samtools)\n",
      "samtools: /srv/conda/envs/notebook/bin/../lib/libncursesw.so.6: no version information available (required by samtools)\n",
      "samtools: /srv/conda/envs/notebook/bin/../lib/libncursesw.so.6: no version information available (required by samtools)\n",
      "# reads processed: 16378297\n",
      "# reads with at least one alignment: 13720291 (83.77%)\n",
      "# reads that failed to align: 2658006 (16.23%)\n",
      "Reported 13720291 alignments\n",
      "[bam_sort_core] merging from 3 files and 1 in-memory blocks...\n",
      "samtools: /srv/conda/envs/notebook/bin/../lib/libtinfow.so.6: no version information available (required by samtools)\n",
      "samtools: /srv/conda/envs/notebook/bin/../lib/libncursesw.so.6: no version information available (required by samtools)\n",
      "samtools: /srv/conda/envs/notebook/bin/../lib/libncursesw.so.6: no version information available (required by samtools)\n",
      "...done\n",
      "Tue Nov 22 17:13:34 UTC 2022\n"
     ]
    }
   ],
   "source": [
    "date\n",
    "\n",
    "for fn in $(ls /srv/data/meg-m2-rnaseq/experimental_data/*.fastqsanger.gz); do\n",
    "       \n",
    "    id=$(basename ${fn} | cut -d. -f1)\n",
    "    echo \"========Processing sampleID: ${id}...\"\n",
    "    \n",
    "    myoutsortedbam=\"./Results/${id}_bowtie_mapping.sorted.bam\"\n",
    "    bowtie -S -x C_parapsilosis ${fn} | samtools view -b - | samtools sort - -o $myoutsortedbam\n",
    "    samtools index $myoutsortedbam  \n",
    "\n",
    "    echo \"...done\"\n",
    "    \n",
    "done\n",
    "date"
   ]
  },
  {
   "cell_type": "code",
   "execution_count": 47,
   "metadata": {},
   "outputs": [
    {
     "name": "stdout",
     "output_type": "stream",
     "text": [
      "samtools: /srv/conda/envs/notebook/bin/../lib/libtinfow.so.6: no version information available (required by samtools)\n",
      "samtools: /srv/conda/envs/notebook/bin/../lib/libncursesw.so.6: no version information available (required by samtools)\n",
      "samtools: /srv/conda/envs/notebook/bin/../lib/libncursesw.so.6: no version information available (required by samtools)\n",
      "samtools: /srv/conda/envs/notebook/bin/../lib/libtinfow.so.6: no version information available (required by samtools)\n",
      "samtools: /srv/conda/envs/notebook/bin/../lib/libncursesw.so.6: no version information available (required by samtools)\n",
      "samtools: /srv/conda/envs/notebook/bin/../lib/libncursesw.so.6: no version information available (required by samtools)\n",
      "# reads processed: 12397827\n",
      "# reads with at least one alignment: 11543165 (93.11%)\n",
      "# reads that failed to align: 854662 (6.89%)\n",
      "Reported 11543165 alignments\n",
      "[bam_sort_core] merging from 2 files and 1 in-memory blocks...\n"
     ]
    }
   ],
   "source": [
    "bowtie -S -x C_parapsilosis /srv/data/meg-m2-rnaseq/experimental_data/SRR352266.fastqsanger.gz | samtools view -b - | samtools sort - -o ./Results/SRR352266_bowtie_mapping.sorted.bam"
   ]
  },
  {
   "cell_type": "code",
   "execution_count": 48,
   "metadata": {},
   "outputs": [
    {
     "name": "stdout",
     "output_type": "stream",
     "text": [
      "samtools: /srv/conda/envs/notebook/bin/../lib/libtinfow.so.6: no version information available (required by samtools)\n",
      "samtools: /srv/conda/envs/notebook/bin/../lib/libncursesw.so.6: no version information available (required by samtools)\n",
      "samtools: /srv/conda/envs/notebook/bin/../lib/libncursesw.so.6: no version information available (required by samtools)\n"
     ]
    }
   ],
   "source": [
    "samtools index ./Results/SRR352266_bowtie_mapping.sorted.bam"
   ]
  },
  {
   "cell_type": "markdown",
   "metadata": {},
   "source": [
    "<div class=\"alert alert-block alert-success\"><b>Success:</b> Don't forget to save you notebook and export a copy as an <b>html</b> file as well <br>\n",
    "- Open \"File\" in the Menu<br>\n",
    "- Select \"Export Notebook As\"<br>\n",
    "- Export notebook as HTML<br>\n",
    "- You can then open it in your browser even without being connected to adenine! \n",
    "</div>"
   ]
  },
  {
   "cell_type": "markdown",
   "metadata": {},
   "source": [
    "\n",
    "___\n",
    "___\n",
    "\n",
    "Now we go on with a lecture about what is indicated in the output sorted *bam* files. \n",
    "\n",
    "**=> Lecture 5 : Mapping output** "
   ]
  }
 ],
 "metadata": {
  "kernelspec": {
   "display_name": "Bash",
   "language": "bash",
   "name": "bash"
  },
  "language_info": {
   "codemirror_mode": "shell",
   "file_extension": ".sh",
   "mimetype": "text/x-sh",
   "name": "bash"
  }
 },
 "nbformat": 4,
 "nbformat_minor": 4
}
