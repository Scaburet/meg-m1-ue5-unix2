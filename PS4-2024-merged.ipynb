{
 "cells": [
  {
   "cell_type": "markdown",
   "id": "73b00908",
   "metadata": {},
   "source": [
    "# RNA-seq Data Analysis Pipeline - PS4 2024\n",
    "## Tuesday 26/11/2024\n",
    "\n",
    "This notebook covers the analysis of RNA-seq data from mouse samples, focusing on quality assessment and processing of mapped reads.\n",
    "\n",
    "<div class=\"alert alert-info\">\n",
    "<b>Environment Requirements:</b><br>\n",
    "- 10 CPUs per student<br>\n",
    "- 6 GB RAM per student<br>\n",
    "- Tools: samtools, QUALIMAP, MultiQC\n",
    "</div>\n"
   ]
  },
  {
   "cell_type": "markdown",
   "id": "6305fd85",
   "metadata": {},
   "source": [
    "## Required Files and Data\n",
    "\n",
    "<div class=\"alert alert-warning\">\n",
    "<b>Required Input Files:</b>\n",
    "1. Paired-end RNA-seq data (fastq.gz format)\n",
    "   - Location: `/srv/data/meg-m2-rnaseq/Data/fastq/raw/`\n",
    "   - Format: `*_1.fastq.gz` and `*_2.fastq.gz` for paired-end reads\n",
    "\n",
    "2. Reference Genome Files:\n",
    "   - Mouse genome (GRCm39)\n",
    "   - GTF annotation: `/srv/data/meg-m2-rnaseq/Genomes/Mmu/GRCm39/extracted/genome_annotation-M35.gtf`\n",
    "\n",
    "3. Previously Generated Files:\n",
    "   - BAM files from STAR mapping\n",
    "   - fastp results in `/srv/data/meg-m2-rnaseq/Results/fastp/`\n",
    "</div>\n",
    "\n",
    "<div class=\"alert alert-info\">\n",
    "<b>Output Structure:</b>\n",
    "Results will be organized in tool-specific directories:\n",
    "- `Results/samtools/` - Alignment statistics\n",
    "- `Results/qualimap/` - RNA-seq QC metrics\n",
    "- `Results/multiqc/` - Combined quality reports\n",
    "</div>\n"
   ]
  },
  {
   "cell_type": "markdown",
   "id": "444c54c3",
   "metadata": {},
   "source": [
    "## Reference Genome and Annotation\n",
    "\n",
    "This section covers the downloading and indexing of reference genome files. These steps are typically performed during environment setup.\n",
    "\n",
    "<div class=\"alert alert-info\">\n",
    "<b>Reference Files:</b>\n",
    "- Genome: Mus musculus GRCm39\n",
    "- Source: Ensembl Release 109\n",
    "- Annotation: genome_annotation-M35.gtf\n",
    "</div>\n",
    "\n",
    "<div class=\"alert alert-warning\">\n",
    "<b>Note:</b> The following commands are provided for reference and documentation. They are kept in raw format as they are typically executed during environment setup.\n",
    "</div>\n"
   ]
  },
  {
   "cell_type": "raw",
   "id": "7f5fce43",
   "metadata": {},
   "source": [
    "# Create genome directory\n",
    "mkdir -p reference/mouse/GRCm39\n",
    "\n",
    "# Download mouse reference genome\n",
    "wget -P reference/mouse/GRCm39 https://ftp.ensembl.org/pub/release-109/fasta/mus_musculus/dna/Mus_musculus.GRCm39.dna.primary_assembly.fa.gz\n",
    "\n",
    "# Extract genome\n",
    "gunzip reference/mouse/GRCm39/Mus_musculus.GRCm39.dna.primary_assembly.fa.gz\n",
    "\n",
    "# Index the genome\n",
    "cd reference/mouse/GRCm39\n",
    "samtools faidx Mus_musculus.GRCm39.dna.primary_assembly.fa"
   ]
  },
  {
   "cell_type": "markdown",
   "id": "963e6175",
   "metadata": {},
   "source": [
    "## Quality Assessment of Mapped Reads\n",
    "\n",
    "We'll use multiple tools to assess the quality of our mapped reads:\n",
    "\n",
    "1. **samtools**: Basic alignment statistics\n",
    "   - Read counts\n",
    "   - Mapping quality\n",
    "   - Insert size distribution\n",
    "\n",
    "2. **QUALIMAP**: Detailed RNA-seq metrics\n",
    "   - Gene coverage\n",
    "   - Read distribution\n",
    "   - Transcript coverage\n",
    "\n",
    "3. **MultiQC**: Combined report generation\n",
    "   - Aggregates results from all tools\n",
    "   - Creates interactive visualizations\n",
    "\n",
    "<div class=\"alert alert-info\">\n",
    "<b>Documentation Links:</b>\n",
    "- [Samtools Manual](http://www.htslib.org/doc/samtools.html)\n",
    "- [QUALIMAP Documentation](http://qualimap.conesalab.org/doc_html/index.html)\n",
    "- [MultiQC Documentation](https://multiqc.info/)\n",
    "</div>\n"
   ]
  },
  {
   "cell_type": "markdown",
   "id": "8cba5f1d",
   "metadata": {},
   "source": [
    "### Setup Results Directories\n",
    "\n",
    "First, we'll create the necessary directories for organizing our results.\n"
   ]
  },
  {
   "cell_type": "code",
   "execution_count": null,
   "id": "f9d1ea11",
   "metadata": {},
   "outputs": [],
   "source": [
    "# Create results directories\n",
    "mkdir -p Results/samtools Results/qualimap Results/multiqc"
   ]
  },
  {
   "cell_type": "markdown",
   "id": "9b7cc444",
   "metadata": {},
   "source": [
    "### Process First Two Samples\n",
    "\n",
    "We'll demonstrate the analysis pipeline on the first two samples. The same process will be applied to all samples later.\n",
    "\n",
    "<div class=\"alert alert-info\">\n",
    "<b>Important Parameters:</b>\n",
    "- samtools stats: Generates comprehensive alignment statistics\n",
    "- QUALIMAP rnaseq:\n",
    "  - java-mem-size=6G: Memory allocation\n",
    "  - GTF file: Required for gene-based analysis\n",
    "</div>\n"
   ]
  },
  {
   "cell_type": "code",
   "execution_count": null,
   "id": "c27e6125",
   "metadata": {},
   "outputs": [],
   "source": [
    "# Get first two samples\n",
    "samples=$(ls /srv/data/meg-m2-rnaseq/Data/fastq/raw/*_1.fastq.gz | head -n 2)\n",
    "\n",
    "# Process each sample\n",
    "for sample in $samples; do\n",
    "    # Extract base name\n",
    "    base=$(basename $sample _1.fastq.gz)\n",
    "    echo \"Processing sample: $base\"\n",
    "\n",
    "    # Samtools stats\n",
    "    echo \"Running samtools stats...\"\n",
    "    samtools stats ${base}.bam > Results/samtools/${base}_stats.txt\n",
    "\n",
    "    # QUALIMAP analysis\n",
    "    echo \"Running QUALIMAP...\"\n",
    "    qualimap rnaseq \\\n",
    "        -bam ${base}.bam \\\n",
    "        -gtf /srv/data/meg-m2-rnaseq/Genomes/Mmu/GRCm39/extracted/genome_annotation-M35.gtf \\\n",
    "        --java-mem-size=6G \\\n",
    "        -outdir Results/qualimap/${base}\n",
    "done"
   ]
  },
  {
   "cell_type": "markdown",
   "id": "4cf9ad1a",
   "metadata": {},
   "source": [
    "### Process All Samples\n",
    "\n",
    "The following commands (in raw format) show how to process all samples in the dataset.\n"
   ]
  },
  {
   "cell_type": "raw",
   "id": "1d1bf2c0",
   "metadata": {},
   "source": [
    "# Process all samples\n",
    "for sample in /srv/data/meg-m2-rnaseq/Data/fastq/raw/*_1.fastq.gz; do\n",
    "    base=$(basename $sample _1.fastq.gz)\n",
    "    echo \"Processing sample: $base\"\n",
    "\n",
    "    # Samtools stats\n",
    "    samtools stats ${base}.bam > Results/samtools/${base}_stats.txt\n",
    "\n",
    "    # QUALIMAP analysis\n",
    "    qualimap rnaseq \\\n",
    "        -bam ${base}.bam \\\n",
    "        -gtf /srv/data/meg-m2-rnaseq/Genomes/Mmu/GRCm39/extracted/genome_annotation-M35.gtf \\\n",
    "        --java-mem-size=6G \\\n",
    "        -outdir Results/qualimap/${base}\n",
    "done"
   ]
  },
  {
   "cell_type": "markdown",
   "id": "92d08a78",
   "metadata": {},
   "source": [
    "## MultiQC Report Generation\n",
    "\n",
    "MultiQC combines the quality reports from all samples into a comprehensive report.\n",
    "\n",
    "<div class=\"alert alert-info\">\n",
    "<b>MultiQC Features:</b>\n",
    "- Combines reports from multiple tools\n",
    "- Creates interactive visualizations\n",
    "- Enables easy sample comparison\n",
    "- Generates HTML report\n",
    "\n",
    "<b>Input Sources:</b>\n",
    "- samtools stats results\n",
    "- QUALIMAP RNA-seq reports\n",
    "</div>\n"
   ]
  },
  {
   "cell_type": "code",
   "execution_count": null,
   "id": "e2ccd189",
   "metadata": {},
   "outputs": [],
   "source": [
    "# Generate MultiQC report\n",
    "echo \"Generating MultiQC report...\"\n",
    "multiqc \\\n",
    "    Results/samtools/ \\\n",
    "    Results/qualimap/ \\\n",
    "    -o Results/multiqc/ \\\n",
    "    --title \"Mouse RNA-seq Quality Report\" \\\n",
    "    --comment \"Generated for PS4-2024 course\"\n"
   ]
  },
  {
   "cell_type": "markdown",
   "id": "ad1a277a",
   "metadata": {},
   "source": [
    "\n",
    "## Progressive Loop Building for Qualimap Analysis\n",
    "\n",
    "In this section, we'll build a loop to run Qualimap on all samples step by step. This approach helps understand how to automate repetitive tasks in bash.\n",
    "\n",
    "### Step 1: Understanding the Basic Command\n",
    "First, let's look at the basic Qualimap command we used for a single sample:\n"
   ]
  },
  {
   "cell_type": "code",
   "execution_count": null,
   "id": "58fbbfd7",
   "metadata": {},
   "outputs": [],
   "source": [
    "# Example for a single sample\n",
    "qualimap bamqc     -bam Results/samtools/sample1_sorted.bam     -outdir Results/qualimap/sample1     --java-mem-size=6G"
   ]
  },
  {
   "cell_type": "markdown",
   "id": "808abbe8",
   "metadata": {},
   "source": [
    "\n",
    "### Step 2: Identifying Variable Parts\n",
    "In the command above, we can identify two main parts that change for each sample:\n",
    "1. Input BAM file path (`Results/samtools/sample1_sorted.bam`)\n",
    "2. Output directory path (`Results/qualimap/sample1`)\n",
    "\n",
    "The sample name is the key variable that changes in both paths.\n"
   ]
  },
  {
   "cell_type": "markdown",
   "id": "fba399f7",
   "metadata": {},
   "source": [
    "\n",
    "### Step 3: Creating a List of Sample Names\n",
    "First, we'll create a list of our sample names. We can do this by listing the sorted BAM files and extracting the sample names:\n"
   ]
  },
  {
   "cell_type": "code",
   "execution_count": null,
   "id": "b56b8215",
   "metadata": {},
   "outputs": [],
   "source": [
    "# List sample names\n",
    "ls Results/samtools/*_sorted.bam | sed 's|Results/samtools/||' | sed 's|_sorted.bam||'"
   ]
  },
  {
   "cell_type": "markdown",
   "id": "7aa38bec",
   "metadata": {},
   "source": [
    "\n",
    "### Step 4: Building the Loop - Basic Structure\n",
    "Now, let's create a simple loop structure that will iterate over our samples:\n"
   ]
  },
  {
   "cell_type": "code",
   "execution_count": null,
   "id": "dcb5528e",
   "metadata": {},
   "outputs": [],
   "source": [
    "# Basic loop structure\n",
    "for sample in $(ls Results/samtools/*_sorted.bam | sed 's|Results/samtools/||' | sed 's|_sorted.bam||')\n",
    "do\n",
    "    echo \"Processing sample: $sample\"\n",
    "done"
   ]
  },
  {
   "cell_type": "markdown",
   "id": "35f7f78b",
   "metadata": {},
   "source": [
    "\n",
    "### Step 5: Adding the Qualimap Command\n",
    "Now we'll add the Qualimap command inside our loop, using variables for the sample-specific parts:\n"
   ]
  },
  {
   "cell_type": "code",
   "execution_count": null,
   "id": "88f7688d",
   "metadata": {},
   "outputs": [],
   "source": [
    "# Complete loop with Qualimap command\n",
    "for sample in $(ls Results/samtools/*_sorted.bam | sed 's|Results/samtools/||' | sed 's|_sorted.bam||')\n",
    "do\n",
    "    echo \"Processing sample: $sample\"\n",
    "\n",
    "    # Create output directory if it doesn't exist\n",
    "    mkdir -p Results/qualimap/${sample}\n",
    "\n",
    "    # Run Qualimap\n",
    "    qualimap bamqc         -bam Results/samtools/${sample}_sorted.bam         -outdir Results/qualimap/${sample}         --java-mem-size=6G\n",
    "done"
   ]
  },
  {
   "cell_type": "markdown",
   "id": "e8ee9df9",
   "metadata": {},
   "source": [
    "\n",
    "### Important Notes:\n",
    "1. The `mkdir -p` command ensures our output directory exists\n",
    "2. We use `${sample}` to clearly separate the variable name in the paths\n",
    "3. The `--java-mem-size=6G` parameter is important due to the memory constraints (6GB per student)\n",
    "4. Using `echo` statements helps track progress during execution\n",
    "\n",
    "### Exercise for Students:\n",
    "Try modifying the loop to:\n",
    "1. Add error checking\n",
    "2. Include progress percentage\n",
    "3. Save a log file of the analysis\n"
   ]
  }
 ],
 "metadata": {},
 "nbformat": 4,
 "nbformat_minor": 5
}
